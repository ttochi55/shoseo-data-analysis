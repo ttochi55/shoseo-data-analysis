{
 "metadata": {
  "language_info": {
   "codemirror_mode": {
    "name": "ipython",
    "version": 3
   },
   "file_extension": ".py",
   "mimetype": "text/x-python",
   "name": "python",
   "nbconvert_exporter": "python",
   "pygments_lexer": "ipython3",
   "version": "3.8.3-final"
  },
  "orig_nbformat": 2,
  "kernelspec": {
   "name": "python3",
   "display_name": "Python 3"
  }
 },
 "nbformat": 4,
 "nbformat_minor": 2,
 "cells": [
  {
   "source": [
    "# 연습문제 - 09.Sqlite3.pdf"
   ],
   "cell_type": "markdown",
   "metadata": {}
  },
  {
   "source": [
    "투수들의 기록중에서 평균자책점(ERA), 투구인닝(IP), 탈삼진(SO) 기록을 찾아서\n",
    "Pitcher_stats 란 테이블을 만들고, Eagles 테이블과 Join 하여 백넘버, 선수명, 포지션,\n",
    "투구인닝, 평균자책점, 탈삼진 필드를 갖는 데이터 프레임을 만들어서 Join 한 결과를 입력하고, 그 결과를 보이시오."
   ],
   "cell_type": "markdown",
   "metadata": {}
  },
  {
   "cell_type": "code",
   "execution_count": 90,
   "metadata": {},
   "outputs": [],
   "source": [
    "conn = sqlite3.connect('./test.db')"
   ]
  },
  {
   "cell_type": "code",
   "execution_count": 91,
   "metadata": {},
   "outputs": [],
   "source": [
    "cur = conn.cursor()\n",
    "\n",
    "cur.execute(\"\"\"\n",
    "create table if not exists Pitcher_stats (\n",
    "  id integer primary key autoincrement,\n",
    "  name text not null,\n",
    "  ERA integer not null,\n",
    "  IP integer not null,\n",
    "  SO integer not null\n",
    ");\n",
    "\"\"\")\n",
    "conn.commit()\n",
    "\n",
    "rows = (\n",
    "    ('서균', 0.00, 7, 1), \n",
    "    ('윤대경', 1.59, 51, 42), \n",
    "    ('강재민', 2.57, 49, 57),\n",
    "    ('김진영', 3.33, 54, 56),\n",
    "    ('장웅정', 3.52, 7, 5),\n",
    ")\n",
    "cur.executemany(\"insert into Pitcher_stats(name, ERA, IP, SO) values(?, ?, ?, ?)\", rows)\n",
    "conn.commit()"
   ]
  },
  {
   "cell_type": "code",
   "execution_count": 92,
   "metadata": {},
   "outputs": [],
   "source": [
    "cur = conn.cursor()\n",
    "\n",
    "cur.execute(\"\"\"\n",
    "create table if not exists Eagles (\n",
    "  id integer primary key autoincrement,\n",
    "  name text not null,\n",
    "  backnumber integer not null,\n",
    "  position text not null\n",
    ");\n",
    "\"\"\")\n",
    "conn.commit()\n",
    "\n",
    "rows = (\n",
    "    ('서균', 10, '투수'), \n",
    "    ('윤대경', 11, '투수'), \n",
    "    ('강재민', 12, '투수'),\n",
    "    ('김진영', 13, '투수'),\n",
    "    ('장웅정', 14, '투수'),\n",
    ")\n",
    "cur.executemany(\"insert into Eagles(name, backnumber, position) values(?, ?, ?)\", rows)\n",
    "conn.commit()"
   ]
  },
  {
   "cell_type": "code",
   "execution_count": 107,
   "metadata": {},
   "outputs": [
    {
     "output_type": "stream",
     "name": "stdout",
     "text": [
      "('이름', '백넘버', '포지션', 'ERA', 'IP', 'SO')\n('서균', 10, '투수', 0, 7, 1)\n('윤대경', 11, '투수', 1.59, 51, 42)\n('강재민', 12, '투수', 2.57, 49, 57)\n('김진영', 13, '투수', 3.33, 54, 56)\n('장웅정', 14, '투수', 3.52, 7, 5)\n"
     ]
    }
   ],
   "source": [
    "cur = conn.cursor()\n",
    "\n",
    "cur.execute(\"\"\"\n",
    "select e.name, e.backnumber, e.position, p.ERA, p.IP, p.SO\n",
    "from Eagles as e \n",
    "join Pitcher_stats as p \n",
    "on e.name=p.name  \n",
    "\"\"\")\n",
    "\n",
    "rows = cur.fetchall()\n",
    "fields = ('이름', '백넘버', '포지션', 'ERA', 'IP', 'SO')\n",
    "print(fields)\n",
    "for row in rows:\n",
    "    print(row)"
   ]
  },
  {
   "cell_type": "code",
   "execution_count": 108,
   "metadata": {},
   "outputs": [],
   "source": [
    "conn.close()"
   ]
  },
  {
   "source": [
    "다음의 지시대로 DB 테이블을 만들고 이를 조회하는 프로그램을 만드시오.\n",
    "\n",
    "1. 국내의 대표적인 걸그룹 또는 보이그룹 5개 이상에 대하여 다음과 같은 정보를 갖는\n",
    "테이블을 만드시오. \\*는 Primary Key   \n",
    "id(\\*), group_name, 구성원 수, 데뷔일자, 소속사\n",
    "\n",
    "2. 이들이 불렀던 노래 또는 다른 사람이 불렀던 노래 10곡 이상에 대하여 다음의 정보\n",
    "를 갖는 테이블을 만드시오.   \n",
    "song_id(\\*), song_name, 그룹 id, 발표년도, 작곡가, 도입부 가사\n",
    "\n",
    "3. 위 두개의 테이블을 조인한 결과를 가지고 다음의 필드를 갖는 데이터 프레임을 만드\n",
    "시오.   \n",
    "그룹 이름, 구성원 수, 데뷔 일자, 노래 이름, 발표 년도"
   ],
   "cell_type": "markdown",
   "metadata": {}
  },
  {
   "cell_type": "code",
   "execution_count": 110,
   "metadata": {},
   "outputs": [],
   "source": [
    "conn = sqlite3.connect('./test.db')"
   ]
  },
  {
   "cell_type": "code",
   "execution_count": 112,
   "metadata": {},
   "outputs": [],
   "source": [
    "cur = conn.cursor()\n",
    "\n",
    "cur.execute(\"\"\"\n",
    "create table if not exists singer (\n",
    "  id integer primary key autoincrement,\n",
    "  group_name text not null,\n",
    "  group_number integer not null,\n",
    "  agency text not null,\n",
    "  debut text not null\n",
    ");\n",
    "\"\"\")\n",
    "conn.commit()\n",
    "\n",
    "rows = (\n",
    "    ('티오오', 10, 'n.CH 엔터테인먼트', 2020), \n",
    "    ('크래비티', 9, '스타쉽 엔터테인먼트', 2020), \n",
    "    ('레드벨벳-아이린&슬기', 2, 'SM 엔터테인먼트', 2020),\n",
    "    ('트레저', 12, 'YG 엔터테인먼트\t', 2020),\n",
    "    ('엔쿠스', 12, '규리엔터테인먼트', 2019),\n",
    ")\n",
    "cur.executemany(\"insert into singer(group_name, group_number, agency, debut) values(?, ?, ?, ?)\", rows)\n",
    "conn.commit()"
   ]
  },
  {
   "cell_type": "code",
   "execution_count": 113,
   "metadata": {},
   "outputs": [
    {
     "output_type": "stream",
     "name": "stdout",
     "text": [
      "(1, '티오오', 10, 'n.CH 엔터테인먼트', '2020')\n(2, '크래비티', 9, '스타쉽 엔터테인먼트', '2020')\n(3, '레드벨벳-아이린&슬기', 2, 'SM 엔터테인먼트', '2020')\n(4, '트레저', 12, 'YG 엔터테인먼트\\t', '2020')\n(5, '엔쿠스', 12, '규리엔터테인먼트', '2019')\n"
     ]
    }
   ],
   "source": [
    "cur.execute(\"select * from singer\")\n",
    "rows = cur.fetchall()\n",
    "for row in rows:\n",
    "    print(row)"
   ]
  },
  {
   "cell_type": "code",
   "execution_count": 117,
   "metadata": {},
   "outputs": [],
   "source": [
    "cur = conn.cursor()\n",
    "\n",
    "cur.execute(\"\"\"\n",
    "create table if not exists song (\n",
    "  song_id integer primary key autoincrement,\n",
    "  song_name text not null,\n",
    "  group_id integer not null,\n",
    "  release text not null,\n",
    "  writer text not null,\n",
    "  lyrics text not null\n",
    ");\n",
    "\"\"\")\n",
    "conn.commit()\n",
    "\n",
    "rows = (\n",
    "    ('하나 둘 세고', 1, '2020-07-15', 'MonoTree', \"이 세상 어디에 있든 난 언제든지 You for you 너만을 위한 Show를 보여줄게 단 하나뿐인 Stage Only one for you 너와 나 단둘만의 누가 뭐라든 간에 너라면은 없던 시간도\"),\n",
    "    ('Flame', 2, '2020-08-24', 'Blair Taylor', \"끝없이 오른 열기 번지는 뜨거움 흐릿해지는 현실 선명한 이건 꿈 더욱 깊이 파고드는 fire in the air 낯선 이끌림, 깨지 않는 dream, what is happening\"), \n",
    "    ('Monster', 3, '2020-07-06', '유영진', \"내 움직임은 특이해 평범치 않아 1 2 5 to 7 난 어둠 속의 Dancer 온몸 뚝뚝 꺾어 침대 가까이 갈게 무시무시하게\"),\n",
    "    ('사랑해 (I LOVE YOU)', 4, '2020-09-18', 'R.Tee', \"떠올린 네 생각에 머리가 좀 복잡해 깨질 것만 같아 가득한 Fantasy 궁금한 Mystery 제발 힌트를 줘 사소한 것 하나까지 널 따라해\"),\n",
    "    ('SUPER LUV', 5, '2019-08-27', '비오 (B.O.)', \"칠흑같이 어두운 오늘 밤 너를 데려갈래 지금 Now 너만을 향해 너라는 바다를 항해 고장 난 Break는 멈출 수가 없어 더 더 빠져들어가 너 너라는 섬으로 좀 더 깊게 물들어가게\"),\n",
    ")\n",
    "cur.executemany(\"insert into song(song_name, group_id, release, writer, lyrics) values(?, ?, ?, ?, ?)\", rows)\n",
    "conn.commit()"
   ]
  },
  {
   "cell_type": "code",
   "execution_count": 118,
   "metadata": {},
   "outputs": [
    {
     "output_type": "stream",
     "name": "stdout",
     "text": [
      "(1, '하나 둘 세고', 1, '2020-07-15', 'MonoTree', '이 세상 어디에 있든 난 언제든지 You for you 너만을 위한 Show를 보여줄게 단 하나뿐인 Stage Only one for you 너와 나 단둘만의 누가 뭐라든 간에 너라면은 없던 시간도')\n(2, 'Flame', 2, '2020-08-24', 'Blair Taylor', '끝없이 오른 열기 번지는 뜨거움 흐릿해지는 현실 선명한 이건 꿈 더욱 깊이 파고드는 fire in the air 낯선 이끌림, 깨지 않는 dream, what is happening')\n(3, 'Monster', 3, '2020-07-06', '유영진', '내 움직임은 특이해 평범치 않아 1 2 5 to 7 난 어둠 속의 Dancer 온몸 뚝뚝 꺾어 침대 가까이 갈게 무시무시하게')\n(4, '사랑해 (I LOVE YOU)', 4, '2020-09-18', 'R.Tee', '떠올린 네 생각에 머리가 좀 복잡해 깨질 것만 같아 가득한 Fantasy 궁금한 Mystery 제발 힌트를 줘 사소한 것 하나까지 널 따라해')\n(5, 'SUPER LUV', 5, '2019-08-27', '비오 (B.O.)', '칠흑같이 어두운 오늘 밤 너를 데려갈래 지금 Now 너만을 향해 너라는 바다를 항해 고장 난 Break는 멈출 수가 없어 더 더 빠져들어가 너 너라는 섬으로 좀 더 깊게 물들어가게')\n"
     ]
    }
   ],
   "source": [
    "cur.execute(\"select * from song\")\n",
    "rows = cur.fetchall()\n",
    "for row in rows:\n",
    "    print(row)"
   ]
  },
  {
   "cell_type": "code",
   "execution_count": 119,
   "metadata": {},
   "outputs": [
    {
     "output_type": "stream",
     "name": "stdout",
     "text": [
      "('그룹 이름', '구성원 수', '데뷔 일자', '노래 이름', '발표 년도')\n('티오오', 10, '2020', '하나 둘 세고', '2020-07-15')\n('크래비티', 9, '2020', 'Flame', '2020-08-24')\n('레드벨벳-아이린&슬기', 2, '2020', 'Monster', '2020-07-06')\n('트레저', 12, '2020', '사랑해 (I LOVE YOU)', '2020-09-18')\n('엔쿠스', 12, '2019', 'SUPER LUV', '2019-08-27')\n"
     ]
    }
   ],
   "source": [
    "cur = conn.cursor()\n",
    "\n",
    "cur.execute(\"\"\"\n",
    "select sr.group_name, sr.group_number, sr.debut, so.song_name, so.release\n",
    "from singer as sr\n",
    "join song as so\n",
    "on sr.id=so.group_id  \n",
    "\"\"\")\n",
    "\n",
    "rows = cur.fetchall()\n",
    "fields = ('그룹 이름', '구성원 수', '데뷔 일자', '노래 이름', '발표 년도')\n",
    "print(fields)\n",
    "for row in rows:\n",
    "    print(row)"
   ]
  },
  {
   "cell_type": "code",
   "execution_count": 120,
   "metadata": {},
   "outputs": [],
   "source": [
    "conn.close()"
   ]
  },
  {
   "source": [
    "사용자의 이름과, 비밀번호를 갖는 Users 테이블이 있다. 사용자의 이름과 비밀번호를 올바르게 입력하면 ‘성공’을 출력하고, 잘못 입력하면 ‘실패’를 출력하는 프로그램을 작성하시오."
   ],
   "cell_type": "markdown",
   "metadata": {}
  },
  {
   "cell_type": "code",
   "execution_count": 122,
   "metadata": {},
   "outputs": [],
   "source": [
    "conn = sqlite3.connect('./test.db')"
   ]
  },
  {
   "cell_type": "code",
   "execution_count": 124,
   "metadata": {},
   "outputs": [],
   "source": [
    "cur = conn.cursor()\n",
    "\n",
    "cur.execute(\"\"\"\n",
    "create table if not exists Users (\n",
    "  id integer primary key autoincrement,\n",
    "  uid text not null,\n",
    "  pwd text not null\n",
    ");\n",
    "\"\"\")\n",
    "conn.commit()\n",
    "\n",
    "rows = (\n",
    "    ('a', '123'),\n",
    "    ('b', '456'),\n",
    ")\n",
    "cur.executemany(\"insert into Users(uid, pwd) values(?, ?)\", rows)\n",
    "conn.commit()"
   ]
  },
  {
   "cell_type": "code",
   "execution_count": 158,
   "metadata": {},
   "outputs": [
    {
     "output_type": "stream",
     "name": "stdout",
     "text": [
      "성공\n"
     ]
    }
   ],
   "source": [
    "uid, pwd = input().split()\n",
    "\n",
    "cur = conn.cursor()\n",
    "cur.execute('select uid, pwd from Users where uid=?;', (uid,))\n",
    "row = cur.fetchone()\n",
    "\n",
    "try:\n",
    "    if uid == row[0] and pwd == row[1]:\n",
    "        print('성공')\n",
    "    else:\n",
    "        print('실패')\n",
    "except Exception as e:\n",
    "    print('실패')"
   ]
  },
  {
   "cell_type": "code",
   "execution_count": 159,
   "metadata": {},
   "outputs": [],
   "source": [
    "conn.close()"
   ]
  }
 ]
}