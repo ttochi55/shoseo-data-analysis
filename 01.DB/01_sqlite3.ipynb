{
 "metadata": {
  "language_info": {
   "codemirror_mode": {
    "name": "ipython",
    "version": 3
   },
   "file_extension": ".py",
   "mimetype": "text/x-python",
   "name": "python",
   "nbconvert_exporter": "python",
   "pygments_lexer": "ipython3",
   "version": "3.8.3-final"
  },
  "orig_nbformat": 2,
  "kernelspec": {
   "name": "python3",
   "display_name": "Python 3"
  }
 },
 "nbformat": 4,
 "nbformat_minor": 2,
 "cells": [
  {
   "source": [
    "# SQLite3 활용"
   ],
   "cell_type": "markdown",
   "metadata": {}
  },
  {
   "source": [
    "### 접속\n",
    "\n",
    "```\n",
    "import sqlite3\n",
    "conn = sqlite3.connect('./test.db')\n",
    "# db access\n",
    "conn.close()\n",
    "```"
   ],
   "cell_type": "markdown",
   "metadata": {}
  },
  {
   "cell_type": "code",
   "execution_count": 4,
   "metadata": {},
   "outputs": [
    {
     "output_type": "stream",
     "name": "stdout",
     "text": [
      "(1, '홍길동')\n(2, '대조영')\n"
     ]
    }
   ],
   "source": [
    "import sqlite3\n",
    "conn = sqlite3.connect('./test.db')\n",
    "cur = conn.cursor()\n",
    "cur.execute('select * from test;')\n",
    "rows = cur.fetchall()\n",
    "for row in rows:\n",
    "    print(row)\n",
    "conn.close()"
   ]
  },
  {
   "cell_type": "code",
   "execution_count": 5,
   "metadata": {},
   "outputs": [
    {
     "output_type": "stream",
     "name": "stdout",
     "text": [
      "(1, '홍길동')\n(2, '대조영')\n"
     ]
    }
   ],
   "source": [
    "conn = sqlite3.connect('./test.db')\n",
    "with conn:\n",
    "    cur = conn.cursor()\n",
    "    cur.execute('select * from test;')\n",
    "    rows = cur.fetchall()\n",
    "    for row in rows:\n",
    "        print(row)"
   ]
  },
  {
   "cell_type": "code",
   "execution_count": 6,
   "metadata": {},
   "outputs": [],
   "source": [
    "conn = sqlite3.connect('./test.db')\n",
    "cur = conn.cursor()"
   ]
  },
  {
   "cell_type": "code",
   "execution_count": 11,
   "metadata": {},
   "outputs": [],
   "source": [
    "# 테이블 구조 변경\n",
    "sql = 'alter table test add column age integer;'\n",
    "cur.execute(sql)\n",
    "# 변경사항 저장\n",
    "conn.commit()"
   ]
  },
  {
   "source": [
    "### 데이터 삽입"
   ],
   "cell_type": "markdown",
   "metadata": {}
  },
  {
   "cell_type": "code",
   "execution_count": 12,
   "metadata": {},
   "outputs": [],
   "source": [
    "cur = conn.cursor()\n",
    "sql = \"insert into test(name, age) values('장보고', 1000);\"\n",
    "cur.execute(sql)\n",
    "conn.commit()"
   ]
  },
  {
   "cell_type": "code",
   "execution_count": 13,
   "metadata": {},
   "outputs": [],
   "source": [
    "# 파라미터는 튜플로 전달\n",
    "rows = [('이우정', 40), ('김은숙', 45)]\n",
    "cur = conn.cursor()\n",
    "sql = \"insert into test(name, age) values(?, ?);\"\n",
    "for row in rows:\n",
    "    cur.execute(sql, row)\n",
    "conn.commit()"
   ]
  },
  {
   "cell_type": "code",
   "execution_count": 14,
   "metadata": {},
   "outputs": [],
   "source": [
    "cur.execute(sql, ('김수현', 60))\n",
    "conn.commit()"
   ]
  },
  {
   "cell_type": "code",
   "execution_count": 16,
   "metadata": {},
   "outputs": [],
   "source": [
    "rows = (('노희경', 30),('송지나', 35),('임성한', 40))\n",
    "cur.executemany(sql, rows)\n",
    "conn.commit()"
   ]
  },
  {
   "cell_type": "code",
   "execution_count": 19,
   "metadata": {},
   "outputs": [],
   "source": [
    "rows = (['노희경', 30],['송지나', 35],['임성한', 40])\n",
    "cur.executemany(sql, rows)\n",
    "conn.commit()"
   ]
  },
  {
   "cell_type": "code",
   "execution_count": 17,
   "metadata": {},
   "outputs": [],
   "source": [
    "rows = [('노희경', 30),('송지나', 35),('임성한', 40)]\n",
    "cur.executemany(sql, rows)\n",
    "conn.commit()"
   ]
  },
  {
   "cell_type": "code",
   "execution_count": 18,
   "metadata": {},
   "outputs": [],
   "source": [
    "rows = [['노희경', 30],['송지나', 35],['임성한', 40]]\n",
    "cur.executemany(sql, rows)\n",
    "conn.commit()"
   ]
  },
  {
   "source": [
    "### 데이터 조회"
   ],
   "cell_type": "markdown",
   "metadata": {}
  },
  {
   "cell_type": "code",
   "execution_count": 30,
   "metadata": {},
   "outputs": [
    {
     "output_type": "stream",
     "name": "stdout",
     "text": [
      "(1, '홍길동', None)\n"
     ]
    }
   ],
   "source": [
    "# 단건 조회\n",
    "cur = conn.cursor()\n",
    "select_sql = 'select * from test;'\n",
    "cur.execute(select_sql)\n",
    "row = cur.fetchone()\n",
    "print(row)"
   ]
  },
  {
   "cell_type": "code",
   "execution_count": 31,
   "metadata": {},
   "outputs": [
    {
     "output_type": "stream",
     "name": "stdout",
     "text": [
      "(2, '대조영', None)\n(3, '장보고', 1000)\n(4, '이우정', 40)\n"
     ]
    }
   ],
   "source": [
    "# 여러건 조회\n",
    "rows = cur.fetchmany(3)\n",
    "for row in rows:\n",
    "    print(row)"
   ]
  },
  {
   "cell_type": "code",
   "execution_count": 32,
   "metadata": {},
   "outputs": [
    {
     "output_type": "stream",
     "name": "stdout",
     "text": [
      "(5, '김은숙', 45)\n(6, '김수현', 60)\n"
     ]
    }
   ],
   "source": [
    "rows = cur.fetchmany(2)\n",
    "for row in rows:\n",
    "    print(row)"
   ]
  },
  {
   "cell_type": "code",
   "execution_count": 33,
   "metadata": {},
   "outputs": [
    {
     "output_type": "stream",
     "name": "stdout",
     "text": [
      "(7, '노희경', 30)\n(8, '송지나', 35)\n(9, '임성한', 40)\n(13, '노희경', 30)\n(14, '송지나', 35)\n(15, '임성한', 40)\n(16, '노희경', 30)\n(17, '송지나', 35)\n(18, '임성한', 40)\n(19, '노희경', 30)\n(20, '송지나', 35)\n(21, '임성한', 40)\n"
     ]
    }
   ],
   "source": [
    "rows = cur.fetchall()\n",
    "for row in rows:\n",
    "    print(row)"
   ]
  },
  {
   "cell_type": "code",
   "execution_count": 63,
   "metadata": {},
   "outputs": [
    {
     "output_type": "stream",
     "name": "stdout",
     "text": [
      "(1, '홍길동', 300)\n(2, '대조영', 500)\n(3, '장보고', 1000)\n(4, '이우정', 40)\n(5, '김은숙', 45)\n(6, '김수현', 60)\n(7, '노희경', 30)\n(8, '송지나', 35)\n(9, '임성한', 40)\n(13, '노희경', 30)\n(14, '송지나', 35)\n(15, '임성한', 40)\n(16, '노희경', 30)\n(17, '송지나', 35)\n(18, '임성한', 40)\n(19, '노희경', 30)\n(20, '송지나', 35)\n(21, '임성한', 40)\n"
     ]
    }
   ],
   "source": [
    "# 모두 조회\n",
    "conn = sqlite3.connect('./test.db')\n",
    "select_sql = 'select * from test;'\n",
    "cur = conn.cursor()\n",
    "cur.execute(select_sql)\n",
    "rows = cur.fetchall()\n",
    "for row in rows:\n",
    "    print(row)\n",
    "conn.close()"
   ]
  },
  {
   "cell_type": "code",
   "execution_count": 62,
   "metadata": {},
   "outputs": [
    {
     "output_type": "stream",
     "name": "stdout",
     "text": [
      "(1, '홍길동', 300)\n(2, '대조영', 500)\n(3, '장보고', 1000)\n(4, '이우정', 40)\n(5, '김은숙', 45)\n(6, '김수현', 60)\n(7, '노희경', 30)\n(8, '송지나', 35)\n(9, '임성한', 40)\n(13, '노희경', 30)\n(14, '송지나', 35)\n(15, '임성한', 40)\n(16, '노희경', 30)\n(17, '송지나', 35)\n(18, '임성한', 40)\n(19, '노희경', 30)\n(20, '송지나', 35)\n(21, '임성한', 40)\n"
     ]
    }
   ],
   "source": [
    "# 순회 조회\n",
    "conn = sqlite3.connect('./test.db')\n",
    "cur = conn.cursor()\n",
    "cur.execute(select_sql)\n",
    "for row in cur:\n",
    "    print(row)\n",
    "conn.close()"
   ]
  },
  {
   "cell_type": "code",
   "execution_count": 61,
   "metadata": {},
   "outputs": [
    {
     "output_type": "stream",
     "name": "stdout",
     "text": [
      "('김수현', 60)\n('김은숙', 45)\n('노희경', 30)\n('노희경', 30)\n('노희경', 30)\n('노희경', 30)\n('대조영', 500)\n('송지나', 35)\n('송지나', 35)\n('송지나', 35)\n('송지나', 35)\n('이우정', 40)\n('임성한', 40)\n('임성한', 40)\n('임성한', 40)\n('임성한', 40)\n('장보고', 1000)\n('홍길동', 300)\n"
     ]
    }
   ],
   "source": [
    "# 필요한 컬럼만 조회\n",
    "conn = sqlite3.connect('./test.db')\n",
    "cur = conn.cursor()\n",
    "cur.execute(\"select name, age from test order by name;\")\n",
    "for row in cur:\n",
    "    print(row)\n",
    "conn.close()"
   ]
  },
  {
   "cell_type": "code",
   "execution_count": 70,
   "metadata": {},
   "outputs": [
    {
     "output_type": "stream",
     "name": "stdout",
     "text": [
      "[(3, '장보고', 1000), (2, '대조영', 500), (1, '홍길동', 300)]\n"
     ]
    }
   ],
   "source": [
    "# 원하는 순서 및 갯수\n",
    "conn = sqlite3.connect('./test.db')\n",
    "cur = conn.cursor()\n",
    "cur.execute(\"select * from test order by age desc, name limit 3;\")\n",
    "rows = cur.fetchall()\n",
    "print(rows)\n",
    "conn.close()"
   ]
  },
  {
   "cell_type": "code",
   "execution_count": 57,
   "metadata": {},
   "outputs": [
    {
     "output_type": "stream",
     "name": "stdout",
     "text": [
      "(18,) 18\n"
     ]
    }
   ],
   "source": [
    "# 함수\n",
    "conn = sqlite3.connect('./test.db')\n",
    "cur = conn.cursor()\n",
    "cur.execute(\"select count(*) from test;\")\n",
    "count = cur.fetchone()\n",
    "print(count, count[0])\n",
    "conn.close()"
   ]
  },
  {
   "cell_type": "code",
   "execution_count": 58,
   "metadata": {},
   "outputs": [
    {
     "output_type": "stream",
     "name": "stdout",
     "text": [
      "(1000, 30, 2365, 131.38888888888889)\n"
     ]
    }
   ],
   "source": [
    "conn = sqlite3.connect('./test.db')\n",
    "cur = conn.cursor()\n",
    "cur.execute(\"select max(age), min(age), sum(age), avg(age) from test;\")\n",
    "row = cur.fetchone()\n",
    "print(row)\n",
    "conn.close()"
   ]
  },
  {
   "cell_type": "code",
   "execution_count": 71,
   "metadata": {},
   "outputs": [
    {
     "output_type": "stream",
     "name": "stdout",
     "text": [
      "1000 30 2365 131.38888888888889\n"
     ]
    }
   ],
   "source": [
    "# 언팩킹\n",
    "conn = sqlite3.connect('./test.db')\n",
    "cur = conn.cursor()\n",
    "cur.execute(\"select max(age), min(age), sum(age), avg(age) from test;\")\n",
    "max_age, min_age, sum_age, avg_age = cur.fetchone()\n",
    "print(max_age, min_age, sum_age, avg_age)\n",
    "conn.close()"
   ]
  },
  {
   "source": [
    "### 검색"
   ],
   "cell_type": "markdown",
   "metadata": {}
  },
  {
   "cell_type": "code",
   "execution_count": 78,
   "metadata": {},
   "outputs": [
    {
     "output_type": "stream",
     "name": "stdout",
     "text": [
      "(7, '노희경', 30)\n(8, '송지나', 35)\n(13, '노희경', 30)\n(14, '송지나', 35)\n(16, '노희경', 30)\n(17, '송지나', 35)\n(19, '노희경', 30)\n(20, '송지나', 35)\n"
     ]
    }
   ],
   "source": [
    "conn = sqlite3.connect('./test.db')\n",
    "cur = conn.cursor()\n",
    "cur.execute(\"select * from test where age < ?;\", (40,))\n",
    "rows = cur.fetchall()\n",
    "for row in rows:\n",
    "    print(row)\n",
    "conn.close()"
   ]
  },
  {
   "source": [
    "### 데이터 변경"
   ],
   "cell_type": "markdown",
   "metadata": {}
  },
  {
   "cell_type": "code",
   "execution_count": 83,
   "metadata": {},
   "outputs": [
    {
     "output_type": "stream",
     "name": "stdout",
     "text": [
      "(2, '대조영', 1300)\n"
     ]
    }
   ],
   "source": [
    "conn = sqlite3.connect('./test.db')\n",
    "cur = conn.cursor()\n",
    "cur.execute(\"update test set age=1300 where id=2;\")\n",
    "conn.commit()\n",
    "# 변경된 데이터 조회\n",
    "cur.execute(\"select * from test where id=2;\")\n",
    "row = cur.fetchone()\n",
    "print(row)\n",
    "conn.close()"
   ]
  },
  {
   "source": [
    "### 데이터 삭제"
   ],
   "cell_type": "markdown",
   "metadata": {}
  },
  {
   "cell_type": "code",
   "execution_count": 85,
   "metadata": {},
   "outputs": [],
   "source": [
    "conn = sqlite3.connect('./test.db')\n",
    "cur = conn.cursor()\n",
    "cur.execute(\"delete from test where id=6;\")\n",
    "conn.commit()\n",
    "conn.close()"
   ]
  }
 ]
}