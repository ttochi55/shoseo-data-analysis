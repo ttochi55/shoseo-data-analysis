{
 "metadata": {
  "language_info": {
   "codemirror_mode": {
    "name": "ipython",
    "version": 3
   },
   "file_extension": ".py",
   "mimetype": "text/x-python",
   "name": "python",
   "nbconvert_exporter": "python",
   "pygments_lexer": "ipython3",
   "version": "3.8.3-final"
  },
  "orig_nbformat": 2,
  "kernelspec": {
   "name": "python3",
   "display_name": "Python 3"
  }
 },
 "nbformat": 4,
 "nbformat_minor": 2,
 "cells": [
  {
   "source": [
    "# MySQL"
   ],
   "cell_type": "markdown",
   "metadata": {}
  },
  {
   "source": [
    "## Installation\n",
    "```\n",
    "$ pip install PyMySQL\n",
    "```"
   ],
   "cell_type": "markdown",
   "metadata": {}
  },
  {
   "source": [
    "## Import\n",
    "```\n",
    "import pymysql\n",
    "```"
   ],
   "cell_type": "markdown",
   "metadata": {}
  },
  {
   "source": [
    "## Usage\n",
    "```\n",
    "db = pymysql.connect(\n",
    "    db = 'dbname', \n",
    "    user = 'dbuser', \n",
    "    passwd = 'dbpass', \n",
    "    host = '127.0.0.1',\n",
    "    charset = 'utf8'\n",
    ")\n",
    "```"
   ],
   "cell_type": "markdown",
   "metadata": {}
  },
  {
   "cell_type": "code",
   "execution_count": 12,
   "metadata": {},
   "outputs": [],
   "source": [
    "import pymysql\n",
    "db = pymysql.connect(\n",
    "    db = \"world\",\n",
    "    user = \"hsuser\",\n",
    "    password = \"hspass\",\n",
    "    host = \"localhost\",\n",
    "    charset = 'utf8'\n",
    ")"
   ]
  },
  {
   "cell_type": "code",
   "execution_count": 13,
   "metadata": {
    "tags": []
   },
   "outputs": [
    {
     "output_type": "stream",
     "name": "stdout",
     "text": [
      "{'uid': 'a', 'pwd': 'ypeBEsobvcr6wjGzmiPcTaeG7/gUfE5yuYB3ha/uSLs=', 'uname': '', 'tel': '', 'email': '', 'regDate': datetime.datetime(2020, 10, 27, 9, 13, 31), 'isDeleted': 0, 'photo': 'undefined'}\n{'uid': 'admin', 'pwd': 'A6xnQhbz4Vx2HuGl4lXwZ5U2I8iziLRFnhP5eNfIRvQ=', 'uname': '관리자', 'tel': '', 'email': '', 'regDate': datetime.datetime(2020, 10, 22, 18, 54, 4), 'isDeleted': 0, 'photo': ''}\n{'uid': 'admin1', 'pwd': 'A6xnQhbz4Vx2HuGl4lXwZ5U2I8iziLRFnhP5eNfIRvQ=', 'uname': '관리자1', 'tel': '010-2345-6789', 'email': 'admin1@hoseo.com', 'regDate': datetime.datetime(2020, 10, 22, 11, 7, 11), 'isDeleted': 0, 'photo': '/upload/blank1.png'}\n{'uid': 'admin10', 'pwd': '', 'uname': '관리자102', 'tel': '010-2345-6789', 'email': 'admin10@hoseo.com', 'regDate': datetime.datetime(2020, 10, 22, 11, 7, 25), 'isDeleted': 0, 'photo': ''}\n{'uid': 'admin11', 'pwd': '', 'uname': '관리자1', 'tel': '010-2345-6789', 'email': 'admin11@hoseo.com', 'regDate': datetime.datetime(2020, 10, 22, 11, 7, 25), 'isDeleted': 0, 'photo': ''}\n{'uid': 'admin12', 'pwd': 'A6xnQhbz4Vx2HuGl4lXwZ5U2I8iziLRFnhP5eNfIRvQ=', 'uname': '관리자12', 'tel': '010-2345-6789', 'email': 'admin12@hoseo.com', 'regDate': datetime.datetime(2020, 10, 22, 11, 7, 25), 'isDeleted': 0, 'photo': '/upload/blank12.png'}\n{'uid': 'admin13', 'pwd': 'A6xnQhbz4Vx2HuGl4lXwZ5U2I8iziLRFnhP5eNfIRvQ=', 'uname': '관리자13', 'tel': '010-2345-6789', 'email': 'admin13@hoseo.com', 'regDate': datetime.datetime(2020, 10, 22, 11, 7, 25), 'isDeleted': 0, 'photo': '/upload/blank13.png'}\n{'uid': 'admin14', 'pwd': 'A6xnQhbz4Vx2HuGl4lXwZ5U2I8iziLRFnhP5eNfIRvQ=', 'uname': '관리자14', 'tel': '010-2345-6789', 'email': 'admin14@hoseo.com', 'regDate': datetime.datetime(2020, 10, 22, 11, 7, 25), 'isDeleted': 0, 'photo': '/upload/blank14.png'}\n{'uid': 'admin15', 'pwd': 'A6xnQhbz4Vx2HuGl4lXwZ5U2I8iziLRFnhP5eNfIRvQ=', 'uname': '관리자15', 'tel': '010-2345-6789', 'email': 'admin15@hoseo.com', 'regDate': datetime.datetime(2020, 10, 22, 11, 7, 25), 'isDeleted': 0, 'photo': '/upload/blank15.png'}\n{'uid': 'admin16', 'pwd': 'A6xnQhbz4Vx2HuGl4lXwZ5U2I8iziLRFnhP5eNfIRvQ=', 'uname': '관리자16', 'tel': '010-2345-6789', 'email': 'admin16@hoseo.com', 'regDate': datetime.datetime(2020, 10, 22, 11, 7, 25), 'isDeleted': 0, 'photo': '/upload/blank16.png'}\n"
     ]
    }
   ],
   "source": [
    "cursor = db.cursor(pymysql.cursors.DictCursor)\n",
    "cursor.execute(\"SELECT * FROM Users;\")\n",
    "rows = cursor.fetchmany(10)\n",
    "for row in rows:\n",
    "    print(row)"
   ]
  },
  {
   "cell_type": "code",
   "execution_count": 14,
   "metadata": {},
   "outputs": [
    {
     "output_type": "execute_result",
     "data": {
      "text/plain": [
       "       uid                                           pwd   uname  \\\n",
       "0        a  ypeBEsobvcr6wjGzmiPcTaeG7/gUfE5yuYB3ha/uSLs=           \n",
       "1    admin  A6xnQhbz4Vx2HuGl4lXwZ5U2I8iziLRFnhP5eNfIRvQ=     관리자   \n",
       "2   admin1  A6xnQhbz4Vx2HuGl4lXwZ5U2I8iziLRFnhP5eNfIRvQ=    관리자1   \n",
       "3  admin10                                                관리자102   \n",
       "4  admin11                                                  관리자1   \n",
       "5  admin12  A6xnQhbz4Vx2HuGl4lXwZ5U2I8iziLRFnhP5eNfIRvQ=   관리자12   \n",
       "6  admin13  A6xnQhbz4Vx2HuGl4lXwZ5U2I8iziLRFnhP5eNfIRvQ=   관리자13   \n",
       "7  admin14  A6xnQhbz4Vx2HuGl4lXwZ5U2I8iziLRFnhP5eNfIRvQ=   관리자14   \n",
       "8  admin15  A6xnQhbz4Vx2HuGl4lXwZ5U2I8iziLRFnhP5eNfIRvQ=   관리자15   \n",
       "9  admin16  A6xnQhbz4Vx2HuGl4lXwZ5U2I8iziLRFnhP5eNfIRvQ=   관리자16   \n",
       "\n",
       "             tel              email             regDate  isDeleted  \\\n",
       "0                                   2020-10-27 09:13:31          0   \n",
       "1                                   2020-10-22 18:54:04          0   \n",
       "2  010-2345-6789   admin1@hoseo.com 2020-10-22 11:07:11          0   \n",
       "3  010-2345-6789  admin10@hoseo.com 2020-10-22 11:07:25          0   \n",
       "4  010-2345-6789  admin11@hoseo.com 2020-10-22 11:07:25          0   \n",
       "5  010-2345-6789  admin12@hoseo.com 2020-10-22 11:07:25          0   \n",
       "6  010-2345-6789  admin13@hoseo.com 2020-10-22 11:07:25          0   \n",
       "7  010-2345-6789  admin14@hoseo.com 2020-10-22 11:07:25          0   \n",
       "8  010-2345-6789  admin15@hoseo.com 2020-10-22 11:07:25          0   \n",
       "9  010-2345-6789  admin16@hoseo.com 2020-10-22 11:07:25          0   \n",
       "\n",
       "                 photo  \n",
       "0            undefined  \n",
       "1                       \n",
       "2   /upload/blank1.png  \n",
       "3                       \n",
       "4                       \n",
       "5  /upload/blank12.png  \n",
       "6  /upload/blank13.png  \n",
       "7  /upload/blank14.png  \n",
       "8  /upload/blank15.png  \n",
       "9  /upload/blank16.png  "
      ],
      "text/html": "<div>\n<style scoped>\n    .dataframe tbody tr th:only-of-type {\n        vertical-align: middle;\n    }\n\n    .dataframe tbody tr th {\n        vertical-align: top;\n    }\n\n    .dataframe thead th {\n        text-align: right;\n    }\n</style>\n<table border=\"1\" class=\"dataframe\">\n  <thead>\n    <tr style=\"text-align: right;\">\n      <th></th>\n      <th>uid</th>\n      <th>pwd</th>\n      <th>uname</th>\n      <th>tel</th>\n      <th>email</th>\n      <th>regDate</th>\n      <th>isDeleted</th>\n      <th>photo</th>\n    </tr>\n  </thead>\n  <tbody>\n    <tr>\n      <th>0</th>\n      <td>a</td>\n      <td>ypeBEsobvcr6wjGzmiPcTaeG7/gUfE5yuYB3ha/uSLs=</td>\n      <td></td>\n      <td></td>\n      <td></td>\n      <td>2020-10-27 09:13:31</td>\n      <td>0</td>\n      <td>undefined</td>\n    </tr>\n    <tr>\n      <th>1</th>\n      <td>admin</td>\n      <td>A6xnQhbz4Vx2HuGl4lXwZ5U2I8iziLRFnhP5eNfIRvQ=</td>\n      <td>관리자</td>\n      <td></td>\n      <td></td>\n      <td>2020-10-22 18:54:04</td>\n      <td>0</td>\n      <td></td>\n    </tr>\n    <tr>\n      <th>2</th>\n      <td>admin1</td>\n      <td>A6xnQhbz4Vx2HuGl4lXwZ5U2I8iziLRFnhP5eNfIRvQ=</td>\n      <td>관리자1</td>\n      <td>010-2345-6789</td>\n      <td>admin1@hoseo.com</td>\n      <td>2020-10-22 11:07:11</td>\n      <td>0</td>\n      <td>/upload/blank1.png</td>\n    </tr>\n    <tr>\n      <th>3</th>\n      <td>admin10</td>\n      <td></td>\n      <td>관리자102</td>\n      <td>010-2345-6789</td>\n      <td>admin10@hoseo.com</td>\n      <td>2020-10-22 11:07:25</td>\n      <td>0</td>\n      <td></td>\n    </tr>\n    <tr>\n      <th>4</th>\n      <td>admin11</td>\n      <td></td>\n      <td>관리자1</td>\n      <td>010-2345-6789</td>\n      <td>admin11@hoseo.com</td>\n      <td>2020-10-22 11:07:25</td>\n      <td>0</td>\n      <td></td>\n    </tr>\n    <tr>\n      <th>5</th>\n      <td>admin12</td>\n      <td>A6xnQhbz4Vx2HuGl4lXwZ5U2I8iziLRFnhP5eNfIRvQ=</td>\n      <td>관리자12</td>\n      <td>010-2345-6789</td>\n      <td>admin12@hoseo.com</td>\n      <td>2020-10-22 11:07:25</td>\n      <td>0</td>\n      <td>/upload/blank12.png</td>\n    </tr>\n    <tr>\n      <th>6</th>\n      <td>admin13</td>\n      <td>A6xnQhbz4Vx2HuGl4lXwZ5U2I8iziLRFnhP5eNfIRvQ=</td>\n      <td>관리자13</td>\n      <td>010-2345-6789</td>\n      <td>admin13@hoseo.com</td>\n      <td>2020-10-22 11:07:25</td>\n      <td>0</td>\n      <td>/upload/blank13.png</td>\n    </tr>\n    <tr>\n      <th>7</th>\n      <td>admin14</td>\n      <td>A6xnQhbz4Vx2HuGl4lXwZ5U2I8iziLRFnhP5eNfIRvQ=</td>\n      <td>관리자14</td>\n      <td>010-2345-6789</td>\n      <td>admin14@hoseo.com</td>\n      <td>2020-10-22 11:07:25</td>\n      <td>0</td>\n      <td>/upload/blank14.png</td>\n    </tr>\n    <tr>\n      <th>8</th>\n      <td>admin15</td>\n      <td>A6xnQhbz4Vx2HuGl4lXwZ5U2I8iziLRFnhP5eNfIRvQ=</td>\n      <td>관리자15</td>\n      <td>010-2345-6789</td>\n      <td>admin15@hoseo.com</td>\n      <td>2020-10-22 11:07:25</td>\n      <td>0</td>\n      <td>/upload/blank15.png</td>\n    </tr>\n    <tr>\n      <th>9</th>\n      <td>admin16</td>\n      <td>A6xnQhbz4Vx2HuGl4lXwZ5U2I8iziLRFnhP5eNfIRvQ=</td>\n      <td>관리자16</td>\n      <td>010-2345-6789</td>\n      <td>admin16@hoseo.com</td>\n      <td>2020-10-22 11:07:25</td>\n      <td>0</td>\n      <td>/upload/blank16.png</td>\n    </tr>\n  </tbody>\n</table>\n</div>"
     },
     "metadata": {},
     "execution_count": 14
    }
   ],
   "source": [
    "import pandas as pd\n",
    "results = pd.DataFrame(rows)\n",
    "results"
   ]
  }
 ]
}