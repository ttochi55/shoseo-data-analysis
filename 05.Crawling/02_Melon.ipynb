{
 "metadata": {
  "language_info": {
   "codemirror_mode": {
    "name": "ipython",
    "version": 3
   },
   "file_extension": ".py",
   "mimetype": "text/x-python",
   "name": "python",
   "nbconvert_exporter": "python",
   "pygments_lexer": "ipython3",
   "version": "3.8.3-final"
  },
  "orig_nbformat": 2,
  "kernelspec": {
   "name": "python3",
   "display_name": "Python 3"
  }
 },
 "nbformat": 4,
 "nbformat_minor": 2,
 "cells": [
  {
   "source": [
    "# Melon 주간 Top 100 구하기"
   ],
   "cell_type": "markdown",
   "metadata": {}
  },
  {
   "cell_type": "code",
   "execution_count": 1,
   "metadata": {},
   "outputs": [],
   "source": [
    "from bs4 import BeautifulSoup\n",
    "import urllib.request\n",
    "import pandas as pd"
   ]
  },
  {
   "cell_type": "code",
   "execution_count": 15,
   "metadata": {},
   "outputs": [],
   "source": [
    "import requests\n",
    "url = 'https://www.melon.com/chart/week/index.htm'\n",
    "header = {'User-Agent': 'Mozilla/5.0 (Windows NT 10.0; Win64; x64) AppleWebKit/537.36 (KHTML, like Gecko) Chrome/80.0.3987.87 Safari/537.36'}\n",
    "req = requests.get(url, headers = header)\n",
    "html = req.text\n",
    "soup = BeautifulSoup(html, 'html.parser')"
   ]
  },
  {
   "cell_type": "code",
   "execution_count": 16,
   "metadata": {},
   "outputs": [
    {
     "output_type": "execute_result",
     "data": {
      "text/plain": [
       "'\\r\\n\\t\\t\\t\\t\\t\\t\\t2020.11.09 ~ 2020.11.15\\r\\n\\t\\t\\t\\t\\t\\t'"
      ]
     },
     "metadata": {},
     "execution_count": 16
    }
   ],
   "source": [
    "soup.select_one('.yyyymmdd').get_text()"
   ]
  },
  {
   "cell_type": "code",
   "execution_count": 14,
   "metadata": {},
   "outputs": [
    {
     "output_type": "execute_result",
     "data": {
      "text/plain": [
       "'2020.11.09 ~ 2020.11.15'"
      ]
     },
     "metadata": {},
     "execution_count": 14
    }
   ],
   "source": [
    "date = soup.select_one('.yyyymmdd').get_text().strip()\n",
    "date"
   ]
  },
  {
   "cell_type": "code",
   "execution_count": 19,
   "metadata": {},
   "outputs": [
    {
     "output_type": "execute_result",
     "data": {
      "text/plain": [
       "('2020.11.09', '2020.11.15')"
      ]
     },
     "metadata": {},
     "execution_count": 19
    }
   ],
   "source": [
    "startdate = date.split('~')[0].strip()\n",
    "enddate = date.split('~')[1].strip()\n",
    "startdate, enddate"
   ]
  },
  {
   "source": [
    "## 멜론 음악 차트 전체 크롤링"
   ],
   "cell_type": "markdown",
   "metadata": {}
  },
  {
   "cell_type": "code",
   "execution_count": 117,
   "metadata": {
    "tags": []
   },
   "outputs": [],
   "source": [
    "melon = {\n",
    "    'head' : [],\n",
    "    'body' : {}\n",
    "}\n",
    "\n",
    "for tr in soup.select('#frm thead tr'):\n",
    "    for th in tr.select('th'):\n",
    "        txt = th.get_text(strip=True)\n",
    "        melon['head'].append(txt)\n",
    "        melon['body'][txt] = []\n",
    "\n",
    "for tr in soup.select('#frm tbody tr'):\n",
    "    for i, td in enumerate(tr.select('td')):\n",
    "        txt = td.get_text(strip=True)\n",
    "        melon['body'][melon['head'][i]].append(txt)"
   ]
  },
  {
   "cell_type": "code",
   "execution_count": 120,
   "metadata": {},
   "outputs": [
    {
     "output_type": "execute_result",
     "data": {
      "text/plain": [
       "      순위    순위등락 앨범이미지 곡 상세가기  \\\n",
       "0     1위  순위 동일0          곡정보   \n",
       "1     2위  단계 상승1          곡정보   \n",
       "2     3위  단계 하락1          곡정보   \n",
       "3     4위  단계 상승1          곡정보   \n",
       "4     5위  단계 하락1          곡정보   \n",
       "5     6위  순위 동일0          곡정보   \n",
       "6     7위  순위 동일0          곡정보   \n",
       "7     8위  단계 상승3          곡정보   \n",
       "8     9위  단계 하락1          곡정보   \n",
       "9    10위  단계 하락1          곡정보   \n",
       "\n",
       "                                                 곡정보  \\\n",
       "0                                 Dynamite방탄소년단방탄소년단   \n",
       "1                                 힘든 건 사랑이 아니다임창정임창정   \n",
       "2                   Lovesick GirlsBLACKPINKBLACKPINK   \n",
       "3                          취기를 빌려 (취향저격 그녀 X 산들)산들산들   \n",
       "4                           DON'T TOUCH ME환불원정대환불원정대   \n",
       "5                                    잠이 오질 않네요장범준장범준   \n",
       "6                                 오래된 노래스탠딩 에그스탠딩 에그   \n",
       "7            딩가딩가 (Dingga)마마무 (Mamamoo)마마무 (Mamamoo)   \n",
       "8  Savage Love (Laxed - Siren Beat) (BTS Remix)Ja...   \n",
       "9  내 마음이 움찔했던 순간 (취향저격 그녀 X 규현)규현 (KYUHYUN)규현 (KY...   \n",
       "\n",
       "                                             앨범      좋아요  듣기  담기    다운     뮤비  \n",
       "0                    Dynamite (DayTime Version)  좋아요총건수0  듣기  담기  다운로드  뮤직비디오  \n",
       "1                                  힘든 건 사랑이 아니다  좋아요총건수0  듣기  담기  다운로드  뮤직비디오  \n",
       "2                                     THE ALBUM  좋아요총건수0  듣기  담기  다운로드  뮤직비디오  \n",
       "3                         취기를 빌려 (취향저격 그녀 X 산들)  좋아요총건수0  듣기  담기  다운로드  뮤직비디오  \n",
       "4                                DON'T TOUCH ME  좋아요총건수0  듣기  담기  다운로드  뮤직비디오  \n",
       "5                                     잠이 오질 않네요  좋아요총건수0  듣기  담기  다운로드  뮤직비디오  \n",
       "6                                        오래된 노래  좋아요총건수0  듣기  담기  다운로드  뮤직비디오  \n",
       "7                                 딩가딩가 (Dingga)  좋아요총건수0  듣기  담기  다운로드  뮤직비디오  \n",
       "8  Savage Love (Laxed - Siren Beat) [BTS Remix]  좋아요총건수0  듣기  담기  다운로드  뮤직비디오  \n",
       "9                  내 마음이 움찔했던 순간 (취향저격 그녀 X 규현)  좋아요총건수0  듣기  담기  다운로드  뮤직비디오  "
      ],
      "text/html": "<div>\n<style scoped>\n    .dataframe tbody tr th:only-of-type {\n        vertical-align: middle;\n    }\n\n    .dataframe tbody tr th {\n        vertical-align: top;\n    }\n\n    .dataframe thead th {\n        text-align: right;\n    }\n</style>\n<table border=\"1\" class=\"dataframe\">\n  <thead>\n    <tr style=\"text-align: right;\">\n      <th></th>\n      <th></th>\n      <th>순위</th>\n      <th>순위등락</th>\n      <th>앨범이미지</th>\n      <th>곡 상세가기</th>\n      <th>곡정보</th>\n      <th>앨범</th>\n      <th>좋아요</th>\n      <th>듣기</th>\n      <th>담기</th>\n      <th>다운</th>\n      <th>뮤비</th>\n    </tr>\n  </thead>\n  <tbody>\n    <tr>\n      <th>0</th>\n      <td></td>\n      <td>1위</td>\n      <td>순위 동일0</td>\n      <td></td>\n      <td>곡정보</td>\n      <td>Dynamite방탄소년단방탄소년단</td>\n      <td>Dynamite (DayTime Version)</td>\n      <td>좋아요총건수0</td>\n      <td>듣기</td>\n      <td>담기</td>\n      <td>다운로드</td>\n      <td>뮤직비디오</td>\n    </tr>\n    <tr>\n      <th>1</th>\n      <td></td>\n      <td>2위</td>\n      <td>단계 상승1</td>\n      <td></td>\n      <td>곡정보</td>\n      <td>힘든 건 사랑이 아니다임창정임창정</td>\n      <td>힘든 건 사랑이 아니다</td>\n      <td>좋아요총건수0</td>\n      <td>듣기</td>\n      <td>담기</td>\n      <td>다운로드</td>\n      <td>뮤직비디오</td>\n    </tr>\n    <tr>\n      <th>2</th>\n      <td></td>\n      <td>3위</td>\n      <td>단계 하락1</td>\n      <td></td>\n      <td>곡정보</td>\n      <td>Lovesick GirlsBLACKPINKBLACKPINK</td>\n      <td>THE ALBUM</td>\n      <td>좋아요총건수0</td>\n      <td>듣기</td>\n      <td>담기</td>\n      <td>다운로드</td>\n      <td>뮤직비디오</td>\n    </tr>\n    <tr>\n      <th>3</th>\n      <td></td>\n      <td>4위</td>\n      <td>단계 상승1</td>\n      <td></td>\n      <td>곡정보</td>\n      <td>취기를 빌려 (취향저격 그녀 X 산들)산들산들</td>\n      <td>취기를 빌려 (취향저격 그녀 X 산들)</td>\n      <td>좋아요총건수0</td>\n      <td>듣기</td>\n      <td>담기</td>\n      <td>다운로드</td>\n      <td>뮤직비디오</td>\n    </tr>\n    <tr>\n      <th>4</th>\n      <td></td>\n      <td>5위</td>\n      <td>단계 하락1</td>\n      <td></td>\n      <td>곡정보</td>\n      <td>DON'T TOUCH ME환불원정대환불원정대</td>\n      <td>DON'T TOUCH ME</td>\n      <td>좋아요총건수0</td>\n      <td>듣기</td>\n      <td>담기</td>\n      <td>다운로드</td>\n      <td>뮤직비디오</td>\n    </tr>\n    <tr>\n      <th>5</th>\n      <td></td>\n      <td>6위</td>\n      <td>순위 동일0</td>\n      <td></td>\n      <td>곡정보</td>\n      <td>잠이 오질 않네요장범준장범준</td>\n      <td>잠이 오질 않네요</td>\n      <td>좋아요총건수0</td>\n      <td>듣기</td>\n      <td>담기</td>\n      <td>다운로드</td>\n      <td>뮤직비디오</td>\n    </tr>\n    <tr>\n      <th>6</th>\n      <td></td>\n      <td>7위</td>\n      <td>순위 동일0</td>\n      <td></td>\n      <td>곡정보</td>\n      <td>오래된 노래스탠딩 에그스탠딩 에그</td>\n      <td>오래된 노래</td>\n      <td>좋아요총건수0</td>\n      <td>듣기</td>\n      <td>담기</td>\n      <td>다운로드</td>\n      <td>뮤직비디오</td>\n    </tr>\n    <tr>\n      <th>7</th>\n      <td></td>\n      <td>8위</td>\n      <td>단계 상승3</td>\n      <td></td>\n      <td>곡정보</td>\n      <td>딩가딩가 (Dingga)마마무 (Mamamoo)마마무 (Mamamoo)</td>\n      <td>딩가딩가 (Dingga)</td>\n      <td>좋아요총건수0</td>\n      <td>듣기</td>\n      <td>담기</td>\n      <td>다운로드</td>\n      <td>뮤직비디오</td>\n    </tr>\n    <tr>\n      <th>8</th>\n      <td></td>\n      <td>9위</td>\n      <td>단계 하락1</td>\n      <td></td>\n      <td>곡정보</td>\n      <td>Savage Love (Laxed - Siren Beat) (BTS Remix)Ja...</td>\n      <td>Savage Love (Laxed - Siren Beat) [BTS Remix]</td>\n      <td>좋아요총건수0</td>\n      <td>듣기</td>\n      <td>담기</td>\n      <td>다운로드</td>\n      <td>뮤직비디오</td>\n    </tr>\n    <tr>\n      <th>9</th>\n      <td></td>\n      <td>10위</td>\n      <td>단계 하락1</td>\n      <td></td>\n      <td>곡정보</td>\n      <td>내 마음이 움찔했던 순간 (취향저격 그녀 X 규현)규현 (KYUHYUN)규현 (KY...</td>\n      <td>내 마음이 움찔했던 순간 (취향저격 그녀 X 규현)</td>\n      <td>좋아요총건수0</td>\n      <td>듣기</td>\n      <td>담기</td>\n      <td>다운로드</td>\n      <td>뮤직비디오</td>\n    </tr>\n  </tbody>\n</table>\n</div>"
     },
     "metadata": {},
     "execution_count": 120
    }
   ],
   "source": [
    "import pandas as pd\n",
    "\n",
    "df_melon = pd.DataFrame(melon['body'])\n",
    "df_melon.head(10)"
   ]
  },
  {
   "source": [
    "## 멜론 음악 차트 전체 크롤링 예외처리"
   ],
   "cell_type": "markdown",
   "metadata": {}
  },
  {
   "cell_type": "code",
   "execution_count": 20,
   "metadata": {},
   "outputs": [],
   "source": [
    "from bs4 import BeautifulSoup\n",
    "from selenium import webdriver\n",
    "import urllib.request\n",
    "import pandas as pd\n",
    "import time"
   ]
  },
  {
   "cell_type": "code",
   "execution_count": 17,
   "metadata": {},
   "outputs": [],
   "source": [
    "import requests\n",
    "url = 'https://www.melon.com/chart/week/index.htm'\n",
    "header = {'User-Agent': 'Mozilla/5.0 (Windows NT 10.0; Win64; x64) AppleWebKit/537.36 (KHTML, like Gecko) Chrome/80.0.3987.87 Safari/537.36'}\n",
    "req = requests.get(url, headers = header)\n",
    "soup = BeautifulSoup(req.text, 'html.parser')"
   ]
  },
  {
   "cell_type": "code",
   "execution_count": 30,
   "metadata": {},
   "outputs": [],
   "source": [
    "import re\n",
    "\n",
    "melon = {\n",
    "    'head' : [],\n",
    "    'body' : {}\n",
    "}\n",
    "\n",
    "for tr in soup.select('#frm thead tr'):\n",
    "    for th in tr.select('th'):\n",
    "        txt = th.get_text(strip=True)\n",
    "        melon['head'].append(txt)\n",
    "        melon['body'][txt] = []\n",
    "\n",
    "for tr in soup.select('#frm tbody tr'):\n",
    "    for i, td in enumerate(tr.select('td')):\n",
    "\n",
    "        txt = td.get_text(strip=True)\n",
    "\n",
    "        if (melon['head'][i] == '순위'):\n",
    "            match = re.search(r\"\\d+\", txt)\n",
    "            txt = match.group(0) if match != None else 0\n",
    "        elif (melon['head'][i] == '순위등락'):\n",
    "            pass\n",
    "        elif (melon['head'][i] == '좋아요'):\n",
    "            pass\n",
    "        # else:\n",
    "            # txt = ''\n",
    "        \n",
    "        melon['body'][melon['head'][i]].append(txt)"
   ]
  },
  {
   "cell_type": "code",
   "execution_count": 28,
   "metadata": {},
   "outputs": [
    {
     "output_type": "execute_result",
     "data": {
      "text/plain": [
       "     순위    순위등락 앨범이미지 곡 상세가기 곡정보 앨범      좋아요 듣기 담기 다운 뮤비\n",
       "0     1  순위 동일0                      좋아요총건수0            \n",
       "1     2  단계 상승1                      좋아요총건수0            \n",
       "2     3  단계 하락1                      좋아요총건수0            \n",
       "3     4  단계 상승1                      좋아요총건수0            \n",
       "4     5  단계 하락1                      좋아요총건수0            \n",
       "5     6  순위 동일0                      좋아요총건수0            \n",
       "6     7  순위 동일0                      좋아요총건수0            \n",
       "7     8  단계 상승3                      좋아요총건수0            \n",
       "8     9  단계 하락1                      좋아요총건수0            \n",
       "9    10  단계 하락1                      좋아요총건수0            "
      ],
      "text/html": "<div>\n<style scoped>\n    .dataframe tbody tr th:only-of-type {\n        vertical-align: middle;\n    }\n\n    .dataframe tbody tr th {\n        vertical-align: top;\n    }\n\n    .dataframe thead th {\n        text-align: right;\n    }\n</style>\n<table border=\"1\" class=\"dataframe\">\n  <thead>\n    <tr style=\"text-align: right;\">\n      <th></th>\n      <th></th>\n      <th>순위</th>\n      <th>순위등락</th>\n      <th>앨범이미지</th>\n      <th>곡 상세가기</th>\n      <th>곡정보</th>\n      <th>앨범</th>\n      <th>좋아요</th>\n      <th>듣기</th>\n      <th>담기</th>\n      <th>다운</th>\n      <th>뮤비</th>\n    </tr>\n  </thead>\n  <tbody>\n    <tr>\n      <th>0</th>\n      <td></td>\n      <td>1</td>\n      <td>순위 동일0</td>\n      <td></td>\n      <td></td>\n      <td></td>\n      <td></td>\n      <td>좋아요총건수0</td>\n      <td></td>\n      <td></td>\n      <td></td>\n      <td></td>\n    </tr>\n    <tr>\n      <th>1</th>\n      <td></td>\n      <td>2</td>\n      <td>단계 상승1</td>\n      <td></td>\n      <td></td>\n      <td></td>\n      <td></td>\n      <td>좋아요총건수0</td>\n      <td></td>\n      <td></td>\n      <td></td>\n      <td></td>\n    </tr>\n    <tr>\n      <th>2</th>\n      <td></td>\n      <td>3</td>\n      <td>단계 하락1</td>\n      <td></td>\n      <td></td>\n      <td></td>\n      <td></td>\n      <td>좋아요총건수0</td>\n      <td></td>\n      <td></td>\n      <td></td>\n      <td></td>\n    </tr>\n    <tr>\n      <th>3</th>\n      <td></td>\n      <td>4</td>\n      <td>단계 상승1</td>\n      <td></td>\n      <td></td>\n      <td></td>\n      <td></td>\n      <td>좋아요총건수0</td>\n      <td></td>\n      <td></td>\n      <td></td>\n      <td></td>\n    </tr>\n    <tr>\n      <th>4</th>\n      <td></td>\n      <td>5</td>\n      <td>단계 하락1</td>\n      <td></td>\n      <td></td>\n      <td></td>\n      <td></td>\n      <td>좋아요총건수0</td>\n      <td></td>\n      <td></td>\n      <td></td>\n      <td></td>\n    </tr>\n    <tr>\n      <th>5</th>\n      <td></td>\n      <td>6</td>\n      <td>순위 동일0</td>\n      <td></td>\n      <td></td>\n      <td></td>\n      <td></td>\n      <td>좋아요총건수0</td>\n      <td></td>\n      <td></td>\n      <td></td>\n      <td></td>\n    </tr>\n    <tr>\n      <th>6</th>\n      <td></td>\n      <td>7</td>\n      <td>순위 동일0</td>\n      <td></td>\n      <td></td>\n      <td></td>\n      <td></td>\n      <td>좋아요총건수0</td>\n      <td></td>\n      <td></td>\n      <td></td>\n      <td></td>\n    </tr>\n    <tr>\n      <th>7</th>\n      <td></td>\n      <td>8</td>\n      <td>단계 상승3</td>\n      <td></td>\n      <td></td>\n      <td></td>\n      <td></td>\n      <td>좋아요총건수0</td>\n      <td></td>\n      <td></td>\n      <td></td>\n      <td></td>\n    </tr>\n    <tr>\n      <th>8</th>\n      <td></td>\n      <td>9</td>\n      <td>단계 하락1</td>\n      <td></td>\n      <td></td>\n      <td></td>\n      <td></td>\n      <td>좋아요총건수0</td>\n      <td></td>\n      <td></td>\n      <td></td>\n      <td></td>\n    </tr>\n    <tr>\n      <th>9</th>\n      <td></td>\n      <td>10</td>\n      <td>단계 하락1</td>\n      <td></td>\n      <td></td>\n      <td></td>\n      <td></td>\n      <td>좋아요총건수0</td>\n      <td></td>\n      <td></td>\n      <td></td>\n      <td></td>\n    </tr>\n  </tbody>\n</table>\n</div>"
     },
     "metadata": {},
     "execution_count": 28
    }
   ],
   "source": [
    "import pandas as pd\n",
    "\n",
    "df_melon = pd.DataFrame(melon['body'])\n",
    "df_melon.head(10)"
   ]
  }
 ]
}