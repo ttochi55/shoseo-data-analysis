{
 "metadata": {
  "language_info": {
   "codemirror_mode": {
    "name": "ipython",
    "version": 3
   },
   "file_extension": ".py",
   "mimetype": "text/x-python",
   "name": "python",
   "nbconvert_exporter": "python",
   "pygments_lexer": "ipython3",
   "version": "3.8.3-final"
  },
  "orig_nbformat": 2,
  "kernelspec": {
   "name": "python3",
   "display_name": "Python 3"
  }
 },
 "nbformat": 4,
 "nbformat_minor": 2,
 "cells": [
  {
   "source": [
    "# 한빛아카데미"
   ],
   "cell_type": "markdown",
   "metadata": {}
  },
  {
   "cell_type": "code",
   "execution_count": 1,
   "metadata": {},
   "outputs": [],
   "source": [
    "from bs4 import BeautifulSoup\n",
    "from selenium import webdriver\n",
    "import urllib.request\n",
    "import pandas as pd\n",
    "\n",
    "# conda install -c conda-forge tqdm\n",
    "from tqdm import tqdm\n",
    "from tqdm import tqdm_notebook\n",
    "import time"
   ]
  },
  {
   "cell_type": "code",
   "execution_count": 2,
   "metadata": {},
   "outputs": [
    {
     "output_type": "stream",
     "name": "stderr",
     "text": [
      "100%|██████████| 10/10 [00:01<00:00,  9.05it/s]\n"
     ]
    }
   ],
   "source": [
    "for i in tqdm(range(10)):\n",
    "    time.sleep(.1)"
   ]
  },
  {
   "cell_type": "code",
   "execution_count": 3,
   "metadata": {},
   "outputs": [
    {
     "output_type": "display_data",
     "data": {
      "text/plain": "HBox(children=(FloatProgress(value=0.0, max=10.0), HTML(value='')))",
      "application/vnd.jupyter.widget-view+json": {
       "version_major": 2,
       "version_minor": 0,
       "model_id": "4f1fe2e4e18c4b69b18a07eecd6db9ff"
      }
     },
     "metadata": {}
    },
    {
     "output_type": "stream",
     "name": "stdout",
     "text": [
      "\n"
     ]
    }
   ],
   "source": [
    "for i in tqdm_notebook(range(10)):\n",
    "    time.sleep(.1)"
   ]
  },
  {
   "cell_type": "code",
   "execution_count": 4,
   "metadata": {},
   "outputs": [],
   "source": [
    "import requests\n",
    "url = 'https://www.hanbit.co.kr/academy/books/new_book_list.html'\n",
    "header = {'User-Agent': 'Mozilla/5.0 (Windows NT 10.0; Win64; x64) AppleWebKit/537.36 (KHTML, like Gecko) Chrome/80.0.3987.87 Safari/537.36'}\n",
    "req = requests.get(url, headers = header)\n",
    "soup = BeautifulSoup(req.text, 'html.parser')"
   ]
  },
  {
   "cell_type": "code",
   "execution_count": 5,
   "metadata": {},
   "outputs": [],
   "source": [
    "import re\n",
    "\n",
    "data = []\n",
    "\n",
    "for i, row in enumerate(soup.select('#container .sub_book_list')):\n",
    "    \n",
    "    data.append({})\n",
    "\n",
    "    # P_CODE\n",
    "    element = row.select_one('.pop_quick_bg')\n",
    "    attr = element.get('onclick')\n",
    "    match = re.compile(r\"p_code=(\\S+\\d+)\").search(attr)\n",
    "    text = match.group(1) if match != None else 0\n",
    "    data[i].update({'p_code':text})\n",
    "\n",
    "    # TITLE\n",
    "    element = row.select_one('.book_tit')\n",
    "    text = element.get_text(strip=True)\n",
    "    data[i].update({'title':text})\n",
    "\n",
    "    # WRITER\n",
    "    element = row.select_one('.book_writer')\n",
    "    text = element.get_text(strip=True)\n",
    "    data[i].update({'writer':text})\n",
    "\n",
    "    # PRICE\n",
    "    element = row.select_one('.price')\n",
    "    text = element.get_text(strip=True)\n",
    "    text = int(text.replace(',', '').replace('원', ''))\n",
    "    data[i].update({'price':text})"
   ]
  },
  {
   "cell_type": "code",
   "execution_count": 6,
   "metadata": {},
   "outputs": [
    {
     "output_type": "execute_result",
     "data": {
      "text/plain": [
       "[{'p_code': 'B4797877052',\n",
       "  'title': '포르잔 C++ 에센셜',\n",
       "  'writer': 'Behrouz A. Forouzan , Richard F. Gilberg',\n",
       "  'price': 32000}]"
      ]
     },
     "metadata": {},
     "execution_count": 6
    }
   ],
   "source": [
    "data[:1]"
   ]
  },
  {
   "cell_type": "code",
   "execution_count": 7,
   "metadata": {},
   "outputs": [
    {
     "output_type": "execute_result",
     "data": {
      "text/plain": [
       "[{'p_code': 'B4797877052',\n",
       "  'title': '포르잔 C++ 에센셜',\n",
       "  'writer': 'Behrouz A. Forouzan , Richard F. Gilberg',\n",
       "  'price': 32000}]"
      ]
     },
     "metadata": {},
     "execution_count": 7
    }
   ],
   "source": [
    "[i for i in data if i.get('p_code') == 'B4797877052']"
   ]
  },
  {
   "cell_type": "code",
   "execution_count": 8,
   "metadata": {},
   "outputs": [],
   "source": [
    "p_codes = [i['p_code'] for i in data]\n",
    "v_data = []\n",
    "\n",
    "for i, p_code in enumerate(p_codes):\n",
    "\n",
    "    view_base = 'https://www.hanbit.co.kr/academy/books/book_view.html?p_code='\n",
    "    view_url = view_base + p_code\n",
    "\n",
    "    with urllib.request.urlopen(view_url) as response:\n",
    "        html = response.read()\n",
    "        soup = BeautifulSoup(html, 'html.parser')\n",
    "\n",
    "        v_data.append({})\n",
    "\n",
    "        # P_CODE\n",
    "        v_data[i].update({ 'p_code': p_code })\n",
    "\n",
    "        # TITLE\n",
    "        eKey = soup.select_one('#container .store_product_info_box h3')\n",
    "        oValue = eKey.get_text(strip=True)\n",
    "        v_data[i].update({ 'title': oValue })\n",
    "\n",
    "        # INFO_LIST\n",
    "        for row in soup.select('#container .info_list > li'):\n",
    "\n",
    "            # key\n",
    "            eKey = row.select_one('strong')\n",
    "            oKey = eKey.get_text(strip=True)\n",
    "            oKey = oKey.replace(' :', '')\n",
    "            \n",
    "            # value\n",
    "            eValue = row.select_one('span')\n",
    "            oValue = eValue.get_text(strip=True)\n",
    "\n",
    "            # Exception\n",
    "            if oKey in '저자':\n",
    "                oValue = ', '.join(map(str.strip, oValue.split(',')))\n",
    "\n",
    "            if oKey in '페이지':\n",
    "                oValue = oValue.replace('쪽', '').strip()\n",
    "\n",
    "            # output\n",
    "            v_data[i].update({ oKey: oValue })"
   ]
  },
  {
   "cell_type": "code",
   "execution_count": 9,
   "metadata": {},
   "outputs": [
    {
     "output_type": "execute_result",
     "data": {
      "text/plain": [
       "         p_code           ISBN                                         제목  \\\n",
       "0   B4797877052  9791156645061                                포르잔 C++ 에센셜   \n",
       "1   B6503201303  9791156645054   IT CookBook, 액세스 2019로 배우는 데이터베이스 기초와 실습   \n",
       "2   B1851418066  9791156645030                                포르잔 C++ 바이블   \n",
       "3   B9479195027  9791156644972                              딥러닝을 위한 선형대수학   \n",
       "4   B2082711299  9791156645023    IT CookBook, 오라클로 배우는 데이터베이스 개론과 실습(2판)   \n",
       "5   B1825116777  9791156645016                             대학을 버려야 대학이 산다   \n",
       "6   B5937482728  9791156644941              IT CookBook, 따라 하면서 배우는 사물인터넷   \n",
       "7   B8404138031  9791156644989            R로 하는 다변량 데이터 분석 : 이론부터 실무 활용까지   \n",
       "8   B8573612142  9791156644934                               창의적 공학설계(3판)   \n",
       "9   B8658821149  9791156644996            공학 핵심수학(2판)  : 기초부터 심화까지 핵심만 쏙쏙   \n",
       "10  B7926921440  9791156645009     응용이 보이는 선형대수학 : 파이썬과 함께하는 선형대수학 이론과 응용   \n",
       "11  B4295361584  9791156644927           IT CookBook, 초연결 사회의 데이터통신과 네트워킹   \n",
       "12  B3126325886  9791156644903          IT CookBook, 쉽게 배우는 MFC 윈도우 프로그래밍   \n",
       "13  B3715221949  9791156644958         IT CookBook, 인공지능 시대를 위한 컴퓨터 과학 개론   \n",
       "14  B3055805288  9791156644965          IT CookBook, 코틀린을 활용한 안드로이드 프로그래밍   \n",
       "15  B4872546419  9791156644859                 IT CookBook, 처음 만나는 신재생에너지   \n",
       "16  B1710834745  9791156644910                                프리드버그 선형대수학   \n",
       "17  B8200129293  9791156644897                    IT CookBook, CentOS 리눅스   \n",
       "18  B8983481859  9781119666226  Microeconomics, 6th Edition, Asia Edition   \n",
       "19  B2049588591  9791156644880                               누구나 파이썬 통계분석   \n",
       "\n",
       "       가격                                       저자                    번역  \\\n",
       "0   32000  Behrouz A. Forouzan, Richard F. Gilberg                   윤인성   \n",
       "1   28000                                      김지연                   NaN   \n",
       "2   45000  Behrouz A. Forouzan, Richard F. Gilberg                   윤인성   \n",
       "3   38000                           Gilbert Strang  부산대학교 산업수학센터(FFMIMC)   \n",
       "4   29000                            박우창, 남송휘, 이현룡                   NaN   \n",
       "5   18000                      조동성 외 인천대학교 가족 178명                   NaN   \n",
       "6   28000                                      양재삼                   NaN   \n",
       "7   32000              카와하시 잇코, 이와마 노리카즈, 스즈키 마사유키                   권기태   \n",
       "8   23000                                      김은경                   NaN   \n",
       "9   23000                                      함남우                   NaN   \n",
       "10  31000                                      이건명                   NaN   \n",
       "11  29000                                      강문식                   NaN   \n",
       "12  30000                                 김선우, 신화선                   NaN   \n",
       "13  27000                                      정기철                   NaN   \n",
       "14  34000                                 우재남, 유혜림                   NaN   \n",
       "15  25000                                      김지홍                   NaN   \n",
       "16  35000      스티븐 H. 프리드버그, 아놀드 J. 인셀, 로렌스 E. 스펜스   한빛수학교재연구소 , 심형보(감수)   \n",
       "17  32000                                      이종원                   NaN   \n",
       "18  49000         David Besanko, Ronald Braeutigam                   NaN   \n",
       "19  26000                                 타니아이 히로키                   권기태   \n",
       "\n",
       "            출간   페이지                                               구판정보   물류코드  \n",
       "0   2020-11-10   756                                                NaN   4506  \n",
       "1   2020-09-28   536  이 도서는 <IT CookBook, 데이터베이스 기초와 실습 : 액세스 2013>의...   4505  \n",
       "2   2020-08-31  1192                                                NaN   4503  \n",
       "3   2020-08-05   560                                                NaN   4497  \n",
       "4   2020-07-30   600  이 도서는 <IT CookBook, 오라클로 배우는 데이터베이스 개론과 실습>의 개...   4502  \n",
       "5   2020-07-25   216                                                NaN   4501  \n",
       "6   2020-07-23   448                                                NaN   4494  \n",
       "7   2020-07-10   544                                                NaN   4498  \n",
       "8   2020-07-10   408             이 도서는 <창의적 공학설계(개정판)>의 개정판입니다.구판 정보 보기   4493  \n",
       "9   2020-07-06   484  이 도서는 <공학 핵심수학 : Core Mathematics for Engineer...   4499  \n",
       "10  2020-07-06   592                                                NaN   4500  \n",
       "11  2020-06-30   504  이 도서는 <IT CookBook, New 데이터통신과 네트워킹 : 차세대 통신을 ...   4492  \n",
       "12  2020-06-20   772                                                NaN   4490  \n",
       "13  2020-06-19   520                                                NaN   4495  \n",
       "14  2020-06-19   564                                                NaN   4496  \n",
       "15  2020-06-10   388                                                NaN   4485  \n",
       "16  2020-06-05   616                                                NaN   4491  \n",
       "17  2020-05-30   792                                                NaN   4489  \n",
       "18  2020-05-01   856                                                NaN  30000  \n",
       "19  2020-04-06   384                                                NaN   4488  "
      ],
      "text/html": "<div>\n<style scoped>\n    .dataframe tbody tr th:only-of-type {\n        vertical-align: middle;\n    }\n\n    .dataframe tbody tr th {\n        vertical-align: top;\n    }\n\n    .dataframe thead th {\n        text-align: right;\n    }\n</style>\n<table border=\"1\" class=\"dataframe\">\n  <thead>\n    <tr style=\"text-align: right;\">\n      <th></th>\n      <th>p_code</th>\n      <th>ISBN</th>\n      <th>제목</th>\n      <th>가격</th>\n      <th>저자</th>\n      <th>번역</th>\n      <th>출간</th>\n      <th>페이지</th>\n      <th>구판정보</th>\n      <th>물류코드</th>\n    </tr>\n  </thead>\n  <tbody>\n    <tr>\n      <th>0</th>\n      <td>B4797877052</td>\n      <td>9791156645061</td>\n      <td>포르잔 C++ 에센셜</td>\n      <td>32000</td>\n      <td>Behrouz A. Forouzan, Richard F. Gilberg</td>\n      <td>윤인성</td>\n      <td>2020-11-10</td>\n      <td>756</td>\n      <td>NaN</td>\n      <td>4506</td>\n    </tr>\n    <tr>\n      <th>1</th>\n      <td>B6503201303</td>\n      <td>9791156645054</td>\n      <td>IT CookBook, 액세스 2019로 배우는 데이터베이스 기초와 실습</td>\n      <td>28000</td>\n      <td>김지연</td>\n      <td>NaN</td>\n      <td>2020-09-28</td>\n      <td>536</td>\n      <td>이 도서는 &lt;IT CookBook, 데이터베이스 기초와 실습 : 액세스 2013&gt;의...</td>\n      <td>4505</td>\n    </tr>\n    <tr>\n      <th>2</th>\n      <td>B1851418066</td>\n      <td>9791156645030</td>\n      <td>포르잔 C++ 바이블</td>\n      <td>45000</td>\n      <td>Behrouz A. Forouzan, Richard F. Gilberg</td>\n      <td>윤인성</td>\n      <td>2020-08-31</td>\n      <td>1192</td>\n      <td>NaN</td>\n      <td>4503</td>\n    </tr>\n    <tr>\n      <th>3</th>\n      <td>B9479195027</td>\n      <td>9791156644972</td>\n      <td>딥러닝을 위한 선형대수학</td>\n      <td>38000</td>\n      <td>Gilbert Strang</td>\n      <td>부산대학교 산업수학센터(FFMIMC)</td>\n      <td>2020-08-05</td>\n      <td>560</td>\n      <td>NaN</td>\n      <td>4497</td>\n    </tr>\n    <tr>\n      <th>4</th>\n      <td>B2082711299</td>\n      <td>9791156645023</td>\n      <td>IT CookBook, 오라클로 배우는 데이터베이스 개론과 실습(2판)</td>\n      <td>29000</td>\n      <td>박우창, 남송휘, 이현룡</td>\n      <td>NaN</td>\n      <td>2020-07-30</td>\n      <td>600</td>\n      <td>이 도서는 &lt;IT CookBook, 오라클로 배우는 데이터베이스 개론과 실습&gt;의 개...</td>\n      <td>4502</td>\n    </tr>\n    <tr>\n      <th>5</th>\n      <td>B1825116777</td>\n      <td>9791156645016</td>\n      <td>대학을 버려야 대학이 산다</td>\n      <td>18000</td>\n      <td>조동성 외 인천대학교 가족 178명</td>\n      <td>NaN</td>\n      <td>2020-07-25</td>\n      <td>216</td>\n      <td>NaN</td>\n      <td>4501</td>\n    </tr>\n    <tr>\n      <th>6</th>\n      <td>B5937482728</td>\n      <td>9791156644941</td>\n      <td>IT CookBook, 따라 하면서 배우는 사물인터넷</td>\n      <td>28000</td>\n      <td>양재삼</td>\n      <td>NaN</td>\n      <td>2020-07-23</td>\n      <td>448</td>\n      <td>NaN</td>\n      <td>4494</td>\n    </tr>\n    <tr>\n      <th>7</th>\n      <td>B8404138031</td>\n      <td>9791156644989</td>\n      <td>R로 하는 다변량 데이터 분석 : 이론부터 실무 활용까지</td>\n      <td>32000</td>\n      <td>카와하시 잇코, 이와마 노리카즈, 스즈키 마사유키</td>\n      <td>권기태</td>\n      <td>2020-07-10</td>\n      <td>544</td>\n      <td>NaN</td>\n      <td>4498</td>\n    </tr>\n    <tr>\n      <th>8</th>\n      <td>B8573612142</td>\n      <td>9791156644934</td>\n      <td>창의적 공학설계(3판)</td>\n      <td>23000</td>\n      <td>김은경</td>\n      <td>NaN</td>\n      <td>2020-07-10</td>\n      <td>408</td>\n      <td>이 도서는 &lt;창의적 공학설계(개정판)&gt;의 개정판입니다.구판 정보 보기</td>\n      <td>4493</td>\n    </tr>\n    <tr>\n      <th>9</th>\n      <td>B8658821149</td>\n      <td>9791156644996</td>\n      <td>공학 핵심수학(2판)  : 기초부터 심화까지 핵심만 쏙쏙</td>\n      <td>23000</td>\n      <td>함남우</td>\n      <td>NaN</td>\n      <td>2020-07-06</td>\n      <td>484</td>\n      <td>이 도서는 &lt;공학 핵심수학 : Core Mathematics for Engineer...</td>\n      <td>4499</td>\n    </tr>\n    <tr>\n      <th>10</th>\n      <td>B7926921440</td>\n      <td>9791156645009</td>\n      <td>응용이 보이는 선형대수학 : 파이썬과 함께하는 선형대수학 이론과 응용</td>\n      <td>31000</td>\n      <td>이건명</td>\n      <td>NaN</td>\n      <td>2020-07-06</td>\n      <td>592</td>\n      <td>NaN</td>\n      <td>4500</td>\n    </tr>\n    <tr>\n      <th>11</th>\n      <td>B4295361584</td>\n      <td>9791156644927</td>\n      <td>IT CookBook, 초연결 사회의 데이터통신과 네트워킹</td>\n      <td>29000</td>\n      <td>강문식</td>\n      <td>NaN</td>\n      <td>2020-06-30</td>\n      <td>504</td>\n      <td>이 도서는 &lt;IT CookBook, New 데이터통신과 네트워킹 : 차세대 통신을 ...</td>\n      <td>4492</td>\n    </tr>\n    <tr>\n      <th>12</th>\n      <td>B3126325886</td>\n      <td>9791156644903</td>\n      <td>IT CookBook, 쉽게 배우는 MFC 윈도우 프로그래밍</td>\n      <td>30000</td>\n      <td>김선우, 신화선</td>\n      <td>NaN</td>\n      <td>2020-06-20</td>\n      <td>772</td>\n      <td>NaN</td>\n      <td>4490</td>\n    </tr>\n    <tr>\n      <th>13</th>\n      <td>B3715221949</td>\n      <td>9791156644958</td>\n      <td>IT CookBook, 인공지능 시대를 위한 컴퓨터 과학 개론</td>\n      <td>27000</td>\n      <td>정기철</td>\n      <td>NaN</td>\n      <td>2020-06-19</td>\n      <td>520</td>\n      <td>NaN</td>\n      <td>4495</td>\n    </tr>\n    <tr>\n      <th>14</th>\n      <td>B3055805288</td>\n      <td>9791156644965</td>\n      <td>IT CookBook, 코틀린을 활용한 안드로이드 프로그래밍</td>\n      <td>34000</td>\n      <td>우재남, 유혜림</td>\n      <td>NaN</td>\n      <td>2020-06-19</td>\n      <td>564</td>\n      <td>NaN</td>\n      <td>4496</td>\n    </tr>\n    <tr>\n      <th>15</th>\n      <td>B4872546419</td>\n      <td>9791156644859</td>\n      <td>IT CookBook, 처음 만나는 신재생에너지</td>\n      <td>25000</td>\n      <td>김지홍</td>\n      <td>NaN</td>\n      <td>2020-06-10</td>\n      <td>388</td>\n      <td>NaN</td>\n      <td>4485</td>\n    </tr>\n    <tr>\n      <th>16</th>\n      <td>B1710834745</td>\n      <td>9791156644910</td>\n      <td>프리드버그 선형대수학</td>\n      <td>35000</td>\n      <td>스티븐 H. 프리드버그, 아놀드 J. 인셀, 로렌스 E. 스펜스</td>\n      <td>한빛수학교재연구소 , 심형보(감수)</td>\n      <td>2020-06-05</td>\n      <td>616</td>\n      <td>NaN</td>\n      <td>4491</td>\n    </tr>\n    <tr>\n      <th>17</th>\n      <td>B8200129293</td>\n      <td>9791156644897</td>\n      <td>IT CookBook, CentOS 리눅스</td>\n      <td>32000</td>\n      <td>이종원</td>\n      <td>NaN</td>\n      <td>2020-05-30</td>\n      <td>792</td>\n      <td>NaN</td>\n      <td>4489</td>\n    </tr>\n    <tr>\n      <th>18</th>\n      <td>B8983481859</td>\n      <td>9781119666226</td>\n      <td>Microeconomics, 6th Edition, Asia Edition</td>\n      <td>49000</td>\n      <td>David Besanko, Ronald Braeutigam</td>\n      <td>NaN</td>\n      <td>2020-05-01</td>\n      <td>856</td>\n      <td>NaN</td>\n      <td>30000</td>\n    </tr>\n    <tr>\n      <th>19</th>\n      <td>B2049588591</td>\n      <td>9791156644880</td>\n      <td>누구나 파이썬 통계분석</td>\n      <td>26000</td>\n      <td>타니아이 히로키</td>\n      <td>권기태</td>\n      <td>2020-04-06</td>\n      <td>384</td>\n      <td>NaN</td>\n      <td>4488</td>\n    </tr>\n  </tbody>\n</table>\n</div>"
     },
     "metadata": {},
     "execution_count": 9
    }
   ],
   "source": [
    "df1 = pd.DataFrame(data)\n",
    "df2 = pd.DataFrame(v_data)\n",
    "df = pd.merge(df1, df2, on='p_code')\n",
    "\n",
    "# Drop and Replace\n",
    "df.drop(['title_y', 'writer'], inplace=True, axis=1)\n",
    "df.rename(columns={\n",
    "    'title_x': '제목',\n",
    "    'price': '가격',\n",
    "}, inplace=True)\n",
    "\n",
    "# Reorder\n",
    "df = df[['p_code', 'ISBN', '제목', '가격', '저자', '번역', '출간', '페이지', '구판정보', '물류코드']]\n",
    "df"
   ]
  },
  {
   "source": [
    "## 페이지네이션"
   ],
   "cell_type": "markdown",
   "metadata": {}
  },
  {
   "cell_type": "code",
   "execution_count": 10,
   "metadata": {},
   "outputs": [],
   "source": [
    "import requests\n",
    "base_url = 'https://www.hanbit.co.kr/academy/books/new_book_list.html'\n",
    "header = {'User-Agent': 'Mozilla/5.0 (Windows NT 10.0; Win64; x64) AppleWebKit/537.36 (KHTML, like Gecko) Chrome/80.0.3987.87 Safari/537.36'}\n",
    "req = requests.get(base_url, headers = header)\n",
    "soup = BeautifulSoup(req.text, 'html.parser')"
   ]
  },
  {
   "cell_type": "code",
   "execution_count": 11,
   "metadata": {
    "tags": []
   },
   "outputs": [],
   "source": [
    "import re\n",
    "\n",
    "def get_next_page(soup):\n",
    "    page_nums = []\n",
    "    for i, row in enumerate(soup.select('div.paginate > a')):\n",
    "        match = re.compile(r\"page=(\\d+)\").search(str(row))\n",
    "        txt = int(match.group(1)) if match != None else 0\n",
    "        page_nums.append(txt)\n",
    "    return max(page_nums)\n",
    "\n",
    "def is_max_page(page):\n",
    "\n",
    "    page = page + 1\n",
    "    web_url = base_url + '?page=' + str(page)\n",
    "\n",
    "    with urllib.request.urlopen(web_url) as response:\n",
    "        html = response.read()\n",
    "        soup = BeautifulSoup(html, 'html.parser')\n",
    "        \n",
    "        nolist = soup.select('#container .sub_book_list_area .no-list')\n",
    "        islist = (False if len(nolist) == 0 else True)\n",
    "\n",
    "        return islist\n",
    "\n",
    "def get_max_page(page):\n",
    "\n",
    "    page = page + 1\n",
    "    web_url = base_url + '?page=' + str(page)\n",
    "\n",
    "    with urllib.request.urlopen(web_url) as response:\n",
    "        html = response.read()\n",
    "        soup = BeautifulSoup(html, 'html.parser')\n",
    "        last = get_next_page(soup)\n",
    "\n",
    "        if is_max_page(last):\n",
    "            return last\n",
    "        else:\n",
    "            return get_max_page(last)"
   ]
  },
  {
   "cell_type": "code",
   "execution_count": 12,
   "metadata": {},
   "outputs": [
    {
     "output_type": "error",
     "ename": "NameError",
     "evalue": "name 'txt' is not defined",
     "traceback": [
      "\u001b[1;31m---------------------------------------------------------------------------\u001b[0m",
      "\u001b[1;31mNameError\u001b[0m                                 Traceback (most recent call last)",
      "\u001b[1;32m<ipython-input-12-935c3a204475>\u001b[0m in \u001b[0;36m<module>\u001b[1;34m\u001b[0m\n\u001b[0;32m     32\u001b[0m             \u001b[0melement\u001b[0m \u001b[1;33m=\u001b[0m \u001b[0mrow\u001b[0m\u001b[1;33m.\u001b[0m\u001b[0mselect_one\u001b[0m\u001b[1;33m(\u001b[0m\u001b[1;34m'.book_tit'\u001b[0m\u001b[1;33m)\u001b[0m\u001b[1;33m\u001b[0m\u001b[1;33m\u001b[0m\u001b[0m\n\u001b[0;32m     33\u001b[0m             \u001b[0mtext\u001b[0m \u001b[1;33m=\u001b[0m \u001b[0melement\u001b[0m\u001b[1;33m.\u001b[0m\u001b[0mget_text\u001b[0m\u001b[1;33m(\u001b[0m\u001b[0mstrip\u001b[0m\u001b[1;33m=\u001b[0m\u001b[1;32mTrue\u001b[0m\u001b[1;33m)\u001b[0m\u001b[1;33m\u001b[0m\u001b[1;33m\u001b[0m\u001b[0m\n\u001b[1;32m---> 34\u001b[1;33m             \u001b[0mdata\u001b[0m\u001b[1;33m[\u001b[0m\u001b[1;34m'head'\u001b[0m\u001b[1;33m]\u001b[0m\u001b[1;33m.\u001b[0m\u001b[0mappend\u001b[0m\u001b[1;33m(\u001b[0m\u001b[0mtxt\u001b[0m\u001b[1;33m)\u001b[0m\u001b[1;33m\u001b[0m\u001b[1;33m\u001b[0m\u001b[0m\n\u001b[0m\u001b[0;32m     35\u001b[0m             \u001b[0mdata\u001b[0m\u001b[1;33m[\u001b[0m\u001b[1;34m'body'\u001b[0m\u001b[1;33m]\u001b[0m\u001b[1;33m[\u001b[0m\u001b[0mi\u001b[0m\u001b[1;33m]\u001b[0m\u001b[1;33m.\u001b[0m\u001b[0mupdate\u001b[0m\u001b[1;33m(\u001b[0m\u001b[1;33m{\u001b[0m\u001b[1;34m'title'\u001b[0m\u001b[1;33m:\u001b[0m\u001b[0mtext\u001b[0m\u001b[1;33m}\u001b[0m\u001b[1;33m)\u001b[0m\u001b[1;33m\u001b[0m\u001b[1;33m\u001b[0m\u001b[0m\n\u001b[0;32m     36\u001b[0m \u001b[1;33m\u001b[0m\u001b[0m\n",
      "\u001b[1;31mNameError\u001b[0m: name 'txt' is not defined"
     ]
    }
   ],
   "source": [
    "data = {\n",
    "    'head' : [],\n",
    "    'body' : []\n",
    "}\n",
    "\n",
    "page_max = get_max_page(get_next_page(soup))\n",
    "\n",
    "for page in range(0, page_max):\n",
    "\n",
    "    page = page + 1\n",
    "    web_url = base_url + '?page=' + str(page)\n",
    "\n",
    "    page_size = len(data['body'])\n",
    "\n",
    "    with urllib.request.urlopen(web_url) as response:\n",
    "        html = response.read()\n",
    "        soup = BeautifulSoup(html, 'html.parser')\n",
    "\n",
    "        for i, row in enumerate(soup.select('#container .sub_book_list')):\n",
    "            \n",
    "            idx = page_size + i\n",
    "            data['body'].append({})\n",
    "\n",
    "            # P_CODE\n",
    "            element = row.select_one('.pop_quick_bg')\n",
    "            attr = element.get('onclick')\n",
    "            match = re.compile(r\"p_code=(\\S+\\d+)\").search(attr)\n",
    "            text = match.group(1) if match != None else 0\n",
    "            data['body'][i].update({'p_code':text})\n",
    "\n",
    "            # TITLE\n",
    "            element = row.select_one('.book_tit')\n",
    "            text = element.get_text(strip=True)\n",
    "            data['head'].append(txt)\n",
    "            data['body'][i].update({'title':text})\n",
    "\n",
    "            # WRITER\n",
    "            element = row.select_one('.book_writer')\n",
    "            text = element.get_text(strip=True)\n",
    "            data['body'][i].update({'writer':text})\n",
    "\n",
    "            # PRICE\n",
    "            element = row.select_one('.price')\n",
    "            text = element.get_text(strip=True)\n",
    "            text = int(text.replace(',', '').replace('원', ''))\n",
    "            data['body'][i].update({'price':text})"
   ]
  },
  {
   "cell_type": "code",
   "execution_count": 9,
   "metadata": {},
   "outputs": [
    {
     "output_type": "execute_result",
     "data": {
      "text/plain": [
       "301"
      ]
     },
     "metadata": {},
     "execution_count": 9
    }
   ],
   "source": [
    "len(data['body'])"
   ]
  },
  {
   "cell_type": "code",
   "execution_count": 10,
   "metadata": {},
   "outputs": [
    {
     "output_type": "execute_result",
     "data": {
      "text/plain": [
       "          p_code                                              title  \\\n",
       "0    B4797877052                                        포르잔 C++ 에센셜   \n",
       "1    B6503201303           IT CookBook, 액세스 2019로 배우는 데이터베이스 기초와 실습   \n",
       "2    B1851418066                                        포르잔 C++ 바이블   \n",
       "3    B9479195027                                      딥러닝을 위한 선형대수학   \n",
       "4    B2082711299            IT CookBook, 오라클로 배우는 데이터베이스 개론과 실습(2판)   \n",
       "..           ...                                                ...   \n",
       "296  B5468706684                      문제해결력을 키우는 이공계 글쓰기 : 발표와 토론까지   \n",
       "297  B1672014946                진로개발과 직업세계 : 대학생과 청년층을 위한 진로, 취업지침서   \n",
       "298  B4698900723                                 Essential Calculus   \n",
       "299  B2947348985  IT CookBook, 디지털 통신 시스템 : Digital Communicatio...   \n",
       "300  B4601735413     IT CookBook, 운영체제론 : Operating Systems, 3rd Ed   \n",
       "\n",
       "                                       writer  price  \n",
       "0    Behrouz A. Forouzan , Richard F. Gilberg  32000  \n",
       "1                                         김지연  28000  \n",
       "2    Behrouz A. Forouzan , Richard F. Gilberg  45000  \n",
       "3                              Gilbert Strang  38000  \n",
       "4                             박우창 , 남송휘 , 이현룡  29000  \n",
       "..                                        ...    ...  \n",
       "296                                       한성우  18000  \n",
       "297                     서일수 , 김도균 , 김지혜 , 이정배  20000  \n",
       "298                             James Stewart  36000  \n",
       "299                                 정호영 , 임승각  25000  \n",
       "300                    하비 디텔 , 폴 디텔 , 데이빗 쇼픈스  32000  \n",
       "\n",
       "[301 rows x 4 columns]"
      ],
      "text/html": "<div>\n<style scoped>\n    .dataframe tbody tr th:only-of-type {\n        vertical-align: middle;\n    }\n\n    .dataframe tbody tr th {\n        vertical-align: top;\n    }\n\n    .dataframe thead th {\n        text-align: right;\n    }\n</style>\n<table border=\"1\" class=\"dataframe\">\n  <thead>\n    <tr style=\"text-align: right;\">\n      <th></th>\n      <th>p_code</th>\n      <th>title</th>\n      <th>writer</th>\n      <th>price</th>\n    </tr>\n  </thead>\n  <tbody>\n    <tr>\n      <th>0</th>\n      <td>B4797877052</td>\n      <td>포르잔 C++ 에센셜</td>\n      <td>Behrouz A. Forouzan , Richard F. Gilberg</td>\n      <td>32000</td>\n    </tr>\n    <tr>\n      <th>1</th>\n      <td>B6503201303</td>\n      <td>IT CookBook, 액세스 2019로 배우는 데이터베이스 기초와 실습</td>\n      <td>김지연</td>\n      <td>28000</td>\n    </tr>\n    <tr>\n      <th>2</th>\n      <td>B1851418066</td>\n      <td>포르잔 C++ 바이블</td>\n      <td>Behrouz A. Forouzan , Richard F. Gilberg</td>\n      <td>45000</td>\n    </tr>\n    <tr>\n      <th>3</th>\n      <td>B9479195027</td>\n      <td>딥러닝을 위한 선형대수학</td>\n      <td>Gilbert Strang</td>\n      <td>38000</td>\n    </tr>\n    <tr>\n      <th>4</th>\n      <td>B2082711299</td>\n      <td>IT CookBook, 오라클로 배우는 데이터베이스 개론과 실습(2판)</td>\n      <td>박우창 , 남송휘 , 이현룡</td>\n      <td>29000</td>\n    </tr>\n    <tr>\n      <th>...</th>\n      <td>...</td>\n      <td>...</td>\n      <td>...</td>\n      <td>...</td>\n    </tr>\n    <tr>\n      <th>296</th>\n      <td>B5468706684</td>\n      <td>문제해결력을 키우는 이공계 글쓰기 : 발표와 토론까지</td>\n      <td>한성우</td>\n      <td>18000</td>\n    </tr>\n    <tr>\n      <th>297</th>\n      <td>B1672014946</td>\n      <td>진로개발과 직업세계 : 대학생과 청년층을 위한 진로, 취업지침서</td>\n      <td>서일수 , 김도균 , 김지혜 , 이정배</td>\n      <td>20000</td>\n    </tr>\n    <tr>\n      <th>298</th>\n      <td>B4698900723</td>\n      <td>Essential Calculus</td>\n      <td>James Stewart</td>\n      <td>36000</td>\n    </tr>\n    <tr>\n      <th>299</th>\n      <td>B2947348985</td>\n      <td>IT CookBook, 디지털 통신 시스템 : Digital Communicatio...</td>\n      <td>정호영 , 임승각</td>\n      <td>25000</td>\n    </tr>\n    <tr>\n      <th>300</th>\n      <td>B4601735413</td>\n      <td>IT CookBook, 운영체제론 : Operating Systems, 3rd Ed</td>\n      <td>하비 디텔 , 폴 디텔 , 데이빗 쇼픈스</td>\n      <td>32000</td>\n    </tr>\n  </tbody>\n</table>\n<p>301 rows × 4 columns</p>\n</div>"
     },
     "metadata": {},
     "execution_count": 10
    }
   ],
   "source": [
    "df = pd.DataFrame(data['body'])\n",
    "df.sort_values(by=\"price\", ascending=False)\n",
    "df"
   ]
  }
 ]
}