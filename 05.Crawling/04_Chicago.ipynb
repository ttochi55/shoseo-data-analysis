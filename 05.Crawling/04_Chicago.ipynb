{
 "metadata": {
  "language_info": {
   "codemirror_mode": {
    "name": "ipython",
    "version": 3
   },
   "file_extension": ".py",
   "mimetype": "text/x-python",
   "name": "python",
   "nbconvert_exporter": "python",
   "pygments_lexer": "ipython3",
   "version": "3.8.3-final"
  },
  "orig_nbformat": 2,
  "kernelspec": {
   "name": "python3",
   "display_name": "Python 3"
  }
 },
 "nbformat": 4,
 "nbformat_minor": 2,
 "cells": [
  {
   "source": [
    "# Chicago"
   ],
   "cell_type": "markdown",
   "metadata": {}
  },
  {
   "cell_type": "code",
   "execution_count": 1,
   "metadata": {},
   "outputs": [],
   "source": [
    "import pandas as pd\n",
    "import numpy as np\n",
    "import re\n",
    "\n",
    "# Crawling\n",
    "from bs4 import BeautifulSoup\n",
    "from selenium import webdriver\n",
    "from urllib.request import urlopen\n",
    "import urllib.request\n",
    "import urllib.parse\n",
    "    \n",
    "# conda install -c conda-forge tqdm\n",
    "from tqdm import tqdm\n",
    "from tqdm import tqdm_notebook\n",
    "import time"
   ]
  },
  {
   "source": [
    "## 3-3 실전: 시카고 샌드위치 맛집 소개 사이트에 접근하기"
   ],
   "cell_type": "markdown",
   "metadata": {}
  },
  {
   "cell_type": "code",
   "execution_count": 111,
   "metadata": {},
   "outputs": [
    {
     "output_type": "execute_result",
     "data": {
      "text/plain": [
       "[{'rank': 1,\n",
       "  'menu': 'BLT',\n",
       "  'cafe': 'Old Oak Tap',\n",
       "  'title': 'Old Oak Tap BLT',\n",
       "  'link': 'https://www.chicagomag.com/Chicago-Magazine/November-2012/Best-Sandwiches-in-Chicago-Old-Oak-Tap-BLT/'},\n",
       " {'rank': 2,\n",
       "  'menu': 'Fried Bologna',\n",
       "  'cafe': 'Au Cheval',\n",
       "  'title': 'Au Cheval Fried Bologna',\n",
       "  'link': 'https://www.chicagomag.com/Chicago-Magazine/November-2012/Best-Sandwiches-in-Chicago-Au-Cheval-Fried-Bologna/'}]"
      ]
     },
     "metadata": {},
     "execution_count": 111
    }
   ],
   "source": [
    "import requests\n",
    "url = 'https://www.chicagomag.com/Chicago-Magazine/November-2012/Best-Sandwiches-Chicago/'\n",
    "header = {'User-Agent': 'Mozilla/5.0 (Windows NT 10.0; Win64; x64) AppleWebKit/537.36 (KHTML, like Gecko) Chrome/80.0.3987.87 Safari/537.36'}\n",
    "req = requests.get(url, headers = header)\n",
    "soup = BeautifulSoup(req.text, 'html.parser')\n",
    "\n",
    "listdata = []\n",
    "\n",
    "for i, row in enumerate(soup.select('#page .sammy')):\n",
    "\n",
    "    listdata.append({})\n",
    "\n",
    "    # Rank\n",
    "    elRank = row.select_one('.sammyRank')\n",
    "    elRankText = int(elRank.get_text(strip=True))\n",
    "    listdata[i].update({'rank':elRankText})\n",
    "\n",
    "    # Listing\n",
    "    elListing = row.select_one('.sammyListing a')\n",
    "    elListing.em.extract()\n",
    "\n",
    "    # LIST\n",
    "    tmpArr = []\n",
    "\n",
    "    # Menu\n",
    "    elMenu = elListing.select_one('b')\n",
    "    elMenuText = elMenu.get_text(strip=True)\n",
    "    listdata[i].update({'menu':elMenuText})\n",
    "    tmpArr.append(elMenuText)\n",
    "\n",
    "    # Cafe\n",
    "    elCafe = elListing\n",
    "    elCafe.b.extract()\n",
    "    elCafeText = elCafe.get_text(strip=True)\n",
    "    listdata[i].update({'cafe':elCafeText})\n",
    "    tmpArr.append(elCafeText)\n",
    "\n",
    "    # Title\n",
    "    tmpArr.reverse()\n",
    "    elTitleText = ' '.join(tmpArr)\n",
    "    listdata[i].update({'title':elTitleText})\n",
    "\n",
    "    # Link\n",
    "    elLink = elListing\n",
    "    elLinkBase = 'https://www.chicagomag.com'\n",
    "    elLinkText = urllib.parse.urljoin(base=elLinkBase, url=elLink.get('href'))\n",
    "    listdata[i].update({'link':elLinkText})\n",
    "\n",
    "listdata[:2]"
   ]
  },
  {
   "cell_type": "code",
   "execution_count": 169,
   "metadata": {},
   "outputs": [],
   "source": [
    "df = pd.DataFrame(listdata)\n",
    "df.to_csv('04_chicago_list.csv', sep=',', encoding='utf8')"
   ]
  },
  {
   "source": [
    "## 3-4 다수의 웹 페이지에 자동으로 접근해서 원하는 정보 가져오기"
   ],
   "cell_type": "markdown",
   "metadata": {}
  },
  {
   "cell_type": "code",
   "execution_count": 100,
   "metadata": {},
   "outputs": [
    {
     "output_type": "execute_result",
     "data": {
      "text/plain": [
       "[{'title': 'Old Oak Tap BLT',\n",
       "  'price': 10,\n",
       "  'address': '2109 W. Chicago Ave.',\n",
       "  'tel': '773-772-0406',\n",
       "  'link': 'theoldoaktap.com'}]"
      ]
     },
     "metadata": {},
     "execution_count": 100
    }
   ],
   "source": [
    "tmp_html = urlopen(df['link'][0])\n",
    "tmp_soup = BeautifulSoup(tmp_html, 'html.parser')\n",
    "\n",
    "viewdata = []\n",
    "\n",
    "viewdata.append({})\n",
    "\n",
    "# Title\n",
    "elTitle = tmp_soup.select_one('#article-header-image-container .headline')\n",
    "elTitleText = elTitle.get_text(strip=True)\n",
    "elTitleText = re.sub('^\\d+\\.', '', elTitleText).strip()\n",
    "viewdata[0].update({'title': elTitleText})\n",
    "\n",
    "# Addy\n",
    "elAddy = tmp_soup.select_one('.addy')\n",
    "\n",
    "text = elAddy.em.get_text(strip=True).split(',')\n",
    "textArr = text[0].split(' ')\n",
    "\n",
    "price = int(re.sub('\\D+', '', textArr[0]))\n",
    "viewdata[0].update({'price': price})\n",
    "\n",
    "address = ' '.join(textArr[1:]).strip()\n",
    "viewdata[0].update({'address': address})\n",
    "\n",
    "tel = text[1].strip()\n",
    "viewdata[0].update({'tel': tel})\n",
    "\n",
    "link = text[2].strip()\n",
    "viewdata[0].update({'link': link})\n",
    "\n",
    "viewdata[:1]"
   ]
  },
  {
   "cell_type": "code",
   "execution_count": 122,
   "metadata": {},
   "outputs": [
    {
     "output_type": "execute_result",
     "data": {
      "text/plain": [
       "[{'rank': 1,\n",
       "  'menu': 'BLT',\n",
       "  'cafe': 'Old Oak Tap',\n",
       "  'title': 'Old Oak Tap BLT',\n",
       "  'link': 'https://www.chicagomag.com/Chicago-Magazine/November-2012/Best-Sandwiches-in-Chicago-Old-Oak-Tap-BLT/'},\n",
       " {'rank': 2,\n",
       "  'menu': 'Fried Bologna',\n",
       "  'cafe': 'Au Cheval',\n",
       "  'title': 'Au Cheval Fried Bologna',\n",
       "  'link': 'https://www.chicagomag.com/Chicago-Magazine/November-2012/Best-Sandwiches-in-Chicago-Au-Cheval-Fried-Bologna/'}]"
      ]
     },
     "metadata": {},
     "execution_count": 122
    }
   ],
   "source": [
    "listdata[:2]"
   ]
  },
  {
   "cell_type": "code",
   "execution_count": 166,
   "metadata": {},
   "outputs": [
    {
     "output_type": "stream",
     "name": "stdout",
     "text": [
      "0 https://www.chicagomag.com/Chicago-Magazine/November-2012/Best-Sandwiches-in-Chicago-Old-Oak-Tap-BLT/\n",
      "1 https://www.chicagomag.com/Chicago-Magazine/November-2012/Best-Sandwiches-in-Chicago-Au-Cheval-Fried-Bologna/\n",
      "2 https://www.chicagomag.com/Chicago-Magazine/November-2012/Best-Sandwiches-in-Chicago-Xoco-Woodland-Mushroom/\n",
      "3 https://www.chicagomag.com/Chicago-Magazine/November-2012/Best-Sandwiches-in-Chicago-Als-Deli-Roast-Beef/\n",
      "4 https://www.chicagomag.com/Chicago-Magazine/November-2012/Best-Sandwiches-in-Chicago-Publican-Quality-Meats-PB-L/\n",
      "5 http://www.chicagomag.com/Chicago-Magazine/November-2012/Best-Sandwiches-in-Chicago-Hendrickx-Belgian-Bread-Crafter-Belgian-Chicken-Curry-Salad/\n",
      "6 https://www.chicagomag.com/Chicago-Magazine/November-2012/Best-Sandwiches-in-Chicago-Acadia-Lobster-Roll/\n",
      "7 https://www.chicagomag.com/Chicago-Magazine/November-2012/Best-Sandwiches-in-Chicago-Birchwood-Kitchen-Smoked-Salmon-Salad/\n",
      "8 https://www.chicagomag.com/Chicago-Magazine/November-2012/Best-Sandwiches-in-Chicago-Cemitas-Puebla-Atomica-Cemitas/\n",
      "9 https://www.chicagomag.com/Chicago-Magazine/November-2012/Best-Sandwiches-in-Chicago-Nana-Grilled-Laughing-Bird-Shrimp-and-Fried-Oyster-Po-Boy/\n",
      "10 http://www.chicagomag.com/Chicago-Magazine/November-2012/Best-Sandwiches-in-Chicago-Lula-Cafe-Ham-and-Raclette-Panino/\n",
      "11 http://www.chicagomag.com/Chicago-Magazine/November-2012/Best-Sandwiches-in-Chicago-Ricobenes-Breaded-Steak/\n",
      "12 http://www.chicagomag.com/Chicago-Magazine/November-2012/Best-Sandwiches-in-Chicago-Frog-n-Snail-The-Hawkeye/\n",
      "13 http://www.chicagomag.com/Chicago-Magazine/November-2012/Best-Sandwiches-in-Chicago-Crosbys-Kitchen-Chicken-Dip/\n",
      "14 http://www.chicagomag.com/Chicago-Magazine/November-2012/Best-Sandwiches-in-Chicago-Longman-and-Eagle-Wild-Boar-Sloppy-Joe/\n",
      "15 http://www.chicagomag.com/Chicago-Magazine/November-2012/Best-Sandwiches-in-Chicago-Bari-Meatball-Sub/\n",
      "16 http://www.chicagomag.com/Chicago-Magazine/November-2012/Best-Sandwiches-in-Chicago-Mannys-Corned-Beef/\n",
      "17 http://www.chicagomag.com/Chicago-Magazine/November-2012/Best-Sandwiches-in-Chicago-Eggys-Turkey-Club/\n",
      "18 http://www.chicagomag.com/Chicago-Magazine/November-2012/Best-Sandwiches-in-Chicago-Old-Jerusalem-Falafel/\n",
      "19 http://www.chicagomag.com/Chicago-Magazine/November-2012/Best-Sandwiches-in-Chicago-Mindys-HotChocolate-Crab-Cake/\n",
      "20 http://www.chicagomag.com/Chicago-Magazine/November-2012/Best-Sandwiches-in-Chicago-Olgas-Delicatessen-Chicken-Schnitzel/\n",
      "21 http://www.chicagomag.com/Chicago-Magazine/November-2012/Best-Sandwiches-in-Chicago-Dawali-Mediterranean-Kitchen-Shawarma/\n",
      "22 http://www.chicagomag.com/Chicago-Magazine/November-2012/Best-Sandwiches-in-Chicago-Big-Jones-Toasted-Pimiento-Cheese/\n",
      "23 http://www.chicagomag.com/Chicago-Magazine/November-2012/Best-Sandwiches-in-Chicago-La-Pane-Vegetarian-Panino/\n",
      "24 https://www.chicagomag.com/Chicago-Magazine/November-2012/Best-Sandwiches-in-Chicago-Pastoral-Cali-Chevre/\n",
      "25 http://www.chicagomag.com/Chicago-Magazine/November-2012/Best-Sandwiches-in-Chicago-Maxs-Deli-Pastrami/\n",
      "26 http://www.chicagomag.com/Chicago-Magazine/November-2012/Best-Sandwiches-in-Chicago-Luckys-Sandwich-Co-The-Fredo/\n",
      "27 http://www.chicagomag.com/Chicago-Magazine/November-2012/Best-Sandwiches-in-Chicago-City-Provisions-Smoked-Ham/\n",
      "28 http://www.chicagomag.com/Chicago-Magazine/November-2012/Best-Sandwiches-in-Chicago-Papas-Cache-Sabroso-Jibarito/\n",
      "29 http://www.chicagomag.com/Chicago-Magazine/November-2012/Best-Sandwiches-in-Chicago-Bavettes-Bar-and-Boeuf-Shaved-Prime-Rib/\n",
      "30 http://www.chicagomag.com/Chicago-Magazine/November-2012/Best-Sandwiches-in-Chicago-Hannahs-Bretzel-Serrano-Ham-and-Manchego-Cheese/\n",
      "31 http://www.chicagomag.com/Chicago-Magazine/November-2012/Best-Sandwiches-in-Chicago-La-Fournette-Tuna-Salad/\n",
      "32 http://www.chicagomag.com/Chicago-Magazine/November-2012/Best-Sandwiches-in-Chicago-Paramount-Room-Paramount-Reuben/\n",
      "33 http://www.chicagomag.com/Chicago-Magazine/November-2012/Best-Sandwiches-in-Chicago-Melt-Sandwich-Shoppe-The-Istanbul/\n",
      "34 http://www.chicagomag.com/Chicago-Magazine/November-2012/Best-Sandwiches-in-Chicago-Floriole-Cafe-and-Bakery-BAD/\n",
      "35 http://www.chicagomag.com/Chicago-Magazine/November-2012/Best-Sandwiches-in-Chicago-First-Slice-Pie-Cafe-Duck-Confit-and-Mozzarella/\n",
      "36 http://www.chicagomag.com/Chicago-Magazine/November-2012/Best-Sandwiches-in-Chicago-Troquet-Croque-Monsieur/\n",
      "37 http://www.chicagomag.com/Chicago-Magazine/November-2012/Best-Sandwiches-in-Chicago-Grahamwich-Green-Garbanzo/\n",
      "38 http://www.chicagomag.com/Chicago-Magazine/November-2012/Best-Sandwiches-in-Chicago-Saigon-Sisters-The-Hen-House/\n",
      "39 http://www.chicagomag.com/Chicago-Magazine/November-2012/Best-Sandwiches-in-Chicago-Rosalias-Deli-Tuscan-Chicken/\n",
      "40 http://www.chicagomag.com/Chicago-Magazine/November-2012/Best-Sandwiches-in-Chicago-Z-and-H-MarketCafe-The-Marty/\n",
      "41 http://www.chicagomag.com/Chicago-Magazine/November-2012/Best-Sandwiches-in-Chicago-Market-House-on-the-Square-Whitefish/\n",
      "42 http://www.chicagomag.com/Chicago-Magazine/November-2012/Best-Sandwiches-in-Chicago-Elaines-Coffee-Call-Oat-Bread-Pecan-Butter-and-Fruit-Jam/\n",
      "43 http://www.chicagomag.com/Chicago-Magazine/November-2012/Best-Sandwiches-in-Chicago-Marion-Street-Cheese-Market-Cauliflower-Melt/\n",
      "44 http://www.chicagomag.com/Chicago-Magazine/November-2012/Best-Sandwiches-in-Chicago-Cafecito-Cubano/\n",
      "45 http://www.chicagomag.com/Chicago-Magazine/November-2012/Best-Sandwiches-in-Chicago-Chickpea-Kufta/\n",
      "46 http://www.chicagomag.com/Chicago-Magazine/November-2012/Best-Sandwiches-in-Chicago-The-Goddess-and-Grocer-Debbies-Egg-Salad/\n",
      "47 http://www.chicagomag.com/Chicago-Magazine/November-2012/Best-Sandwiches-in-Chicago-Zenwich-Beef-Curry/\n",
      "48 http://www.chicagomag.com/Chicago-Magazine/November-2012/Best-Sandwiches-in-Chicago-Toni-Patisserie-Le-Vegetarien/\n",
      "49 http://www.chicagomag.com/Chicago-Magazine/November-2012/Best-Sandwiches-in-Chicago-Phoebes-Bakery-The-Gatsby/\n"
     ]
    },
    {
     "output_type": "execute_result",
     "data": {
      "text/plain": [
       "[{'title': 'Old Oak Tap BLT',\n",
       "  'price': 10,\n",
       "  'address': '2109 W. Chicago Ave.',\n",
       "  'tel': '773-772-0406',\n",
       "  'link': 'theoldoaktap.com'},\n",
       " {'title': 'Au Cheval Fried Bologna',\n",
       "  'price': 9,\n",
       "  'address': '800 W. Randolph St.',\n",
       "  'tel': '312-929-4580',\n",
       "  'link': 'aucheval.tumblr.com'}]"
      ]
     },
     "metadata": {},
     "execution_count": 166
    }
   ],
   "source": [
    "viewdata = []\n",
    "\n",
    "for i, item in enumerate(listdata):\n",
    "\n",
    "    viewdata.append({})\n",
    "\n",
    "    # if i != 5:\n",
    "    # if i > 9:\n",
    "    #     continue\n",
    "\n",
    "    web_url = item['link']\n",
    "\n",
    "    print(i, web_url)\n",
    "\n",
    "    with urllib.request.urlopen(web_url) as response:\n",
    "\n",
    "        html = response.read()\n",
    "        soup = BeautifulSoup(html, 'html.parser')\n",
    "\n",
    "        # Title\n",
    "        elTitle = soup.select_one('#page h1.headline')\n",
    "        elTitleText = elTitle.get_text(strip=True)\n",
    "        elTitleText = re.sub('^[0-9.]{1,}', '', elTitleText).strip()\n",
    "        viewdata[i].update({'title': elTitleText})\n",
    "\n",
    "        # Addy\n",
    "        elAddy = soup.select_one('.addy')\n",
    "\n",
    "        text = elAddy.em.get_text(strip=True).split(',')\n",
    "        textArr = text[0].split(' ')\n",
    "        textLen = len(text)\n",
    "\n",
    "        price = int(re.sub('\\D+', '', textArr[0]))\n",
    "        viewdata[i].update({'price': price})\n",
    "\n",
    "        address = ' '.join(textArr[1:]).strip()\n",
    "        viewdata[i].update({'address': address})\n",
    "\n",
    "        if textLen > 1:\n",
    "            tel = text[1].strip()\n",
    "            viewdata[i].update({'tel': tel})\n",
    "\n",
    "        if textLen > 2:\n",
    "            link = text[2].strip()\n",
    "            viewdata[i].update({'link': link})\n",
    "\n",
    "viewdata[:2]"
   ]
  },
  {
   "cell_type": "code",
   "execution_count": 94,
   "metadata": {},
   "outputs": [
    {
     "output_type": "execute_result",
     "data": {
      "text/plain": [
       "[{'rank': 1,\n",
       "  'menu': 'BLT',\n",
       "  'cafe': 'Old Oak Tap',\n",
       "  'title': 'Old Oak Tap BLT',\n",
       "  'link': 'https://www.chicagomag.com/Chicago-Magazine/November-2012/Best-Sandwiches-in-Chicago-Old-Oak-Tap-BLT/'}]"
      ]
     },
     "metadata": {},
     "execution_count": 94
    }
   ],
   "source": [
    "listdata[:1]"
   ]
  },
  {
   "cell_type": "code",
   "execution_count": 174,
   "metadata": {},
   "outputs": [
    {
     "output_type": "execute_result",
     "data": {
      "text/plain": [
       "   rank               menu                    cafe  \\\n",
       "0   1.0                BLT             Old Oak Tap   \n",
       "1   2.0      Fried Bologna               Au Cheval   \n",
       "2   3.0  Woodland Mushroom                    Xoco   \n",
       "3   4.0         Roast Beef               Al’s Deli   \n",
       "4   5.0               PB&L  Publican Quality Meats   \n",
       "\n",
       "                         title  price               address           tel  \\\n",
       "0              Old Oak Tap BLT   10.0  2109 W. Chicago Ave.  773-772-0406   \n",
       "1      Au Cheval Fried Bologna    9.0   800 W. Randolph St.  312-929-4580   \n",
       "2       Xoco Woodland Mushroom  950.0      445 N. Clark St.  312-334-3688   \n",
       "3         Al’s Deli Roast Beef  940.0         914 Noyes St.      Evanston   \n",
       "4  Publican Quality Meats PB&L   10.0    825 W. Fulton Mkt.  312-445-8977   \n",
       "\n",
       "                     domain                                               link  \n",
       "0          theoldoaktap.com  https://www.chicagomag.com/Chicago-Magazine/No...  \n",
       "1       aucheval.tumblr.com  https://www.chicagomag.com/Chicago-Magazine/No...  \n",
       "2           rickbayless.com  https://www.chicagomag.com/Chicago-Magazine/No...  \n",
       "3              847-475-9400  https://www.chicagomag.com/Chicago-Magazine/No...  \n",
       "4  publicanqualitymeats.com  https://www.chicagomag.com/Chicago-Magazine/No...  "
      ],
      "text/html": "<div>\n<style scoped>\n    .dataframe tbody tr th:only-of-type {\n        vertical-align: middle;\n    }\n\n    .dataframe tbody tr th {\n        vertical-align: top;\n    }\n\n    .dataframe thead th {\n        text-align: right;\n    }\n</style>\n<table border=\"1\" class=\"dataframe\">\n  <thead>\n    <tr style=\"text-align: right;\">\n      <th></th>\n      <th>rank</th>\n      <th>menu</th>\n      <th>cafe</th>\n      <th>title</th>\n      <th>price</th>\n      <th>address</th>\n      <th>tel</th>\n      <th>domain</th>\n      <th>link</th>\n    </tr>\n  </thead>\n  <tbody>\n    <tr>\n      <th>0</th>\n      <td>1.0</td>\n      <td>BLT</td>\n      <td>Old Oak Tap</td>\n      <td>Old Oak Tap BLT</td>\n      <td>10.0</td>\n      <td>2109 W. Chicago Ave.</td>\n      <td>773-772-0406</td>\n      <td>theoldoaktap.com</td>\n      <td>https://www.chicagomag.com/Chicago-Magazine/No...</td>\n    </tr>\n    <tr>\n      <th>1</th>\n      <td>2.0</td>\n      <td>Fried Bologna</td>\n      <td>Au Cheval</td>\n      <td>Au Cheval Fried Bologna</td>\n      <td>9.0</td>\n      <td>800 W. Randolph St.</td>\n      <td>312-929-4580</td>\n      <td>aucheval.tumblr.com</td>\n      <td>https://www.chicagomag.com/Chicago-Magazine/No...</td>\n    </tr>\n    <tr>\n      <th>2</th>\n      <td>3.0</td>\n      <td>Woodland Mushroom</td>\n      <td>Xoco</td>\n      <td>Xoco Woodland Mushroom</td>\n      <td>950.0</td>\n      <td>445 N. Clark St.</td>\n      <td>312-334-3688</td>\n      <td>rickbayless.com</td>\n      <td>https://www.chicagomag.com/Chicago-Magazine/No...</td>\n    </tr>\n    <tr>\n      <th>3</th>\n      <td>4.0</td>\n      <td>Roast Beef</td>\n      <td>Al’s Deli</td>\n      <td>Al’s Deli Roast Beef</td>\n      <td>940.0</td>\n      <td>914 Noyes St.</td>\n      <td>Evanston</td>\n      <td>847-475-9400</td>\n      <td>https://www.chicagomag.com/Chicago-Magazine/No...</td>\n    </tr>\n    <tr>\n      <th>4</th>\n      <td>5.0</td>\n      <td>PB&amp;L</td>\n      <td>Publican Quality Meats</td>\n      <td>Publican Quality Meats PB&amp;L</td>\n      <td>10.0</td>\n      <td>825 W. Fulton Mkt.</td>\n      <td>312-445-8977</td>\n      <td>publicanqualitymeats.com</td>\n      <td>https://www.chicagomag.com/Chicago-Magazine/No...</td>\n    </tr>\n  </tbody>\n</table>\n</div>"
     },
     "metadata": {},
     "execution_count": 174
    }
   ],
   "source": [
    "df1 = pd.DataFrame(listdata)\n",
    "df2 = pd.DataFrame(viewdata)\n",
    "df = pd.merge(df1, df2, on='title', how='outer')\n",
    "\n",
    "# Drop and Replace\n",
    "# df.drop(['title_y', 'writer'], inplace=True, axis=1)\n",
    "df.rename(columns={\n",
    "    'link_x': 'link',\n",
    "    'link_y': 'domain',\n",
    "}, inplace=True)\n",
    "\n",
    "# Reorder\n",
    "df = df[['rank', 'menu', 'cafe', 'title', 'price', 'address', 'tel', 'domain', 'link']]\n",
    "\n",
    "df.head()"
   ]
  },
  {
   "cell_type": "code",
   "execution_count": 175,
   "metadata": {},
   "outputs": [],
   "source": [
    "df.to_csv('04_chicago.csv', sep=',', encoding='utf8')"
   ]
  },
  {
   "source": [
    "## 3-8 맛집 위치를 지도에 표시하기\n",
    "\n",
    "```\n",
    "conda install -c conda-forge folium\n",
    "conda install -c conda-forge googlemaps\n",
    "```"
   ],
   "cell_type": "markdown",
   "metadata": {}
  },
  {
   "cell_type": "code",
   "execution_count": null,
   "metadata": {},
   "outputs": [],
   "source": [
    "import folium\n",
    "import googlemaps"
   ]
  },
  {
   "cell_type": "code",
   "execution_count": 177,
   "metadata": {},
   "outputs": [
    {
     "output_type": "execute_result",
     "data": {
      "text/plain": [
       "   rank               menu                    cafe  \\\n",
       "0   1.0                BLT             Old Oak Tap   \n",
       "1   2.0      Fried Bologna               Au Cheval   \n",
       "2   3.0  Woodland Mushroom                    Xoco   \n",
       "3   4.0         Roast Beef               Al’s Deli   \n",
       "4   5.0               PB&L  Publican Quality Meats   \n",
       "\n",
       "                         title  price               address           tel  \\\n",
       "0              Old Oak Tap BLT   10.0  2109 W. Chicago Ave.  773-772-0406   \n",
       "1      Au Cheval Fried Bologna    9.0   800 W. Randolph St.  312-929-4580   \n",
       "2       Xoco Woodland Mushroom  950.0      445 N. Clark St.  312-334-3688   \n",
       "3         Al’s Deli Roast Beef  940.0         914 Noyes St.      Evanston   \n",
       "4  Publican Quality Meats PB&L   10.0    825 W. Fulton Mkt.  312-445-8977   \n",
       "\n",
       "                     domain                                               link  \n",
       "0          theoldoaktap.com  https://www.chicagomag.com/Chicago-Magazine/No...  \n",
       "1       aucheval.tumblr.com  https://www.chicagomag.com/Chicago-Magazine/No...  \n",
       "2           rickbayless.com  https://www.chicagomag.com/Chicago-Magazine/No...  \n",
       "3              847-475-9400  https://www.chicagomag.com/Chicago-Magazine/No...  \n",
       "4  publicanqualitymeats.com  https://www.chicagomag.com/Chicago-Magazine/No...  "
      ],
      "text/html": "<div>\n<style scoped>\n    .dataframe tbody tr th:only-of-type {\n        vertical-align: middle;\n    }\n\n    .dataframe tbody tr th {\n        vertical-align: top;\n    }\n\n    .dataframe thead th {\n        text-align: right;\n    }\n</style>\n<table border=\"1\" class=\"dataframe\">\n  <thead>\n    <tr style=\"text-align: right;\">\n      <th></th>\n      <th>rank</th>\n      <th>menu</th>\n      <th>cafe</th>\n      <th>title</th>\n      <th>price</th>\n      <th>address</th>\n      <th>tel</th>\n      <th>domain</th>\n      <th>link</th>\n    </tr>\n  </thead>\n  <tbody>\n    <tr>\n      <th>0</th>\n      <td>1.0</td>\n      <td>BLT</td>\n      <td>Old Oak Tap</td>\n      <td>Old Oak Tap BLT</td>\n      <td>10.0</td>\n      <td>2109 W. Chicago Ave.</td>\n      <td>773-772-0406</td>\n      <td>theoldoaktap.com</td>\n      <td>https://www.chicagomag.com/Chicago-Magazine/No...</td>\n    </tr>\n    <tr>\n      <th>1</th>\n      <td>2.0</td>\n      <td>Fried Bologna</td>\n      <td>Au Cheval</td>\n      <td>Au Cheval Fried Bologna</td>\n      <td>9.0</td>\n      <td>800 W. Randolph St.</td>\n      <td>312-929-4580</td>\n      <td>aucheval.tumblr.com</td>\n      <td>https://www.chicagomag.com/Chicago-Magazine/No...</td>\n    </tr>\n    <tr>\n      <th>2</th>\n      <td>3.0</td>\n      <td>Woodland Mushroom</td>\n      <td>Xoco</td>\n      <td>Xoco Woodland Mushroom</td>\n      <td>950.0</td>\n      <td>445 N. Clark St.</td>\n      <td>312-334-3688</td>\n      <td>rickbayless.com</td>\n      <td>https://www.chicagomag.com/Chicago-Magazine/No...</td>\n    </tr>\n    <tr>\n      <th>3</th>\n      <td>4.0</td>\n      <td>Roast Beef</td>\n      <td>Al’s Deli</td>\n      <td>Al’s Deli Roast Beef</td>\n      <td>940.0</td>\n      <td>914 Noyes St.</td>\n      <td>Evanston</td>\n      <td>847-475-9400</td>\n      <td>https://www.chicagomag.com/Chicago-Magazine/No...</td>\n    </tr>\n    <tr>\n      <th>4</th>\n      <td>5.0</td>\n      <td>PB&amp;L</td>\n      <td>Publican Quality Meats</td>\n      <td>Publican Quality Meats PB&amp;L</td>\n      <td>10.0</td>\n      <td>825 W. Fulton Mkt.</td>\n      <td>312-445-8977</td>\n      <td>publicanqualitymeats.com</td>\n      <td>https://www.chicagomag.com/Chicago-Magazine/No...</td>\n    </tr>\n  </tbody>\n</table>\n</div>"
     },
     "metadata": {},
     "execution_count": 177
    }
   ],
   "source": [
    "df = pd.read_csv('04_chicago.csv', index_col=0)\n",
    "df.head()"
   ]
  },
  {
   "cell_type": "code",
   "execution_count": null,
   "metadata": {},
   "outputs": [],
   "source": [
    "key_fd = open('googlemaps_key.txt', mode='r')\n",
    "gmaps_key = key_fd.read(100)\n",
    "key_fd.close()"
   ]
  },
  {
   "cell_type": "code",
   "execution_count": null,
   "metadata": {},
   "outputs": [],
   "source": [
    "gmaps_key = googlemaps\n",
    "gmaps = googlemaps.Client(key=gmaps_key)"
   ]
  },
  {
   "cell_type": "code",
   "execution_count": null,
   "metadata": {},
   "outputs": [],
   "source": []
  }
 ]
}