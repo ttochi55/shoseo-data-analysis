{
 "metadata": {
  "language_info": {
   "codemirror_mode": {
    "name": "ipython",
    "version": 3
   },
   "file_extension": ".py",
   "mimetype": "text/x-python",
   "name": "python",
   "nbconvert_exporter": "python",
   "pygments_lexer": "ipython3",
   "version": "3.8.3-final"
  },
  "orig_nbformat": 2,
  "kernelspec": {
   "name": "python3",
   "display_name": "Python 3"
  }
 },
 "nbformat": 4,
 "nbformat_minor": 2,
 "cells": [
  {
   "source": [
    "# Crawling"
   ],
   "cell_type": "markdown",
   "metadata": {}
  },
  {
   "cell_type": "code",
   "execution_count": 1,
   "metadata": {},
   "outputs": [],
   "source": [
    "from bs4 import BeautifulSoup"
   ]
  },
  {
   "source": [
    "### HTML 파일 열기"
   ],
   "cell_type": "markdown",
   "metadata": {}
  },
  {
   "cell_type": "code",
   "execution_count": 2,
   "metadata": {},
   "outputs": [
    {
     "output_type": "stream",
     "name": "stdout",
     "text": [
      "<!DOCTYPE html>\n\n<html lang=\"en\">\n<head>\n<meta charset=\"utf-8\"/>\n<meta content=\"width=device-width, initial-scale=1.0\" name=\"viewport\"/>\n<title>Document</title>\n</head>\n<body>\n<div>\n<p>a</p>\n<p>b</p>\n<p>c</p>\n</div>\n<div class=\"ex_class sample\">\n<p>1</p>\n<p>2</p>\n<p>3</p>\n</div>\n<div id=\"ex_id\">\n<p>X</p>\n<p>Y</p>\n<p>Z</p>\n</div>\n<h1>This is a heading.</h1>\n<p>This is a paragraph.</p>\n<a class=\"a sample\" href=\"www.naver.com\">Naver</a>\n</body>\n</html>\n"
     ]
    }
   ],
   "source": [
    "with open('00_Example.html') as fp:\n",
    "    soup = BeautifulSoup(fp, 'html.parser')\n",
    "    print(soup)"
   ]
  },
  {
   "source": [
    "### urllib를 통해서 웹에 있는 소스 가져오기"
   ],
   "cell_type": "markdown",
   "metadata": {}
  },
  {
   "cell_type": "code",
   "execution_count": 3,
   "metadata": {},
   "outputs": [],
   "source": [
    "import urllib.request\n",
    "import urllib.parse"
   ]
  },
  {
   "cell_type": "code",
   "execution_count": 4,
   "metadata": {
    "tags": []
   },
   "outputs": [
    {
     "output_type": "stream",
     "name": "stdout",
     "text": [
      "<!DOCTYPE html>\n\n<html lang=\"ko\">\n<head>\n<title>My BBS</title>\n<meta charset=\"utf-8\"/>\n<meta content=\"width=device-width, initial-scale=1\" name=\"viewport\"/>\n<link href=\"/bootstrap/css/bootstrap.min.css\" rel=\"stylesheet\"/>\n<link href=\"/fontawesome/css/all.min.css\" rel=\"stylesheet\"/>\n<script src=\"/jquery/jquery.min.js\"></script>\n<script src=\"/popper/popper.min.js\"></script>\n<script src=\"/bootstrap/js/bootstrap.min.js\"></script>\n</head>\n<body>\n<nav class=\"navbar navbar-expand-lg bg-dark navbar-dark fixed-top\">\n<a class=\"navbar-brand\" href=\"#\">\n<img alt=\"호서직업능력개발원\" src=\"/img/hoseo.png\" style=\"height: 40px; margin-left: 50px; margin-right: 80px;\"/>\n</a>\n<ul class=\"nav mr-auto\">\n<li class=\"nav-item nav-light\">\n<a class=\"nav-link\" href=\"/\"><i class=\"fas fa-home\"></i>홈</a>\n</li>\n<li class=\"nav-item\">\n<a class=\"nav-link\" href=\"/bbs/write\"><i class=\"far fa-edit\"></i>글쓰기</a>\n</li>\n<li class=\"nav-item\">\n<a class=\"nav-link\" href=\"/user/dispatch\"><i class=\"far fa-user\"></i>사용자</a>\n</li>\n<li class=\"nav-item\">\n<a class=\"nav-link\" href=\"/admin/viewChart\"><i class=\"fas fa-chart-bar\"></i></a>\n</li>\n<li class=\"nav-item ml-5\">\n<a class=\"nav-link\" href=\"/logout\"><i class=\"fas fa-sign-out-alt\"></i>로그아웃</a>\n</li>\n</ul>\n<nav class=\"navbar navbar-light mr-4\">\n<form action=\"/bbs/search\" class=\"form-inline\" method=\"post\">\n<input aria-label=\"Search\" class=\"form-control mr-sm-2\" name=\"keyword\" placeholder=\"검색\" type=\"search\"/>\n<button class=\"btn btn-outline-light my-2 my-sm-0\" type=\"submit\"><i class=\"fas fa-search\"></i></button>\n</form>\n</nav>\n<div class=\"navbar-text fixed-right mr-3\">\n                undefined님 반갑습니다.\n            </div>\n</nav>\n<div class=\"container\" style=\"margin-top: 90px;\">\n<div class=\"row\">\n<div class=\"col-12\">\n<h3>게시판 글 목록</h3>\n<hr/>\n</div>\n<div class=\"col-1\"></div>\n<div class=\"col-10\">\n<table class=\"table table-condensed table-hover\">\n<tr class=\"table-secondary d-flex\">\n<td class=\"col-1\" style=\"text-align: center;\"><strong>번호</strong></td>\n<td class=\"col-6\" style=\"text-align: center;\"><strong>제목</strong></td>\n<td class=\"col-2\" style=\"text-align: center;\"><strong>글쓴이</strong></td>\n<td class=\"col-2\" style=\"text-align: center;\"><strong>날짜/시간</strong></td>\n<td class=\"col-1\" style=\"text-align: center;\"><strong>조회수</strong></td>\n</tr>\n<tr class=\"d-flex\">\n<td class=\"col-1\" style=\"text-align: center;\">1013</td>\n<td class=\"col-6\"><a href=\"/bbs/bid/1013/inc/1\"><strong>리눅스 글쓰기</strong></a></td>\n<td class=\"col-2\" style=\"text-align: center;\">홍길동</td>\n<td class=\"col-2\" style=\"text-align: center;\">2020-10-27</td>\n<td class=\"col-1\" style=\"text-align: center;\">3</td>\n</tr>\n<tr class=\"d-flex\">\n<td class=\"col-1\" style=\"text-align: center;\">1012</td>\n<td class=\"col-6\"><a href=\"/bbs/bid/1012/inc/1\"><strong>마이크로소프트 엣지에서의 동작<span class=\"text-danger\">[2]</span></strong></a></td>\n<td class=\"col-2\" style=\"text-align: center;\">김은숙</td>\n<td class=\"col-2\" style=\"text-align: center;\">2020-10-23</td>\n<td class=\"col-1\" style=\"text-align: center;\">14</td>\n</tr>\n<tr class=\"d-flex\">\n<td class=\"col-1\" style=\"text-align: center;\">1011</td>\n<td class=\"col-6\"><a href=\"/bbs/bid/1011/inc/1\"><strong>역적 - 백성을 훔친 도적<span class=\"text-danger\">[1]</span></strong></a></td>\n<td class=\"col-2\" style=\"text-align: center;\">홍길동</td>\n<td class=\"col-2\" style=\"text-align: center;\">2020-10-23</td>\n<td class=\"col-1\" style=\"text-align: center;\">4</td>\n</tr>\n<tr class=\"d-flex\">\n<td class=\"col-1\" style=\"text-align: center;\">1010</td>\n<td class=\"col-6\"><a href=\"/bbs/bid/1010/inc/1\"><strong>홍길동전</strong></a></td>\n<td class=\"col-2\" style=\"text-align: center;\">홍길동</td>\n<td class=\"col-2\" style=\"text-align: center;\">2020-10-23</td>\n<td class=\"col-1\" style=\"text-align: center;\">3</td>\n</tr>\n<tr class=\"d-flex\">\n<td class=\"col-1\" style=\"text-align: center;\">1009</td>\n<td class=\"col-6\"><a href=\"/bbs/bid/1009/inc/1\"><strong>대조영<span class=\"text-danger\">[2]</span></strong></a></td>\n<td class=\"col-2\" style=\"text-align: center;\">대조영</td>\n<td class=\"col-2\" style=\"text-align: center;\">2020-10-23</td>\n<td class=\"col-1\" style=\"text-align: center;\">9</td>\n</tr>\n<tr class=\"d-flex\">\n<td class=\"col-1\" style=\"text-align: center;\">1008</td>\n<td class=\"col-6\"><a href=\"/bbs/bid/1008/inc/1\"><strong>Linux server를 원격 Windows에서 접속하여 글쓰기<span class=\"text-danger\">[3]</span></strong></a></td>\n<td class=\"col-2\" style=\"text-align: center;\">관리자</td>\n<td class=\"col-2\" style=\"text-align: center;\">2020-10-23</td>\n<td class=\"col-1\" style=\"text-align: center;\">7</td>\n</tr>\n<tr class=\"d-flex\">\n<td class=\"col-1\" style=\"text-align: center;\">1007</td>\n<td class=\"col-6\"><a href=\"/bbs/bid/1007/inc/1\"><strong>ubuntu에서 글쓰기<span class=\"text-danger\">[1]</span></strong></a></td>\n<td class=\"col-2\" style=\"text-align: center;\">관리자</td>\n<td class=\"col-2\" style=\"text-align: center;\">2020-10-22</td>\n<td class=\"col-1\" style=\"text-align: center;\">5</td>\n</tr>\n<tr class=\"d-flex\">\n<td class=\"col-1\" style=\"text-align: center;\">1006</td>\n<td class=\"col-6\"><a href=\"/bbs/bid/1006/inc/1\"><strong>슬기로운 의사생활<span class=\"text-danger\">[3]</span></strong></a></td>\n<td class=\"col-2\" style=\"text-align: center;\">이우정</td>\n<td class=\"col-2\" style=\"text-align: center;\">2020-10-22</td>\n<td class=\"col-1\" style=\"text-align: center;\">12</td>\n</tr>\n<tr class=\"d-flex\">\n<td class=\"col-1\" style=\"text-align: center;\">1005</td>\n<td class=\"col-6\"><a href=\"/bbs/bid/1005/inc/1\"><strong>파리의 연인<span class=\"text-danger\">[4]</span></strong></a></td>\n<td class=\"col-2\" style=\"text-align: center;\">김은숙</td>\n<td class=\"col-2\" style=\"text-align: center;\">2020-10-22</td>\n<td class=\"col-1\" style=\"text-align: center;\">9</td>\n</tr>\n<tr class=\"d-flex\">\n<td class=\"col-1\" style=\"text-align: center;\">1004</td>\n<td class=\"col-6\"><a href=\"/bbs/bid/1004/inc/1\"><strong>시크릿 가든</strong></a></td>\n<td class=\"col-2\" style=\"text-align: center;\">김은숙</td>\n<td class=\"col-2\" style=\"text-align: center;\">2020-10-22</td>\n<td class=\"col-1\" style=\"text-align: center;\">4</td>\n</tr>\n</table>\n<ul class=\"pagination justify-content-center\">\n<li class=\"page-item\">\n<a aria-label=\"Previous\" class=\"page-link active\" href=\"#\">\n<span aria-hidden=\"true\">«</span></a>\n</li><li aria-current=\"page\" class=\"page-item active\">\n<span class=\"page-link\">\n                                1<span class=\"sr-only\">(current)</span>\n</span>\n</li><li class=\"page-item\"><a class=\"page-link\" href=\"/bbs/list/2\">2</a></li><li class=\"page-item\">\n<a aria-label=\"Next\" class=\"page-link\" href=\"#\">\n<span aria-hidden=\"true\">»</span></a>\n</li>\n</ul>\n</div>\n<div class=\"col-1\"></div>\n</div>\n</div>\n<nav class=\"navbar navbar-expand-lg navbar-light bg-light justify-content-center fixed-bottom\">\n<span class=\"navbar-text\">\n        Copyright © 2020 Hoseo Institute of Big Data\n    </span>\n</nav>\n</body>\n</html> \n"
     ]
    }
   ],
   "source": [
    "# web_url에 원하는 웹의 URL을 넣어주면 됨\n",
    "# web_url='https://naver.com'\n",
    "web_url='http://200.1.220.217:3000/bbs/list/1'\n",
    "with urllib.request.urlopen(web_url) as response:\n",
    "    html = response.read()\n",
    "    soup = BeautifulSoup(html, 'html.parser')\n",
    "    print(soup)"
   ]
  },
  {
   "source": [
    "## Beautiful Soup 사용법"
   ],
   "cell_type": "markdown",
   "metadata": {}
  },
  {
   "cell_type": "code",
   "execution_count": 5,
   "metadata": {},
   "outputs": [],
   "source": [
    "with open('00_Example.html', encoding='utf8') as html:\n",
    "    soup = BeautifulSoup(html, 'html.parser')"
   ]
  },
  {
   "source": [
    "### 태그를 이용해서 찾기\n",
    "\n",
    "- soup.find()\n",
    "- soup.find_all()"
   ],
   "cell_type": "markdown",
   "metadata": {}
  },
  {
   "cell_type": "code",
   "execution_count": 6,
   "metadata": {},
   "outputs": [
    {
     "output_type": "stream",
     "name": "stdout",
     "text": [
      "<div>\n<p>a</p>\n<p>b</p>\n<p>c</p>\n</div>\n"
     ]
    }
   ],
   "source": [
    "# 하나의 태그 찾기\n",
    "first_div = soup.find('div')\n",
    "print(first_div)"
   ]
  },
  {
   "cell_type": "code",
   "execution_count": 7,
   "metadata": {},
   "outputs": [
    {
     "output_type": "stream",
     "name": "stdout",
     "text": [
      "[<div>\n<p>a</p>\n<p>b</p>\n<p>c</p>\n</div>, <div class=\"ex_class sample\">\n<p>1</p>\n<p>2</p>\n<p>3</p>\n</div>, <div id=\"ex_id\">\n<p>X</p>\n<p>Y</p>\n<p>Z</p>\n</div>]\n"
     ]
    }
   ],
   "source": [
    "# 모든 태그 찾기\n",
    "all_divs = soup.find_all('div')\n",
    "print(all_divs)"
   ]
  },
  {
   "cell_type": "code",
   "execution_count": 8,
   "metadata": {},
   "outputs": [
    {
     "output_type": "stream",
     "name": "stdout",
     "text": [
      "[<p>a</p>, <p>b</p>, <p>c</p>, <p>1</p>, <p>2</p>, <p>3</p>, <p>X</p>, <p>Y</p>, <p>Z</p>, <p>This is a paragraph.</p>]\n"
     ]
    }
   ],
   "source": [
    "all_ps = soup.find_all('p')\n",
    "print(all_ps)"
   ]
  },
  {
   "cell_type": "code",
   "execution_count": 9,
   "metadata": {},
   "outputs": [
    {
     "output_type": "stream",
     "name": "stdout",
     "text": [
      "[<p>a</p>, <p>b</p>, <p>c</p>]\n"
     ]
    }
   ],
   "source": [
    "some_ps = first_div.find_all('p')\n",
    "print(some_ps)"
   ]
  },
  {
   "source": [
    "### 태그와 속성을 이용해서 찾기\n",
    "\n",
    "- find('태그명', {'속성명1':'값1', ...})\n",
    "- find_all('태그명', {'속성명1':'값1', ...})"
   ],
   "cell_type": "markdown",
   "metadata": {}
  },
  {
   "cell_type": "code",
   "execution_count": 10,
   "metadata": {},
   "outputs": [
    {
     "output_type": "stream",
     "name": "stdout",
     "text": [
      "<div id=\"ex_id\">\n<p>X</p>\n<p>Y</p>\n<p>Z</p>\n</div>\n"
     ]
    }
   ],
   "source": [
    "ex_id = soup.find('div', {'id':'ex_id'})\n",
    "print(ex_id)"
   ]
  },
  {
   "cell_type": "code",
   "execution_count": 11,
   "metadata": {},
   "outputs": [
    {
     "output_type": "execute_result",
     "data": {
      "text/plain": [
       "<div id=\"ex_id\">\n",
       "<p>X</p>\n",
       "<p>Y</p>\n",
       "<p>Z</p>\n",
       "</div>"
      ]
     },
     "metadata": {},
     "execution_count": 11
    }
   ],
   "source": [
    "ex_id = soup.find('div', id='ex_id')\n",
    "ex_id"
   ]
  },
  {
   "cell_type": "code",
   "execution_count": 12,
   "metadata": {},
   "outputs": [
    {
     "output_type": "stream",
     "name": "stdout",
     "text": [
      "<div class=\"ex_class sample\">\n<p>1</p>\n<p>2</p>\n<p>3</p>\n</div>\n"
     ]
    }
   ],
   "source": [
    "ex_class = soup.find('div', {'class':'ex_class'})\n",
    "print(ex_class)"
   ]
  },
  {
   "cell_type": "code",
   "execution_count": 13,
   "metadata": {},
   "outputs": [
    {
     "output_type": "stream",
     "name": "stdout",
     "text": [
      "<div class=\"ex_class sample\">\n<p>1</p>\n<p>2</p>\n<p>3</p>\n</div>\n"
     ]
    }
   ],
   "source": [
    "ex_class = soup.find('div', 'ex_class')\n",
    "print(ex_class)"
   ]
  },
  {
   "cell_type": "code",
   "execution_count": 14,
   "metadata": {},
   "outputs": [
    {
     "output_type": "stream",
     "name": "stdout",
     "text": [
      "<div class=\"ex_class sample\">\n<p>1</p>\n<p>2</p>\n<p>3</p>\n</div>\n"
     ]
    }
   ],
   "source": [
    "ex_class = soup.find(class_ = 'ex_class')\n",
    "print(ex_class)"
   ]
  },
  {
   "source": [
    "### CSS Selector\n",
    "\n",
    "- select_one('#idName') -> 객체 하나\n",
    "- select('.className') -> 객체 리스트"
   ],
   "cell_type": "markdown",
   "metadata": {}
  },
  {
   "cell_type": "code",
   "execution_count": 15,
   "metadata": {},
   "outputs": [
    {
     "output_type": "stream",
     "name": "stdout",
     "text": [
      "[<div id=\"ex_id\">\n<p>X</p>\n<p>Y</p>\n<p>Z</p>\n</div>]\n"
     ]
    }
   ],
   "source": [
    "ex_id = soup.select('#ex_id')\n",
    "print(ex_id)"
   ]
  },
  {
   "cell_type": "code",
   "execution_count": 16,
   "metadata": {},
   "outputs": [
    {
     "output_type": "execute_result",
     "data": {
      "text/plain": [
       "[<div class=\"ex_class sample\">\n",
       " <p>1</p>\n",
       " <p>2</p>\n",
       " <p>3</p>\n",
       " </div>,\n",
       " <a class=\"a sample\" href=\"www.naver.com\">Naver</a>]"
      ]
     },
     "metadata": {},
     "execution_count": 16
    }
   ],
   "source": [
    "soup.select('.sample')"
   ]
  },
  {
   "cell_type": "code",
   "execution_count": 17,
   "metadata": {},
   "outputs": [
    {
     "output_type": "execute_result",
     "data": {
      "text/plain": [
       "<div class=\"ex_class sample\">\n",
       "<p>1</p>\n",
       "<p>2</p>\n",
       "<p>3</p>\n",
       "</div>"
      ]
     },
     "metadata": {},
     "execution_count": 17
    }
   ],
   "source": [
    "soup.select_one('.sample')"
   ]
  },
  {
   "source": [
    "### 결과 가져오기"
   ],
   "cell_type": "markdown",
   "metadata": {}
  },
  {
   "cell_type": "code",
   "execution_count": 18,
   "metadata": {},
   "outputs": [
    {
     "output_type": "execute_result",
     "data": {
      "text/plain": [
       "[<div id=\"ex_id\">\n",
       " <p>X</p>\n",
       " <p>Y</p>\n",
       " <p>Z</p>\n",
       " </div>]"
      ]
     },
     "metadata": {},
     "execution_count": 18
    }
   ],
   "source": [
    "ex_id"
   ]
  },
  {
   "cell_type": "code",
   "execution_count": 19,
   "metadata": {},
   "outputs": [
    {
     "output_type": "execute_result",
     "data": {
      "text/plain": [
       "'X'"
      ]
     },
     "metadata": {},
     "execution_count": 19
    }
   ],
   "source": [
    "first_p = ex_id[0].find('p')\n",
    "first_p.get_text()"
   ]
  },
  {
   "cell_type": "code",
   "execution_count": 20,
   "metadata": {},
   "outputs": [
    {
     "output_type": "execute_result",
     "data": {
      "text/plain": [
       "'X'"
      ]
     },
     "metadata": {},
     "execution_count": 20
    }
   ],
   "source": [
    "first_p.string"
   ]
  },
  {
   "cell_type": "code",
   "execution_count": 21,
   "metadata": {},
   "outputs": [
    {
     "output_type": "execute_result",
     "data": {
      "text/plain": [
       "<div class=\"ex_class sample\">\n",
       "<p>1</p>\n",
       "<p>2</p>\n",
       "<p>3</p>\n",
       "</div>"
      ]
     },
     "metadata": {},
     "execution_count": 21
    }
   ],
   "source": [
    "ex_class"
   ]
  },
  {
   "cell_type": "code",
   "execution_count": 22,
   "metadata": {},
   "outputs": [
    {
     "output_type": "stream",
     "name": "stdout",
     "text": [
      "1\n2\n3\n"
     ]
    }
   ],
   "source": [
    "class_ps = ex_class.find_all('p')\n",
    "for one_p in class_ps:\n",
    "    print(one_p.string)"
   ]
  },
  {
   "source": [
    "### 속성값 가져오기"
   ],
   "cell_type": "markdown",
   "metadata": {}
  },
  {
   "cell_type": "code",
   "execution_count": 23,
   "metadata": {},
   "outputs": [
    {
     "output_type": "execute_result",
     "data": {
      "text/plain": [
       "'Naver'"
      ]
     },
     "metadata": {},
     "execution_count": 23
    }
   ],
   "source": [
    "a_tag = soup.select_one('.a.sample')\n",
    "a_tag.get_text()"
   ]
  },
  {
   "cell_type": "code",
   "execution_count": 24,
   "metadata": {},
   "outputs": [
    {
     "output_type": "execute_result",
     "data": {
      "text/plain": [
       "'www.naver.com'"
      ]
     },
     "metadata": {},
     "execution_count": 24
    }
   ],
   "source": [
    "a_tag.attrs['href']"
   ]
  },
  {
   "source": [
    "### BBS 사이트 크롤링"
   ],
   "cell_type": "markdown",
   "metadata": {}
  },
  {
   "cell_type": "code",
   "execution_count": 25,
   "metadata": {},
   "outputs": [],
   "source": [
    "# web_url에 원하는 웹의 URL을 넣어주면 됨\n",
    "# web_url='https://naver.com'\n",
    "web_url='http://200.1.220.217:3000/bbs/list/1'\n",
    "with urllib.request.urlopen(web_url) as response:\n",
    "    html = response.read()\n",
    "    soup = BeautifulSoup(html, 'html.parser')"
   ]
  },
  {
   "cell_type": "code",
   "execution_count": 26,
   "metadata": {},
   "outputs": [
    {
     "output_type": "execute_result",
     "data": {
      "text/plain": [
       "<tr class=\"d-flex\">\n",
       "<td class=\"col-1\" style=\"text-align: center;\">1013</td>\n",
       "<td class=\"col-6\"><a href=\"/bbs/bid/1013/inc/1\"><strong>리눅스 글쓰기</strong></a></td>\n",
       "<td class=\"col-2\" style=\"text-align: center;\">홍길동</td>\n",
       "<td class=\"col-2\" style=\"text-align: center;\">2020-10-27</td>\n",
       "<td class=\"col-1\" style=\"text-align: center;\">3</td>\n",
       "</tr>"
      ]
     },
     "metadata": {},
     "execution_count": 26
    }
   ],
   "source": [
    "table = soup.find('table')\n",
    "rows = table.select('.d-flex')\n",
    "first_row = rows[1]\n",
    "first_row"
   ]
  },
  {
   "cell_type": "code",
   "execution_count": 27,
   "metadata": {},
   "outputs": [
    {
     "output_type": "execute_result",
     "data": {
      "text/plain": [
       "[<td class=\"col-1\" style=\"text-align: center;\">1013</td>,\n",
       " <td class=\"col-6\"><a href=\"/bbs/bid/1013/inc/1\"><strong>리눅스 글쓰기</strong></a></td>,\n",
       " <td class=\"col-2\" style=\"text-align: center;\">홍길동</td>,\n",
       " <td class=\"col-2\" style=\"text-align: center;\">2020-10-27</td>,\n",
       " <td class=\"col-1\" style=\"text-align: center;\">3</td>]"
      ]
     },
     "metadata": {},
     "execution_count": 27
    }
   ],
   "source": [
    "tds = first_row.find_all('td')\n",
    "tds"
   ]
  },
  {
   "cell_type": "code",
   "execution_count": 28,
   "metadata": {},
   "outputs": [
    {
     "output_type": "stream",
     "name": "stdout",
     "text": [
      "1013\n리눅스 글쓰기\n홍길동\n2020-10-27\n3\n"
     ]
    }
   ],
   "source": [
    "for td in tds:\n",
    "    print(td.string)"
   ]
  },
  {
   "cell_type": "code",
   "execution_count": 29,
   "metadata": {},
   "outputs": [
    {
     "output_type": "stream",
     "name": "stdout",
     "text": [
      "<td class=\"col-1\" style=\"text-align: center;\">1013</td>\n"
     ]
    }
   ],
   "source": [
    "table = soup.select_one('table tr:nth-child(2) td')\n",
    "print(table)"
   ]
  },
  {
   "cell_type": "code",
   "execution_count": 30,
   "metadata": {},
   "outputs": [
    {
     "output_type": "stream",
     "name": "stdout",
     "text": [
      "1013\n리눅스 글쓰기\n홍길동\n2020-10-27\n3\n"
     ]
    }
   ],
   "source": [
    "table = soup.select('table tr:nth-child(2) td')\n",
    "for td in table:\n",
    "    print(td.string)"
   ]
  },
  {
   "source": [
    "### 데이터 프레임으로 만들기"
   ],
   "cell_type": "markdown",
   "metadata": {}
  },
  {
   "cell_type": "code",
   "execution_count": 31,
   "metadata": {},
   "outputs": [],
   "source": [
    "import re\n",
    "trs = soup.find_all('tr')\n",
    "bids = []; titles = []; names = []\n",
    "times = []; view_counts = []; reply_counts = []\n",
    "for tr in trs[1:]:\n",
    "    tds = tr.find_all('td')\n",
    "    bids.append(tds[0].get_text())\n",
    "    titles.append(re.sub(r\"\\[(.*)\\]\", \"\", tds[1].get_text()))\n",
    "    names.append(tds[2].get_text())\n",
    "    times.append(tds[3].get_text())\n",
    "    view_counts.append(tds[4].get_text())\n",
    "    # Regex Reply\n",
    "    matches = re.compile(r\"\\[(.*)\\]\").search(tds[1].get_text())\n",
    "    reply_counts.append(matches.group(1) if matches != None else 0)"
   ]
  },
  {
   "cell_type": "code",
   "execution_count": 32,
   "metadata": {},
   "outputs": [
    {
     "output_type": "execute_result",
     "data": {
      "text/plain": [
       "    bid                                title name        time view_count  \\\n",
       "0  1013                              리눅스 글쓰기  홍길동  2020-10-27          3   \n",
       "1  1012                     마이크로소프트 엣지에서의 동작  김은숙  2020-10-23         14   \n",
       "2  1011                       역적 - 백성을 훔친 도적  홍길동  2020-10-23          4   \n",
       "3  1010                                 홍길동전  홍길동  2020-10-23          3   \n",
       "4  1009                                  대조영  대조영  2020-10-23          9   \n",
       "5  1008  Linux server를 원격 Windows에서 접속하여 글쓰기  관리자  2020-10-23          7   \n",
       "6  1007                         ubuntu에서 글쓰기  관리자  2020-10-22          5   \n",
       "7  1006                            슬기로운 의사생활  이우정  2020-10-22         12   \n",
       "8  1005                               파리의 연인  김은숙  2020-10-22          9   \n",
       "9  1004                               시크릿 가든  김은숙  2020-10-22          4   \n",
       "\n",
       "  reply_count  \n",
       "0           0  \n",
       "1           2  \n",
       "2           1  \n",
       "3           0  \n",
       "4           2  \n",
       "5           3  \n",
       "6           1  \n",
       "7           3  \n",
       "8           4  \n",
       "9           0  "
      ],
      "text/html": "<div>\n<style scoped>\n    .dataframe tbody tr th:only-of-type {\n        vertical-align: middle;\n    }\n\n    .dataframe tbody tr th {\n        vertical-align: top;\n    }\n\n    .dataframe thead th {\n        text-align: right;\n    }\n</style>\n<table border=\"1\" class=\"dataframe\">\n  <thead>\n    <tr style=\"text-align: right;\">\n      <th></th>\n      <th>bid</th>\n      <th>title</th>\n      <th>name</th>\n      <th>time</th>\n      <th>view_count</th>\n      <th>reply_count</th>\n    </tr>\n  </thead>\n  <tbody>\n    <tr>\n      <th>0</th>\n      <td>1013</td>\n      <td>리눅스 글쓰기</td>\n      <td>홍길동</td>\n      <td>2020-10-27</td>\n      <td>3</td>\n      <td>0</td>\n    </tr>\n    <tr>\n      <th>1</th>\n      <td>1012</td>\n      <td>마이크로소프트 엣지에서의 동작</td>\n      <td>김은숙</td>\n      <td>2020-10-23</td>\n      <td>14</td>\n      <td>2</td>\n    </tr>\n    <tr>\n      <th>2</th>\n      <td>1011</td>\n      <td>역적 - 백성을 훔친 도적</td>\n      <td>홍길동</td>\n      <td>2020-10-23</td>\n      <td>4</td>\n      <td>1</td>\n    </tr>\n    <tr>\n      <th>3</th>\n      <td>1010</td>\n      <td>홍길동전</td>\n      <td>홍길동</td>\n      <td>2020-10-23</td>\n      <td>3</td>\n      <td>0</td>\n    </tr>\n    <tr>\n      <th>4</th>\n      <td>1009</td>\n      <td>대조영</td>\n      <td>대조영</td>\n      <td>2020-10-23</td>\n      <td>9</td>\n      <td>2</td>\n    </tr>\n    <tr>\n      <th>5</th>\n      <td>1008</td>\n      <td>Linux server를 원격 Windows에서 접속하여 글쓰기</td>\n      <td>관리자</td>\n      <td>2020-10-23</td>\n      <td>7</td>\n      <td>3</td>\n    </tr>\n    <tr>\n      <th>6</th>\n      <td>1007</td>\n      <td>ubuntu에서 글쓰기</td>\n      <td>관리자</td>\n      <td>2020-10-22</td>\n      <td>5</td>\n      <td>1</td>\n    </tr>\n    <tr>\n      <th>7</th>\n      <td>1006</td>\n      <td>슬기로운 의사생활</td>\n      <td>이우정</td>\n      <td>2020-10-22</td>\n      <td>12</td>\n      <td>3</td>\n    </tr>\n    <tr>\n      <th>8</th>\n      <td>1005</td>\n      <td>파리의 연인</td>\n      <td>김은숙</td>\n      <td>2020-10-22</td>\n      <td>9</td>\n      <td>4</td>\n    </tr>\n    <tr>\n      <th>9</th>\n      <td>1004</td>\n      <td>시크릿 가든</td>\n      <td>김은숙</td>\n      <td>2020-10-22</td>\n      <td>4</td>\n      <td>0</td>\n    </tr>\n  </tbody>\n</table>\n</div>"
     },
     "metadata": {},
     "execution_count": 32
    }
   ],
   "source": [
    "import pandas as pd\n",
    "bbs = pd.DataFrame({\n",
    "    'bid': bids, \n",
    "    'title': titles,\n",
    "    'name': names,\n",
    "    'time': times,\n",
    "    'view_count': view_counts,\n",
    "    'reply_count': reply_counts\n",
    "})\n",
    "bbs"
   ]
  },
  {
   "source": [
    "### 페이지 넘버 크롤링"
   ],
   "cell_type": "markdown",
   "metadata": {}
  },
  {
   "cell_type": "code",
   "execution_count": 62,
   "metadata": {},
   "outputs": [],
   "source": [
    "# web_url에 원하는 웹의 URL을 넣어주면 됨\n",
    "# web_url='https://naver.com'\n",
    "base_url = 'http://200.1.220.217:3000/bbs/list/'\n",
    "page_url = '1'\n",
    "web_url = base_url + page_url\n",
    "with urllib.request.urlopen(web_url) as response:\n",
    "    html = response.read()\n",
    "    soup = BeautifulSoup(html, 'html.parser')"
   ]
  },
  {
   "cell_type": "code",
   "execution_count": 87,
   "metadata": {},
   "outputs": [],
   "source": [
    "li = soup.select('.pagination li')\n",
    "page_num = re.sub(pattern='\\(current\\)', repl='', string=li[-2].get_text())\n",
    "page = int(page_num)\n",
    "bids = []; titles = []; names = []\n",
    "times = []; view_counts = []; reply_counts = []\n",
    "\n",
    "for i in range(page):\n",
    "\n",
    "    page_url = str(i + 1)\n",
    "    web_url = base_url + page_url\n",
    "\n",
    "    with urllib.request.urlopen(web_url) as response:\n",
    "        html = response.read()\n",
    "        soup = BeautifulSoup(html, 'html.parser')\n",
    "\n",
    "        trs = soup.find_all('tr')\n",
    "\n",
    "        for tr in trs[1:]:\n",
    "            tds = tr.find_all('td')\n",
    "\n",
    "            bids.append(tds[0].get_text())\n",
    "            title = tds[1].get_text()\n",
    "            titles.append(re.sub(r\"\\[(.*)\\]\", \"\", title))\n",
    "            names.append(tds[2].get_text())\n",
    "            times.append(tds[3].get_text())\n",
    "            view_counts.append(tds[4].get_text())\n",
    "\n",
    "            # Reply\n",
    "            matches = re.compile(r\"\\[(.*)\\]\").search(title)\n",
    "            reply_counts.append(matches.group(1) if matches != None else 0)"
   ]
  },
  {
   "cell_type": "code",
   "execution_count": 88,
   "metadata": {},
   "outputs": [
    {
     "output_type": "execute_result",
     "data": {
      "text/plain": [
       "                                    title name        time view_count  \\\n",
       "bid                                                                     \n",
       "1013                              리눅스 글쓰기  홍길동  2020-10-27          3   \n",
       "1012                     마이크로소프트 엣지에서의 동작  김은숙  2020-10-23         14   \n",
       "1011                       역적 - 백성을 훔친 도적  홍길동  2020-10-23          4   \n",
       "1010                                 홍길동전  홍길동  2020-10-23          3   \n",
       "1009                                  대조영  대조영  2020-10-23          9   \n",
       "1008  Linux server를 원격 Windows에서 접속하여 글쓰기  관리자  2020-10-23          7   \n",
       "1007                         ubuntu에서 글쓰기  관리자  2020-10-22          5   \n",
       "1006                            슬기로운 의사생활  이우정  2020-10-22         12   \n",
       "1005                               파리의 연인  김은숙  2020-10-22          9   \n",
       "1004                               시크릿 가든  김은숙  2020-10-22          4   \n",
       "1003                               태양의 후예  김은숙  2020-10-23         11   \n",
       "1002                                  도깨비  김은숙  2020-10-22          4   \n",
       "1001                              미스터 션샤인  김은숙  2020-10-23          6   \n",
       "\n",
       "     reply_count  \n",
       "bid               \n",
       "1013           0  \n",
       "1012           2  \n",
       "1011           1  \n",
       "1010           0  \n",
       "1009           2  \n",
       "1008           3  \n",
       "1007           1  \n",
       "1006           3  \n",
       "1005           4  \n",
       "1004           0  \n",
       "1003           2  \n",
       "1002           1  \n",
       "1001           1  "
      ],
      "text/html": "<div>\n<style scoped>\n    .dataframe tbody tr th:only-of-type {\n        vertical-align: middle;\n    }\n\n    .dataframe tbody tr th {\n        vertical-align: top;\n    }\n\n    .dataframe thead th {\n        text-align: right;\n    }\n</style>\n<table border=\"1\" class=\"dataframe\">\n  <thead>\n    <tr style=\"text-align: right;\">\n      <th></th>\n      <th>title</th>\n      <th>name</th>\n      <th>time</th>\n      <th>view_count</th>\n      <th>reply_count</th>\n    </tr>\n    <tr>\n      <th>bid</th>\n      <th></th>\n      <th></th>\n      <th></th>\n      <th></th>\n      <th></th>\n    </tr>\n  </thead>\n  <tbody>\n    <tr>\n      <th>1013</th>\n      <td>리눅스 글쓰기</td>\n      <td>홍길동</td>\n      <td>2020-10-27</td>\n      <td>3</td>\n      <td>0</td>\n    </tr>\n    <tr>\n      <th>1012</th>\n      <td>마이크로소프트 엣지에서의 동작</td>\n      <td>김은숙</td>\n      <td>2020-10-23</td>\n      <td>14</td>\n      <td>2</td>\n    </tr>\n    <tr>\n      <th>1011</th>\n      <td>역적 - 백성을 훔친 도적</td>\n      <td>홍길동</td>\n      <td>2020-10-23</td>\n      <td>4</td>\n      <td>1</td>\n    </tr>\n    <tr>\n      <th>1010</th>\n      <td>홍길동전</td>\n      <td>홍길동</td>\n      <td>2020-10-23</td>\n      <td>3</td>\n      <td>0</td>\n    </tr>\n    <tr>\n      <th>1009</th>\n      <td>대조영</td>\n      <td>대조영</td>\n      <td>2020-10-23</td>\n      <td>9</td>\n      <td>2</td>\n    </tr>\n    <tr>\n      <th>1008</th>\n      <td>Linux server를 원격 Windows에서 접속하여 글쓰기</td>\n      <td>관리자</td>\n      <td>2020-10-23</td>\n      <td>7</td>\n      <td>3</td>\n    </tr>\n    <tr>\n      <th>1007</th>\n      <td>ubuntu에서 글쓰기</td>\n      <td>관리자</td>\n      <td>2020-10-22</td>\n      <td>5</td>\n      <td>1</td>\n    </tr>\n    <tr>\n      <th>1006</th>\n      <td>슬기로운 의사생활</td>\n      <td>이우정</td>\n      <td>2020-10-22</td>\n      <td>12</td>\n      <td>3</td>\n    </tr>\n    <tr>\n      <th>1005</th>\n      <td>파리의 연인</td>\n      <td>김은숙</td>\n      <td>2020-10-22</td>\n      <td>9</td>\n      <td>4</td>\n    </tr>\n    <tr>\n      <th>1004</th>\n      <td>시크릿 가든</td>\n      <td>김은숙</td>\n      <td>2020-10-22</td>\n      <td>4</td>\n      <td>0</td>\n    </tr>\n    <tr>\n      <th>1003</th>\n      <td>태양의 후예</td>\n      <td>김은숙</td>\n      <td>2020-10-23</td>\n      <td>11</td>\n      <td>2</td>\n    </tr>\n    <tr>\n      <th>1002</th>\n      <td>도깨비</td>\n      <td>김은숙</td>\n      <td>2020-10-22</td>\n      <td>4</td>\n      <td>1</td>\n    </tr>\n    <tr>\n      <th>1001</th>\n      <td>미스터 션샤인</td>\n      <td>김은숙</td>\n      <td>2020-10-23</td>\n      <td>6</td>\n      <td>1</td>\n    </tr>\n  </tbody>\n</table>\n</div>"
     },
     "metadata": {},
     "execution_count": 88
    }
   ],
   "source": [
    "import pandas as pd\n",
    "bbs = pd.DataFrame({\n",
    "    'bid': bids, \n",
    "    'title': titles,\n",
    "    'name': names,\n",
    "    'time': times,\n",
    "    'view_count': view_counts,\n",
    "    'reply_count': reply_counts\n",
    "})\n",
    "bbs = bbs.set_index('bid')\n",
    "bbs"
   ]
  }
 ]
}