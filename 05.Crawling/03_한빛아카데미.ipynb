{
 "metadata": {
  "language_info": {
   "codemirror_mode": {
    "name": "ipython",
    "version": 3
   },
   "file_extension": ".py",
   "mimetype": "text/x-python",
   "name": "python",
   "nbconvert_exporter": "python",
   "pygments_lexer": "ipython3",
   "version": "3.8.3-final"
  },
  "orig_nbformat": 2,
  "kernelspec": {
   "name": "python3",
   "display_name": "Python 3"
  }
 },
 "nbformat": 4,
 "nbformat_minor": 2,
 "cells": [
  {
   "source": [
    "# 한빛아카데미"
   ],
   "cell_type": "markdown",
   "metadata": {}
  },
  {
   "cell_type": "code",
   "execution_count": 1,
   "metadata": {},
   "outputs": [],
   "source": [
    "from bs4 import BeautifulSoup\n",
    "from selenium import webdriver\n",
    "import urllib.request\n",
    "import pandas as pd\n",
    "import time"
   ]
  },
  {
   "cell_type": "code",
   "execution_count": 2,
   "metadata": {},
   "outputs": [],
   "source": [
    "import requests\n",
    "url = 'https://www.hanbit.co.kr/academy/books/new_book_list.html'\n",
    "header = {'User-Agent': 'Mozilla/5.0 (Windows NT 10.0; Win64; x64) AppleWebKit/537.36 (KHTML, like Gecko) Chrome/80.0.3987.87 Safari/537.36'}\n",
    "req = requests.get(url, headers = header)\n",
    "soup = BeautifulSoup(req.text, 'html.parser')"
   ]
  },
  {
   "cell_type": "code",
   "execution_count": 3,
   "metadata": {},
   "outputs": [],
   "source": [
    "import re\n",
    "\n",
    "data = {\n",
    "    'head' : [],\n",
    "    'body' : []\n",
    "}\n",
    "\n",
    "for i, row in enumerate(soup.select('#container .sub_book_list')):\n",
    "    \n",
    "    data['body'].append({})\n",
    "    \n",
    "    for col in row.select('.pop_quick_bg'):\n",
    "        match = re.compile(r\"p_code=(\\S+\\d+)\").search(str(col))\n",
    "        txt = match.group(1) if match != None else 0\n",
    "        data['body'][i].update({'p_code':txt})\n",
    "\n",
    "    for col in row.select('.book_tit'):\n",
    "        txt = col.get_text(strip=True)\n",
    "        data['head'].append(txt)\n",
    "        data['body'][i].update({'title':txt})\n",
    "\n",
    "    for col in row.select('.book_writer'):\n",
    "        txt = col.get_text(strip=True)\n",
    "        data['body'][i].update({'writer':txt})\n",
    "\n",
    "    for col in row.select('.price'):\n",
    "        txt = col.get_text(strip=True)\n",
    "        txt = int(txt.replace(',', '').replace('원', ''))\n",
    "        data['body'][i].update({'price':txt})"
   ]
  },
  {
   "cell_type": "code",
   "execution_count": 4,
   "metadata": {},
   "outputs": [
    {
     "output_type": "execute_result",
     "data": {
      "text/plain": [
       "[]"
      ]
     },
     "metadata": {},
     "execution_count": 4
    }
   ],
   "source": [
    "[i for i in data['body'] if i.get('p_code') == 'B9686002641']"
   ]
  },
  {
   "cell_type": "code",
   "execution_count": 5,
   "metadata": {},
   "outputs": [
    {
     "output_type": "execute_result",
     "data": {
      "text/plain": [
       "         p_code                                      title  \\\n",
       "0   B4797877052                                포르잔 C++ 에센셜   \n",
       "1   B6503201303   IT CookBook, 액세스 2019로 배우는 데이터베이스 기초와 실습   \n",
       "2   B1851418066                                포르잔 C++ 바이블   \n",
       "3   B9479195027                              딥러닝을 위한 선형대수학   \n",
       "4   B2082711299    IT CookBook, 오라클로 배우는 데이터베이스 개론과 실습(2판)   \n",
       "5   B1825116777                             대학을 버려야 대학이 산다   \n",
       "6   B5937482728              IT CookBook, 따라 하면서 배우는 사물인터넷   \n",
       "7   B8404138031            R로 하는 다변량 데이터 분석 : 이론부터 실무 활용까지   \n",
       "8   B8573612142                               창의적 공학설계(3판)   \n",
       "9   B8658821149            공학 핵심수학(2판)  : 기초부터 심화까지 핵심만 쏙쏙   \n",
       "10  B7926921440     응용이 보이는 선형대수학 : 파이썬과 함께하는 선형대수학 이론과 응용   \n",
       "11  B4295361584           IT CookBook, 초연결 사회의 데이터통신과 네트워킹   \n",
       "12  B3126325886          IT CookBook, 쉽게 배우는 MFC 윈도우 프로그래밍   \n",
       "13  B3715221949         IT CookBook, 인공지능 시대를 위한 컴퓨터 과학 개론   \n",
       "14  B3055805288          IT CookBook, 코틀린을 활용한 안드로이드 프로그래밍   \n",
       "15  B4872546419                 IT CookBook, 처음 만나는 신재생에너지   \n",
       "16  B1710834745                                프리드버그 선형대수학   \n",
       "17  B8200129293                    IT CookBook, CentOS 리눅스   \n",
       "18  B8983481859  Microeconomics, 6th Edition, Asia Edition   \n",
       "19  B2049588591                               누구나 파이썬 통계분석   \n",
       "\n",
       "                                      writer  price  \n",
       "0   Behrouz A. Forouzan , Richard F. Gilberg  32000  \n",
       "1                                        김지연  28000  \n",
       "2   Behrouz A. Forouzan , Richard F. Gilberg  45000  \n",
       "3                             Gilbert Strang  38000  \n",
       "4                            박우창 , 남송휘 , 이현룡  29000  \n",
       "5                        조동성 외 인천대학교 가족 178명  18000  \n",
       "6                                        양재삼  28000  \n",
       "7              카와하시 잇코 , 이와마 노리카즈 , 스즈키 마사유키  32000  \n",
       "8                                        김은경  23000  \n",
       "9                                        함남우  23000  \n",
       "10                                       이건명  31000  \n",
       "11                                       강문식  29000  \n",
       "12                                 김선우 , 신화선  30000  \n",
       "13                                       정기철  27000  \n",
       "14                                 우재남 , 유혜림  34000  \n",
       "15                                       김지홍  25000  \n",
       "16     스티븐 H. 프리드버그 , 아놀드 J. 인셀 , 로렌스 E. 스펜스  35000  \n",
       "17                                       이종원  32000  \n",
       "18         David Besanko , Ronald Braeutigam  49000  \n",
       "19                                  타니아이 히로키  26000  "
      ],
      "text/html": "<div>\n<style scoped>\n    .dataframe tbody tr th:only-of-type {\n        vertical-align: middle;\n    }\n\n    .dataframe tbody tr th {\n        vertical-align: top;\n    }\n\n    .dataframe thead th {\n        text-align: right;\n    }\n</style>\n<table border=\"1\" class=\"dataframe\">\n  <thead>\n    <tr style=\"text-align: right;\">\n      <th></th>\n      <th>p_code</th>\n      <th>title</th>\n      <th>writer</th>\n      <th>price</th>\n    </tr>\n  </thead>\n  <tbody>\n    <tr>\n      <th>0</th>\n      <td>B4797877052</td>\n      <td>포르잔 C++ 에센셜</td>\n      <td>Behrouz A. Forouzan , Richard F. Gilberg</td>\n      <td>32000</td>\n    </tr>\n    <tr>\n      <th>1</th>\n      <td>B6503201303</td>\n      <td>IT CookBook, 액세스 2019로 배우는 데이터베이스 기초와 실습</td>\n      <td>김지연</td>\n      <td>28000</td>\n    </tr>\n    <tr>\n      <th>2</th>\n      <td>B1851418066</td>\n      <td>포르잔 C++ 바이블</td>\n      <td>Behrouz A. Forouzan , Richard F. Gilberg</td>\n      <td>45000</td>\n    </tr>\n    <tr>\n      <th>3</th>\n      <td>B9479195027</td>\n      <td>딥러닝을 위한 선형대수학</td>\n      <td>Gilbert Strang</td>\n      <td>38000</td>\n    </tr>\n    <tr>\n      <th>4</th>\n      <td>B2082711299</td>\n      <td>IT CookBook, 오라클로 배우는 데이터베이스 개론과 실습(2판)</td>\n      <td>박우창 , 남송휘 , 이현룡</td>\n      <td>29000</td>\n    </tr>\n    <tr>\n      <th>5</th>\n      <td>B1825116777</td>\n      <td>대학을 버려야 대학이 산다</td>\n      <td>조동성 외 인천대학교 가족 178명</td>\n      <td>18000</td>\n    </tr>\n    <tr>\n      <th>6</th>\n      <td>B5937482728</td>\n      <td>IT CookBook, 따라 하면서 배우는 사물인터넷</td>\n      <td>양재삼</td>\n      <td>28000</td>\n    </tr>\n    <tr>\n      <th>7</th>\n      <td>B8404138031</td>\n      <td>R로 하는 다변량 데이터 분석 : 이론부터 실무 활용까지</td>\n      <td>카와하시 잇코 , 이와마 노리카즈 , 스즈키 마사유키</td>\n      <td>32000</td>\n    </tr>\n    <tr>\n      <th>8</th>\n      <td>B8573612142</td>\n      <td>창의적 공학설계(3판)</td>\n      <td>김은경</td>\n      <td>23000</td>\n    </tr>\n    <tr>\n      <th>9</th>\n      <td>B8658821149</td>\n      <td>공학 핵심수학(2판)  : 기초부터 심화까지 핵심만 쏙쏙</td>\n      <td>함남우</td>\n      <td>23000</td>\n    </tr>\n    <tr>\n      <th>10</th>\n      <td>B7926921440</td>\n      <td>응용이 보이는 선형대수학 : 파이썬과 함께하는 선형대수학 이론과 응용</td>\n      <td>이건명</td>\n      <td>31000</td>\n    </tr>\n    <tr>\n      <th>11</th>\n      <td>B4295361584</td>\n      <td>IT CookBook, 초연결 사회의 데이터통신과 네트워킹</td>\n      <td>강문식</td>\n      <td>29000</td>\n    </tr>\n    <tr>\n      <th>12</th>\n      <td>B3126325886</td>\n      <td>IT CookBook, 쉽게 배우는 MFC 윈도우 프로그래밍</td>\n      <td>김선우 , 신화선</td>\n      <td>30000</td>\n    </tr>\n    <tr>\n      <th>13</th>\n      <td>B3715221949</td>\n      <td>IT CookBook, 인공지능 시대를 위한 컴퓨터 과학 개론</td>\n      <td>정기철</td>\n      <td>27000</td>\n    </tr>\n    <tr>\n      <th>14</th>\n      <td>B3055805288</td>\n      <td>IT CookBook, 코틀린을 활용한 안드로이드 프로그래밍</td>\n      <td>우재남 , 유혜림</td>\n      <td>34000</td>\n    </tr>\n    <tr>\n      <th>15</th>\n      <td>B4872546419</td>\n      <td>IT CookBook, 처음 만나는 신재생에너지</td>\n      <td>김지홍</td>\n      <td>25000</td>\n    </tr>\n    <tr>\n      <th>16</th>\n      <td>B1710834745</td>\n      <td>프리드버그 선형대수학</td>\n      <td>스티븐 H. 프리드버그 , 아놀드 J. 인셀 , 로렌스 E. 스펜스</td>\n      <td>35000</td>\n    </tr>\n    <tr>\n      <th>17</th>\n      <td>B8200129293</td>\n      <td>IT CookBook, CentOS 리눅스</td>\n      <td>이종원</td>\n      <td>32000</td>\n    </tr>\n    <tr>\n      <th>18</th>\n      <td>B8983481859</td>\n      <td>Microeconomics, 6th Edition, Asia Edition</td>\n      <td>David Besanko , Ronald Braeutigam</td>\n      <td>49000</td>\n    </tr>\n    <tr>\n      <th>19</th>\n      <td>B2049588591</td>\n      <td>누구나 파이썬 통계분석</td>\n      <td>타니아이 히로키</td>\n      <td>26000</td>\n    </tr>\n  </tbody>\n</table>\n</div>"
     },
     "metadata": {},
     "execution_count": 5
    }
   ],
   "source": [
    "df = pd.DataFrame(data['body'])\n",
    "df.sort_values(by=\"price\", ascending=False)\n",
    "df"
   ]
  },
  {
   "source": [
    "## 페이지네이션"
   ],
   "cell_type": "markdown",
   "metadata": {}
  },
  {
   "cell_type": "code",
   "execution_count": 6,
   "metadata": {},
   "outputs": [],
   "source": [
    "import requests\n",
    "base_url = 'https://www.hanbit.co.kr/academy/books/new_book_list.html'\n",
    "header = {'User-Agent': 'Mozilla/5.0 (Windows NT 10.0; Win64; x64) AppleWebKit/537.36 (KHTML, like Gecko) Chrome/80.0.3987.87 Safari/537.36'}\n",
    "req = requests.get(base_url, headers = header)\n",
    "soup = BeautifulSoup(req.text, 'html.parser')"
   ]
  },
  {
   "cell_type": "code",
   "execution_count": 7,
   "metadata": {
    "tags": []
   },
   "outputs": [],
   "source": [
    "import re\n",
    "\n",
    "def get_next_page(soup):\n",
    "    page_nums = []\n",
    "    for i, row in enumerate(soup.select('div.paginate > a')):\n",
    "        match = re.compile(r\"page=(\\d+)\").search(str(row))\n",
    "        txt = int(match.group(1)) if match != None else 0\n",
    "        page_nums.append(txt)\n",
    "    return max(page_nums)\n",
    "\n",
    "def is_max_page(page):\n",
    "\n",
    "    page = page + 1\n",
    "    web_url = base_url + '?page=' + str(page)\n",
    "\n",
    "    with urllib.request.urlopen(web_url) as response:\n",
    "        html = response.read()\n",
    "        soup = BeautifulSoup(html, 'html.parser')\n",
    "        \n",
    "        nolist = soup.select('#container .sub_book_list_area .no-list')\n",
    "        islist = (False if len(nolist) == 0 else True)\n",
    "\n",
    "        return islist\n",
    "\n",
    "def get_max_page(page):\n",
    "\n",
    "    page = page + 1\n",
    "    web_url = base_url + '?page=' + str(page)\n",
    "\n",
    "    with urllib.request.urlopen(web_url) as response:\n",
    "        html = response.read()\n",
    "        soup = BeautifulSoup(html, 'html.parser')\n",
    "        last = get_next_page(soup)\n",
    "\n",
    "        if is_max_page(last):\n",
    "            return last\n",
    "        else:\n",
    "            return get_max_page(last)"
   ]
  },
  {
   "cell_type": "code",
   "execution_count": 8,
   "metadata": {},
   "outputs": [],
   "source": [
    "data = {\n",
    "    'head' : [],\n",
    "    'body' : []\n",
    "}\n",
    "\n",
    "page_max = get_max_page(get_next_page(soup))\n",
    "\n",
    "for page in range(0, page_max):\n",
    "\n",
    "    page = page + 1\n",
    "    web_url = base_url + '?page=' + str(page)\n",
    "\n",
    "    page_size = len(data['body'])\n",
    "\n",
    "    with urllib.request.urlopen(web_url) as response:\n",
    "        html = response.read()\n",
    "        soup = BeautifulSoup(html, 'html.parser')\n",
    "\n",
    "        for i, row in enumerate(soup.select('#container .sub_book_list')):\n",
    "\n",
    "            idx = page_size + i\n",
    "            data['body'].append({})\n",
    "\n",
    "            for col in row.select('.pop_quick_bg'):\n",
    "                match = re.compile(r\"p_code=(\\S+\\d+)\").search(str(col))\n",
    "                txt = match.group(1) if match != None else 0\n",
    "                data['body'][idx].update({'p_code':txt})\n",
    "\n",
    "            for col in row.select('.book_tit'):\n",
    "                txt = col.get_text(strip=True)\n",
    "                data['head'].append(txt)\n",
    "                data['body'][idx].update({'title':txt})\n",
    "\n",
    "            for col in row.select('.book_writer'):\n",
    "                txt = col.get_text(strip=True)\n",
    "                data['body'][idx].update({'writer':txt})\n",
    "\n",
    "            for col in row.select('.price'):\n",
    "                txt = col.get_text(strip=True)\n",
    "                txt = int(txt.replace(',', '').replace('원', ''))\n",
    "                data['body'][idx].update({'price':txt})"
   ]
  },
  {
   "cell_type": "code",
   "execution_count": 9,
   "metadata": {},
   "outputs": [
    {
     "output_type": "execute_result",
     "data": {
      "text/plain": [
       "301"
      ]
     },
     "metadata": {},
     "execution_count": 9
    }
   ],
   "source": [
    "len(data['body'])"
   ]
  },
  {
   "cell_type": "code",
   "execution_count": 10,
   "metadata": {},
   "outputs": [
    {
     "output_type": "execute_result",
     "data": {
      "text/plain": [
       "          p_code                                              title  \\\n",
       "0    B4797877052                                        포르잔 C++ 에센셜   \n",
       "1    B6503201303           IT CookBook, 액세스 2019로 배우는 데이터베이스 기초와 실습   \n",
       "2    B1851418066                                        포르잔 C++ 바이블   \n",
       "3    B9479195027                                      딥러닝을 위한 선형대수학   \n",
       "4    B2082711299            IT CookBook, 오라클로 배우는 데이터베이스 개론과 실습(2판)   \n",
       "..           ...                                                ...   \n",
       "296  B5468706684                      문제해결력을 키우는 이공계 글쓰기 : 발표와 토론까지   \n",
       "297  B1672014946                진로개발과 직업세계 : 대학생과 청년층을 위한 진로, 취업지침서   \n",
       "298  B4698900723                                 Essential Calculus   \n",
       "299  B2947348985  IT CookBook, 디지털 통신 시스템 : Digital Communicatio...   \n",
       "300  B4601735413     IT CookBook, 운영체제론 : Operating Systems, 3rd Ed   \n",
       "\n",
       "                                       writer  price  \n",
       "0    Behrouz A. Forouzan , Richard F. Gilberg  32000  \n",
       "1                                         김지연  28000  \n",
       "2    Behrouz A. Forouzan , Richard F. Gilberg  45000  \n",
       "3                              Gilbert Strang  38000  \n",
       "4                             박우창 , 남송휘 , 이현룡  29000  \n",
       "..                                        ...    ...  \n",
       "296                                       한성우  18000  \n",
       "297                     서일수 , 김도균 , 김지혜 , 이정배  20000  \n",
       "298                             James Stewart  36000  \n",
       "299                                 정호영 , 임승각  25000  \n",
       "300                    하비 디텔 , 폴 디텔 , 데이빗 쇼픈스  32000  \n",
       "\n",
       "[301 rows x 4 columns]"
      ],
      "text/html": "<div>\n<style scoped>\n    .dataframe tbody tr th:only-of-type {\n        vertical-align: middle;\n    }\n\n    .dataframe tbody tr th {\n        vertical-align: top;\n    }\n\n    .dataframe thead th {\n        text-align: right;\n    }\n</style>\n<table border=\"1\" class=\"dataframe\">\n  <thead>\n    <tr style=\"text-align: right;\">\n      <th></th>\n      <th>p_code</th>\n      <th>title</th>\n      <th>writer</th>\n      <th>price</th>\n    </tr>\n  </thead>\n  <tbody>\n    <tr>\n      <th>0</th>\n      <td>B4797877052</td>\n      <td>포르잔 C++ 에센셜</td>\n      <td>Behrouz A. Forouzan , Richard F. Gilberg</td>\n      <td>32000</td>\n    </tr>\n    <tr>\n      <th>1</th>\n      <td>B6503201303</td>\n      <td>IT CookBook, 액세스 2019로 배우는 데이터베이스 기초와 실습</td>\n      <td>김지연</td>\n      <td>28000</td>\n    </tr>\n    <tr>\n      <th>2</th>\n      <td>B1851418066</td>\n      <td>포르잔 C++ 바이블</td>\n      <td>Behrouz A. Forouzan , Richard F. Gilberg</td>\n      <td>45000</td>\n    </tr>\n    <tr>\n      <th>3</th>\n      <td>B9479195027</td>\n      <td>딥러닝을 위한 선형대수학</td>\n      <td>Gilbert Strang</td>\n      <td>38000</td>\n    </tr>\n    <tr>\n      <th>4</th>\n      <td>B2082711299</td>\n      <td>IT CookBook, 오라클로 배우는 데이터베이스 개론과 실습(2판)</td>\n      <td>박우창 , 남송휘 , 이현룡</td>\n      <td>29000</td>\n    </tr>\n    <tr>\n      <th>...</th>\n      <td>...</td>\n      <td>...</td>\n      <td>...</td>\n      <td>...</td>\n    </tr>\n    <tr>\n      <th>296</th>\n      <td>B5468706684</td>\n      <td>문제해결력을 키우는 이공계 글쓰기 : 발표와 토론까지</td>\n      <td>한성우</td>\n      <td>18000</td>\n    </tr>\n    <tr>\n      <th>297</th>\n      <td>B1672014946</td>\n      <td>진로개발과 직업세계 : 대학생과 청년층을 위한 진로, 취업지침서</td>\n      <td>서일수 , 김도균 , 김지혜 , 이정배</td>\n      <td>20000</td>\n    </tr>\n    <tr>\n      <th>298</th>\n      <td>B4698900723</td>\n      <td>Essential Calculus</td>\n      <td>James Stewart</td>\n      <td>36000</td>\n    </tr>\n    <tr>\n      <th>299</th>\n      <td>B2947348985</td>\n      <td>IT CookBook, 디지털 통신 시스템 : Digital Communicatio...</td>\n      <td>정호영 , 임승각</td>\n      <td>25000</td>\n    </tr>\n    <tr>\n      <th>300</th>\n      <td>B4601735413</td>\n      <td>IT CookBook, 운영체제론 : Operating Systems, 3rd Ed</td>\n      <td>하비 디텔 , 폴 디텔 , 데이빗 쇼픈스</td>\n      <td>32000</td>\n    </tr>\n  </tbody>\n</table>\n<p>301 rows × 4 columns</p>\n</div>"
     },
     "metadata": {},
     "execution_count": 10
    }
   ],
   "source": [
    "df = pd.DataFrame(data['body'])\n",
    "df.sort_values(by=\"price\", ascending=False)\n",
    "df"
   ]
  }
 ]
}