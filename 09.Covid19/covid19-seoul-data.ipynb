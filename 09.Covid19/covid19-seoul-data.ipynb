{
 "metadata": {
  "language_info": {
   "codemirror_mode": {
    "name": "ipython",
    "version": 3
   },
   "file_extension": ".py",
   "mimetype": "text/x-python",
   "name": "python",
   "nbconvert_exporter": "python",
   "pygments_lexer": "ipython3",
   "version": "3.9.0-final"
  },
  "orig_nbformat": 2,
  "kernelspec": {
   "name": "python3",
   "display_name": "Python 3.9.0 64-bit ('geo_env': conda)",
   "metadata": {
    "interpreter": {
     "hash": "221d7f5db4d1fd74338fccd0a333a55ab148ade3199ed2c4f3b97509f6d5e292"
    }
   }
  }
 },
 "nbformat": 4,
 "nbformat_minor": 2,
 "cells": [
  {
   "source": [
    "# 서울시 코로나19 확진자 현황"
   ],
   "cell_type": "markdown",
   "metadata": {}
  },
  {
   "cell_type": "code",
   "execution_count": 1,
   "metadata": {},
   "outputs": [],
   "source": [
    "import numpy as np\n",
    "import pandas as pd\n",
    "\n",
    "# An importlib package installable from any python version\n",
    "import importlib\n",
    "import modules.fs as fs"
   ]
  },
  {
   "cell_type": "code",
   "execution_count": 2,
   "metadata": {},
   "outputs": [
    {
     "output_type": "execute_result",
     "data": {
      "text/plain": [
       "     연번     확진일  환자번호  국적  환자정보    지역  여행력         접촉력  조치사항   상태 이동경로  \\\n",
       "0  8966  11.30.   NaN NaN   NaN   강북구  NaN    감염경로 조사중   NaN  NaN  NaN   \n",
       "1  8965  11.30.   NaN NaN   NaN   타시도  NaN   기타 확진자 접촉   NaN  NaN  NaN   \n",
       "2  8964  11.30.   NaN NaN   NaN   타시도  NaN    감염경로 조사중   NaN  NaN  NaN   \n",
       "3  8963  11.30.   NaN NaN   NaN  영등포구  NaN  서초구 사우나 관련   NaN  NaN  NaN   \n",
       "4  8962  11.30.   NaN NaN   NaN  영등포구  NaN    감염경로 조사중   NaN  NaN  NaN   \n",
       "\n",
       "                   등록일                  수정일 노출여부         날짜     년   월   일  \n",
       "0  2020-12-01 15:37:10  2020-12-01 15:37:10    Y 2020-11-30  2020  11  30  \n",
       "1  2020-12-01 15:37:10  2020-12-01 15:37:10    Y 2020-11-30  2020  11  30  \n",
       "2  2020-12-01 15:37:10  2020-12-01 15:37:10    Y 2020-11-30  2020  11  30  \n",
       "3  2020-12-01 15:37:10  2020-12-01 15:37:10    Y 2020-11-30  2020  11  30  \n",
       "4  2020-12-01 15:37:10  2020-12-01 15:37:10    Y 2020-11-30  2020  11  30  "
      ],
      "text/html": "<div>\n<style scoped>\n    .dataframe tbody tr th:only-of-type {\n        vertical-align: middle;\n    }\n\n    .dataframe tbody tr th {\n        vertical-align: top;\n    }\n\n    .dataframe thead th {\n        text-align: right;\n    }\n</style>\n<table border=\"1\" class=\"dataframe\">\n  <thead>\n    <tr style=\"text-align: right;\">\n      <th></th>\n      <th>연번</th>\n      <th>확진일</th>\n      <th>환자번호</th>\n      <th>국적</th>\n      <th>환자정보</th>\n      <th>지역</th>\n      <th>여행력</th>\n      <th>접촉력</th>\n      <th>조치사항</th>\n      <th>상태</th>\n      <th>이동경로</th>\n      <th>등록일</th>\n      <th>수정일</th>\n      <th>노출여부</th>\n      <th>날짜</th>\n      <th>년</th>\n      <th>월</th>\n      <th>일</th>\n    </tr>\n  </thead>\n  <tbody>\n    <tr>\n      <th>0</th>\n      <td>8966</td>\n      <td>11.30.</td>\n      <td>NaN</td>\n      <td>NaN</td>\n      <td>NaN</td>\n      <td>강북구</td>\n      <td>NaN</td>\n      <td>감염경로 조사중</td>\n      <td>NaN</td>\n      <td>NaN</td>\n      <td>NaN</td>\n      <td>2020-12-01 15:37:10</td>\n      <td>2020-12-01 15:37:10</td>\n      <td>Y</td>\n      <td>2020-11-30</td>\n      <td>2020</td>\n      <td>11</td>\n      <td>30</td>\n    </tr>\n    <tr>\n      <th>1</th>\n      <td>8965</td>\n      <td>11.30.</td>\n      <td>NaN</td>\n      <td>NaN</td>\n      <td>NaN</td>\n      <td>타시도</td>\n      <td>NaN</td>\n      <td>기타 확진자 접촉</td>\n      <td>NaN</td>\n      <td>NaN</td>\n      <td>NaN</td>\n      <td>2020-12-01 15:37:10</td>\n      <td>2020-12-01 15:37:10</td>\n      <td>Y</td>\n      <td>2020-11-30</td>\n      <td>2020</td>\n      <td>11</td>\n      <td>30</td>\n    </tr>\n    <tr>\n      <th>2</th>\n      <td>8964</td>\n      <td>11.30.</td>\n      <td>NaN</td>\n      <td>NaN</td>\n      <td>NaN</td>\n      <td>타시도</td>\n      <td>NaN</td>\n      <td>감염경로 조사중</td>\n      <td>NaN</td>\n      <td>NaN</td>\n      <td>NaN</td>\n      <td>2020-12-01 15:37:10</td>\n      <td>2020-12-01 15:37:10</td>\n      <td>Y</td>\n      <td>2020-11-30</td>\n      <td>2020</td>\n      <td>11</td>\n      <td>30</td>\n    </tr>\n    <tr>\n      <th>3</th>\n      <td>8963</td>\n      <td>11.30.</td>\n      <td>NaN</td>\n      <td>NaN</td>\n      <td>NaN</td>\n      <td>영등포구</td>\n      <td>NaN</td>\n      <td>서초구 사우나 관련</td>\n      <td>NaN</td>\n      <td>NaN</td>\n      <td>NaN</td>\n      <td>2020-12-01 15:37:10</td>\n      <td>2020-12-01 15:37:10</td>\n      <td>Y</td>\n      <td>2020-11-30</td>\n      <td>2020</td>\n      <td>11</td>\n      <td>30</td>\n    </tr>\n    <tr>\n      <th>4</th>\n      <td>8962</td>\n      <td>11.30.</td>\n      <td>NaN</td>\n      <td>NaN</td>\n      <td>NaN</td>\n      <td>영등포구</td>\n      <td>NaN</td>\n      <td>감염경로 조사중</td>\n      <td>NaN</td>\n      <td>NaN</td>\n      <td>NaN</td>\n      <td>2020-12-01 15:37:10</td>\n      <td>2020-12-01 15:37:10</td>\n      <td>Y</td>\n      <td>2020-11-30</td>\n      <td>2020</td>\n      <td>11</td>\n      <td>30</td>\n    </tr>\n  </tbody>\n</table>\n</div>"
     },
     "metadata": {},
     "execution_count": 2
    }
   ],
   "source": [
    "covid19 = fs.read_csv('./data/data.seoul.go.kr/corona19status/20201201/서울시 코로나19 확진자 현황.csv', encoding='euc-kr')\n",
    "\n",
    "covid19['날짜'] = '2020.' + covid19['확진일'].replace('\\.$', '', regex=True)\n",
    "covid19['날짜'] = pd.to_datetime(covid19['날짜'], format='%Y.%m.%d')\n",
    "covid19['년'] = covid19['날짜'].dt.year\n",
    "covid19['월'] = covid19['날짜'].dt.month\n",
    "covid19['일'] = covid19['날짜'].dt.day\n",
    "\n",
    "covid19.head()"
   ]
  },
  {
   "source": [
    "## 서울시 전체 현황"
   ],
   "cell_type": "markdown",
   "metadata": {}
  },
  {
   "cell_type": "code",
   "execution_count": 3,
   "metadata": {},
   "outputs": [],
   "source": [
    "# 상태 분석\n",
    "si_status = covid19.shape[0]\n",
    "si_discharged = covid19[covid19['상태'] == '퇴원'].shape[0]\n",
    "si_dead = covid19[covid19['상태'] == '사망'].shape[0]\n",
    "si_hospitalized = si_status - si_discharged - si_dead\n",
    "\n",
    "df = pd.DataFrame({\n",
    "    '퇴원': [si_discharged], \n",
    "    '사망': [si_dead], \n",
    "    '입원': [si_hospitalized]\n",
    "})\n",
    "\n",
    "fs.to_csv(df, './data/si_status.csv')"
   ]
  },
  {
   "cell_type": "code",
   "execution_count": 4,
   "metadata": {},
   "outputs": [],
   "source": [
    "# 여행력 분석\n",
    "si_notravel = covid19['여행력'].isna().sum()\n",
    "si_traveled = covid19['여행력'].notna().sum()\n",
    "\n",
    "df = pd.DataFrame({\n",
    "    '집': [si_notravel], \n",
    "    '여행': [si_traveled]\n",
    "})\n",
    "\n",
    "fs.to_csv(df, './data/si_travel.csv')"
   ]
  },
  {
   "cell_type": "code",
   "execution_count": 5,
   "metadata": {},
   "outputs": [],
   "source": [
    "# 확진일 일별 분석\n",
    "si_daily_discharged = covid19[covid19['상태'] == '퇴원'].groupby('날짜').size()\n",
    "si_daily_dead = covid19[covid19['상태'] == '사망'].groupby('날짜').size()\n",
    "si_daily_hospitalized = covid19[covid19['상태'].isna()].groupby('날짜').size()\n",
    "\n",
    "df = pd.DataFrame({\n",
    "    '퇴원': si_daily_discharged, \n",
    "    '사망': si_daily_dead,\n",
    "    '입원': si_daily_hospitalized\n",
    "})\n",
    "\n",
    "fs.to_csv(df, './data/si_daily.csv', index=True)"
   ]
  },
  {
   "cell_type": "code",
   "execution_count": 6,
   "metadata": {},
   "outputs": [],
   "source": [
    "# 확진일 월별 분석\n",
    "si_monthly_discharged = covid19[covid19['상태'] == '퇴원'].groupby(pd.Grouper(key='날짜', freq='1M')).size()\n",
    "si_monthly_dead = covid19[covid19['상태'] == '사망'].groupby(pd.Grouper(key='날짜', freq='1M')).size()\n",
    "si_monthly_hospitalized = covid19[covid19['상태'].isna()].groupby(pd.Grouper(key='날짜', freq='1M')).size()\n",
    "\n",
    "df = pd.DataFrame({\n",
    "    '퇴원': si_monthly_discharged, \n",
    "    '사망': si_monthly_dead,\n",
    "    '입원': si_monthly_hospitalized\n",
    "})\n",
    "\n",
    "fs.to_csv(df, './data/si_monthly.csv', index=True)"
   ]
  },
  {
   "source": [
    "## 지역구 분석"
   ],
   "cell_type": "markdown",
   "metadata": {}
  },
  {
   "cell_type": "code",
   "execution_count": 7,
   "metadata": {},
   "outputs": [],
   "source": [
    "# 상태 분석\n",
    "gu_status = covid19.groupby('지역').size()\n",
    "gu_discharged = covid19[covid19['상태'] == '퇴원'].groupby('지역').size()\n",
    "gu_dead = covid19[covid19['상태'] == '사망'].groupby('지역').size()\n",
    "gu_hospitalized = gu_status - gu_discharged - gu_dead\n",
    "\n",
    "df = pd.DataFrame({\n",
    "    '퇴원': gu_discharged, \n",
    "    '사망': gu_dead,\n",
    "    '입원': gu_hospitalized\n",
    "})\n",
    "\n",
    "fs.to_csv(df, './data/gu_status.csv', index=True)"
   ]
  },
  {
   "cell_type": "code",
   "execution_count": 8,
   "metadata": {},
   "outputs": [],
   "source": [
    "# 여행력 분석\n",
    "gu_notravel = covid19[covid19['여행력'].isna()].groupby('지역').size()\n",
    "gu_traveled = covid19[covid19['여행력'].notna()].groupby('지역').size()\n",
    "\n",
    "df = pd.DataFrame({\n",
    "    '집': gu_notravel, \n",
    "    '여행': gu_traveled\n",
    "})\n",
    "\n",
    "fs.to_csv(df, './data/gu_travel.csv', index=True)"
   ]
  },
  {
   "cell_type": "code",
   "execution_count": 9,
   "metadata": {},
   "outputs": [],
   "source": [
    "# 확진일 일별 분석\n",
    "gu_daily_discharged = covid19[covid19['상태'] == '퇴원'].groupby(['지역', '날짜']).size()\n",
    "gu_daily_dead = covid19[covid19['상태'] == '사망'].groupby(['지역', '날짜']).size()\n",
    "gu_daily_hospitalized = covid19[covid19['상태'].isna()].groupby(['지역', '날짜']).size()\n",
    "\n",
    "df = pd.DataFrame({\n",
    "    '퇴원': gu_daily_discharged, \n",
    "    '사망': gu_daily_dead, \n",
    "    '입원': gu_daily_hospitalized\n",
    "})\n",
    "\n",
    "fs.to_csv(df, './data/gu_daily.csv', index=True)"
   ]
  },
  {
   "cell_type": "code",
   "execution_count": 10,
   "metadata": {},
   "outputs": [],
   "source": [
    "# 확진일 월별 분석\n",
    "gu_monthly_discharged = covid19[covid19['상태'] == '퇴원'].groupby(['지역', pd.Grouper(key='날짜', freq='1M')]).size()\n",
    "gu_monthly_dead = covid19[covid19['상태'] == '사망'].groupby(['지역', pd.Grouper(key='날짜', freq='1M')]).size()\n",
    "gu_monthly_hospitalized = covid19[covid19['상태'].isna()].groupby(['지역', pd.Grouper(key='날짜', freq='1M')]).size()\n",
    "\n",
    "df = pd.DataFrame({\n",
    "    '퇴원': gu_monthly_discharged, \n",
    "    '사망': gu_monthly_dead, \n",
    "    '입원': gu_monthly_hospitalized\n",
    "})\n",
    "\n",
    "fs.to_csv(df, './data/gu_monthly.csv', index=True)"
   ]
  }
 ]
}