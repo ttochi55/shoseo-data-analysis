{
 "metadata": {
  "language_info": {
   "codemirror_mode": {
    "name": "ipython",
    "version": 3
   },
   "file_extension": ".py",
   "mimetype": "text/x-python",
   "name": "python",
   "nbconvert_exporter": "python",
   "pygments_lexer": "ipython3",
   "version": "3.9.0-final"
  },
  "orig_nbformat": 2,
  "kernelspec": {
   "name": "python3",
   "display_name": "Python 3"
  }
 },
 "nbformat": 4,
 "nbformat_minor": 2,
 "cells": [
  {
   "source": [
    "# COVID-19 현황 분석"
   ],
   "cell_type": "markdown",
   "metadata": {}
  },
  {
   "cell_type": "code",
   "execution_count": 2,
   "metadata": {},
   "outputs": [],
   "source": [
    "# An importlib package installable from any python version\n",
    "import importlib\n",
    "import modules.api as api"
   ]
  },
  {
   "cell_type": "code",
   "execution_count": null,
   "metadata": {},
   "outputs": [],
   "source": [
    "# 보건복지부_코로나19 시·도발생_현황\n",
    "api.main('openapi', 'http://openapi.data.go.kr/openapi/service/rest/Covid19/getCovid19SidoInfStateJson',\n",
    "    startCreateDt='20200301',\n",
    "    endCreateDt='20201130',\n",
    ")"
   ]
  },
  {
   "cell_type": "code",
   "execution_count": null,
   "metadata": {},
   "outputs": [],
   "source": [
    "# 보건복지부_코로나19 연령별·성별감염_현황\n",
    "api.main('openapi', 'http://openapi.data.go.kr/openapi/service/rest/Covid19/getCovid19GenAgeCaseInfJson',\n",
    "    startCreateDt='20200301',\n",
    "    endCreateDt='20201130',\n",
    ")"
   ]
  },
  {
   "cell_type": "code",
   "execution_count": null,
   "metadata": {},
   "outputs": [],
   "source": [
    "# 보건복지부_코로나19 감염_현황\n",
    "api.main('openapi', 'http://openapi.data.go.kr/openapi/service/rest/Covid19/getCovid19InfStateJson',\n",
    "    startCreateDt='20200301',\n",
    "    endCreateDt='20201130',\n",
    ")"
   ]
  },
  {
   "cell_type": "code",
   "execution_count": null,
   "metadata": {},
   "outputs": [],
   "source": [
    "# 보건복지부_코로나19해외발생_현황\n",
    "api.main('openapi', 'http://openapi.data.go.kr/openapi/service/rest/Covid19/getCovid19NatInfStateJson',\n",
    "    startCreateDt='20200301',\n",
    "    endCreateDt='20201130',\n",
    ")"
   ]
  }
 ]
}