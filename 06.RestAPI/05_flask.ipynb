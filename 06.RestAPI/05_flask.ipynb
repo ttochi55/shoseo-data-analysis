{
 "metadata": {
  "language_info": {
   "codemirror_mode": {
    "name": "ipython",
    "version": 3
   },
   "file_extension": ".py",
   "mimetype": "text/x-python",
   "name": "python",
   "nbconvert_exporter": "python",
   "pygments_lexer": "ipython3",
   "version": "3.8.3-final"
  },
  "orig_nbformat": 2,
  "kernelspec": {
   "name": "python3",
   "display_name": "Python 3"
  }
 },
 "nbformat": 4,
 "nbformat_minor": 2,
 "cells": [
  {
   "source": [
    "# Flask\n",
    "\n",
    "**Installation**   \n",
    "```\n",
    "(base) conda install -c anaconda flask\n",
    "```\n",
    "\n",
    "**Reference**   \n",
    "<https://anaconda.org/anaconda/flask>"
   ],
   "cell_type": "markdown",
   "metadata": {}
  },
  {
   "source": [
    "## Using folium with flask\n",
    "\n",
    "<https://python-visualization.github.io/folium/flask.html>"
   ],
   "cell_type": "markdown",
   "metadata": {}
  },
  {
   "source": [
    "## flask_example.py"
   ],
   "cell_type": "markdown",
   "metadata": {}
  },
  {
   "cell_type": "code",
   "execution_count": null,
   "metadata": {},
   "outputs": [],
   "source": [
    "\"\"\" flask_example.py\n",
    "\n",
    "    Required packages:\n",
    "    - flask\n",
    "    - folium\n",
    "\n",
    "    Usage:\n",
    "\n",
    "    Start the flask server by running:\n",
    "\n",
    "        $ python flask_example.py\n",
    "\n",
    "    And then head to http://127.0.0.1:5000/ in your browser to see the map displayed\n",
    "\n",
    "\"\"\"\n",
    "\n",
    "from flask import Flask\n",
    "\n",
    "import folium\n",
    "\n",
    "app = Flask(__name__)\n",
    "\n",
    "\n",
    "@app.route('/')\n",
    "def index():\n",
    "    start_coords = (46.9540700, 142.7360300)\n",
    "    folium_map = folium.Map(location=start_coords, zoom_start=14)\n",
    "    return folium_map._repr_html_()\n",
    "\n",
    "\n",
    "if __name__ == '__main__':\n",
    "    app.run(debug=True)"
   ]
  }
 ]
}