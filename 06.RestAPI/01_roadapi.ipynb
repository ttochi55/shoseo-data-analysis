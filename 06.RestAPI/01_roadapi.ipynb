{
 "metadata": {
  "language_info": {
   "codemirror_mode": {
    "name": "ipython",
    "version": 3
   },
   "file_extension": ".py",
   "mimetype": "text/x-python",
   "name": "python",
   "nbconvert_exporter": "python",
   "pygments_lexer": "ipython3",
   "version": "3.8.3-final"
  },
  "orig_nbformat": 2,
  "kernelspec": {
   "name": "python3",
   "display_name": "Python 3"
  }
 },
 "nbformat": 4,
 "nbformat_minor": 2,
 "cells": [
  {
   "source": [
    "# 행정안정부 도로명주소 API\n",
    "\n",
    "## 건물명으로부터 도로명주소 구하기"
   ],
   "cell_type": "markdown",
   "metadata": {}
  },
  {
   "cell_type": "code",
   "execution_count": 3,
   "metadata": {},
   "outputs": [],
   "source": [
    "import pandas as pd\n",
    "import numpy as np\n",
    "\n",
    "import requests\n",
    "from urllib.parse import urlparse, quote"
   ]
  },
  {
   "cell_type": "code",
   "execution_count": 4,
   "metadata": {},
   "outputs": [],
   "source": [
    "key_fd = open('roadapikey.txt', mode='r')\n",
    "roadapi_key = key_fd.read(100)\n",
    "key_fd.close()"
   ]
  },
  {
   "cell_type": "code",
   "execution_count": 5,
   "metadata": {},
   "outputs": [
    {
     "output_type": "execute_result",
     "data": {
      "text/plain": [
       "'https://www.juso.go.kr/addrlink/addrLinkApi.do?confmKey=U01TX0FVVEgyMDIwMTExOTEwMjMzNTExMDQzNzg=&currentPage=1&countPerPage=5&keyword=강서구청&resultType=json'"
      ]
     },
     "metadata": {},
     "execution_count": 5
    }
   ],
   "source": [
    "road_url = 'https://www.juso.go.kr/addrlink/addrLinkApi.do'\n",
    "confmKey = roadapi_key\n",
    "currentPage = 1\n",
    "countPerPage = 5\n",
    "keyword = quote('강서구청')\n",
    "resultType = 'json'\n",
    "\n",
    "request_url = f\"{road_url}?confmKey={roadapi_key}&currentPage={currentPage}&countPerPage={countPerPage}&keyword={keyword}&resultType=json\"\n",
    "\n",
    "urlparse(request_url).geturl()"
   ]
  },
  {
   "cell_type": "code",
   "execution_count": 6,
   "metadata": {},
   "outputs": [
    {
     "output_type": "execute_result",
     "data": {
      "text/plain": [
       "'%EA%B0%95%EC%84%9C%EA%B5%AC%EC%B2%AD'"
      ]
     },
     "metadata": {},
     "execution_count": 6
    }
   ],
   "source": [
    "quote('강서구청')"
   ]
  },
  {
   "cell_type": "code",
   "execution_count": null,
   "metadata": {},
   "outputs": [],
   "source": [
    "request_url = f\"{road_url}?confmKey={roadapi_key}&currentPage={currentPage}&countPerPage={countPerPage}&keyword={keyword}&resultType=json\""
   ]
  },
  {
   "cell_type": "code",
   "execution_count": 4,
   "metadata": {},
   "outputs": [
    {
     "output_type": "execute_result",
     "data": {
      "text/plain": [
       "{'detBdNmList': '',\n",
       " 'engAddr': '302, Hwagok-ro, Gangseo-gu, Seoul',\n",
       " 'rn': '화곡로',\n",
       " 'emdNm': '화곡동',\n",
       " 'zipNo': '07658',\n",
       " 'roadAddrPart2': ' (화곡동)',\n",
       " 'emdNo': '02',\n",
       " 'sggNm': '강서구',\n",
       " 'jibunAddr': '서울특별시 강서구 화곡동 980-16 강서구청',\n",
       " 'siNm': '서울특별시',\n",
       " 'roadAddrPart1': '서울특별시 강서구 화곡로 302',\n",
       " 'bdNm': '강서구청',\n",
       " 'admCd': '1150010300',\n",
       " 'udrtYn': '0',\n",
       " 'lnbrMnnm': '980',\n",
       " 'roadAddr': '서울특별시 강서구 화곡로 302 (화곡동)',\n",
       " 'lnbrSlno': '16',\n",
       " 'buldMnnm': '302',\n",
       " 'bdKdcd': '0',\n",
       " 'liNm': '',\n",
       " 'rnMgtSn': '115003005069',\n",
       " 'mtYn': '0',\n",
       " 'bdMgtSn': '1150010300109800016015086',\n",
       " 'buldSlno': '0'}"
      ]
     },
     "metadata": {},
     "execution_count": 4
    }
   ],
   "source": [
    "results = requests.get(urlparse(request_url).geturl()).json()\n",
    "addr_list = results['results']['juso']\n",
    "addr_list[0]"
   ]
  },
  {
   "cell_type": "code",
   "execution_count": 5,
   "metadata": {},
   "outputs": [
    {
     "output_type": "stream",
     "name": "stdout",
     "text": [
      "강서구청 서울특별시 강서구 화곡로 302 (화곡동)\n강서구청 서울특별시 강서구 화곡로44나길 72 (화곡동)\n강서구청 부산광역시 강서구 낙동북로 477 (대저1동)\n강서구청청소차고 서울특별시 강서구 남부순환로 208 (외발산동)\n강서구청가양동별관 서울특별시 강서구 양천로59길 38 (가양동)\n"
     ]
    }
   ],
   "source": [
    "for addr in addr_list:\n",
    "    print(addr['bdNm'], addr['roadAddr'])"
   ]
  },
  {
   "source": [
    "## DataFrame"
   ],
   "cell_type": "markdown",
   "metadata": {}
  },
  {
   "cell_type": "code",
   "execution_count": 6,
   "metadata": {},
   "outputs": [],
   "source": [
    "def getAPI(**kwargs):\n",
    "    confmKey = roadapi_key\n",
    "    baseUrl = \"https://www.juso.go.kr/addrlink/addrLinkApi.do?confmKey=\"\n",
    "    params = []\n",
    "\n",
    "    for k, v in kwargs.items():\n",
    "        params.append(\"{}={}\".format(k, v))        \n",
    "\n",
    "    param = '&' + '&'.join(params)\n",
    "    query = baseUrl + confmKey + param\n",
    "    \n",
    "    return requests.get(urlparse(query).geturl()).json()"
   ]
  },
  {
   "cell_type": "code",
   "execution_count": 7,
   "metadata": {},
   "outputs": [],
   "source": [
    "data1 = getAPI(currentPage=1, countPerPage=5, keyword='강서구청', resultType='json')\n",
    "data2 = getAPI(currentPage=1, countPerPage=5, keyword='양천구청', resultType='json')\n",
    "data3 = getAPI(currentPage=1, countPerPage=5, keyword='부천시청', resultType='json')\n",
    "data4 = getAPI(currentPage=1, countPerPage=5, keyword='영등포구청', resultType='json')\n",
    "data5 = getAPI(currentPage=1, countPerPage=5, keyword='김포시청', resultType='json')"
   ]
  },
  {
   "cell_type": "code",
   "execution_count": 8,
   "metadata": {},
   "outputs": [
    {
     "output_type": "execute_result",
     "data": {
      "text/plain": [
       "                                        detBdNmList  \\\n",
       "0                                                     \n",
       "1                                                     \n",
       "2                                                     \n",
       "3                                                     \n",
       "4  민방위교육장,민원봉사실,본관동, 의회동,부대시설,신별관동,정보관동,주차요금정산서,팔각정   \n",
       "\n",
       "                                    engAddr    rn  emdNm  zipNo roadAddrPart2  \\\n",
       "0         302, Hwagok-ro, Gangseo-gu, Seoul   화곡로    화곡동  07658         (화곡동)   \n",
       "1  105, Mokdongdong-ro, Yangcheon-gu, Seoul  목동동로    신정동  08095         (신정동)   \n",
       "2  210-2, Gilju-ro, Bucheon-si, Gyeonggi-do   길주로     중동  14547          (중동)   \n",
       "3   123, Dangsan-ro, Yeongdeungpo-gu, Seoul   당산로  당산동3가  07260       (당산동3가)   \n",
       "4      1, Saujung-ro, Gimpo-si, Gyeonggi-do  사우중로    사우동  10109         (사우동)   \n",
       "\n",
       "  emdNo sggNm                     jibunAddr   siNm  ... lnbrMnnm  \\\n",
       "0    02   강서구     서울특별시 강서구 화곡동 980-16 강서구청  서울특별시  ...      980   \n",
       "1    01   양천구      서울특별시 양천구 신정동 321-4 양천구청  서울특별시  ...      321   \n",
       "2    02   부천시     경기도 부천시 중동 1156 부천시청 어린이집    경기도  ...     1156   \n",
       "3    03  영등포구  서울특별시 영등포구 당산동3가 385-1 영등포구청  서울특별시  ...      385   \n",
       "4    02   김포시        경기도 김포시 사우동 263-1 김포시청    경기도  ...      263   \n",
       "\n",
       "                     roadAddr lnbrSlno buldMnnm bdKdcd liNm       rnMgtSn  \\\n",
       "0     서울특별시 강서구 화곡로 302 (화곡동)       16      302      0       115003005069   \n",
       "1    서울특별시 양천구 목동동로 105 (신정동)        4      105      0       114703114001   \n",
       "2      경기도 부천시 길주로 210-2 (중동)        0      210      0       411903000065   \n",
       "3  서울특별시 영등포구 당산로 123 (당산동3가)        1      123      0       115603118004   \n",
       "4        경기도 김포시 사우중로 1 (사우동)        1        1      0       415703209060   \n",
       "\n",
       "  mtYn                    bdMgtSn buldSlno  \n",
       "0    0  1150010300109800016015086        0  \n",
       "1    0  1147010100103210004000689        0  \n",
       "2    0  4119010800111560000000001        2  \n",
       "3    0  1156011300103850001029173        0  \n",
       "4    0  4157010600102630001022084        0  \n",
       "\n",
       "[5 rows x 24 columns]"
      ],
      "text/html": "<div>\n<style scoped>\n    .dataframe tbody tr th:only-of-type {\n        vertical-align: middle;\n    }\n\n    .dataframe tbody tr th {\n        vertical-align: top;\n    }\n\n    .dataframe thead th {\n        text-align: right;\n    }\n</style>\n<table border=\"1\" class=\"dataframe\">\n  <thead>\n    <tr style=\"text-align: right;\">\n      <th></th>\n      <th>detBdNmList</th>\n      <th>engAddr</th>\n      <th>rn</th>\n      <th>emdNm</th>\n      <th>zipNo</th>\n      <th>roadAddrPart2</th>\n      <th>emdNo</th>\n      <th>sggNm</th>\n      <th>jibunAddr</th>\n      <th>siNm</th>\n      <th>...</th>\n      <th>lnbrMnnm</th>\n      <th>roadAddr</th>\n      <th>lnbrSlno</th>\n      <th>buldMnnm</th>\n      <th>bdKdcd</th>\n      <th>liNm</th>\n      <th>rnMgtSn</th>\n      <th>mtYn</th>\n      <th>bdMgtSn</th>\n      <th>buldSlno</th>\n    </tr>\n  </thead>\n  <tbody>\n    <tr>\n      <th>0</th>\n      <td></td>\n      <td>302, Hwagok-ro, Gangseo-gu, Seoul</td>\n      <td>화곡로</td>\n      <td>화곡동</td>\n      <td>07658</td>\n      <td>(화곡동)</td>\n      <td>02</td>\n      <td>강서구</td>\n      <td>서울특별시 강서구 화곡동 980-16 강서구청</td>\n      <td>서울특별시</td>\n      <td>...</td>\n      <td>980</td>\n      <td>서울특별시 강서구 화곡로 302 (화곡동)</td>\n      <td>16</td>\n      <td>302</td>\n      <td>0</td>\n      <td></td>\n      <td>115003005069</td>\n      <td>0</td>\n      <td>1150010300109800016015086</td>\n      <td>0</td>\n    </tr>\n    <tr>\n      <th>1</th>\n      <td></td>\n      <td>105, Mokdongdong-ro, Yangcheon-gu, Seoul</td>\n      <td>목동동로</td>\n      <td>신정동</td>\n      <td>08095</td>\n      <td>(신정동)</td>\n      <td>01</td>\n      <td>양천구</td>\n      <td>서울특별시 양천구 신정동 321-4 양천구청</td>\n      <td>서울특별시</td>\n      <td>...</td>\n      <td>321</td>\n      <td>서울특별시 양천구 목동동로 105 (신정동)</td>\n      <td>4</td>\n      <td>105</td>\n      <td>0</td>\n      <td></td>\n      <td>114703114001</td>\n      <td>0</td>\n      <td>1147010100103210004000689</td>\n      <td>0</td>\n    </tr>\n    <tr>\n      <th>2</th>\n      <td></td>\n      <td>210-2, Gilju-ro, Bucheon-si, Gyeonggi-do</td>\n      <td>길주로</td>\n      <td>중동</td>\n      <td>14547</td>\n      <td>(중동)</td>\n      <td>02</td>\n      <td>부천시</td>\n      <td>경기도 부천시 중동 1156 부천시청 어린이집</td>\n      <td>경기도</td>\n      <td>...</td>\n      <td>1156</td>\n      <td>경기도 부천시 길주로 210-2 (중동)</td>\n      <td>0</td>\n      <td>210</td>\n      <td>0</td>\n      <td></td>\n      <td>411903000065</td>\n      <td>0</td>\n      <td>4119010800111560000000001</td>\n      <td>2</td>\n    </tr>\n    <tr>\n      <th>3</th>\n      <td></td>\n      <td>123, Dangsan-ro, Yeongdeungpo-gu, Seoul</td>\n      <td>당산로</td>\n      <td>당산동3가</td>\n      <td>07260</td>\n      <td>(당산동3가)</td>\n      <td>03</td>\n      <td>영등포구</td>\n      <td>서울특별시 영등포구 당산동3가 385-1 영등포구청</td>\n      <td>서울특별시</td>\n      <td>...</td>\n      <td>385</td>\n      <td>서울특별시 영등포구 당산로 123 (당산동3가)</td>\n      <td>1</td>\n      <td>123</td>\n      <td>0</td>\n      <td></td>\n      <td>115603118004</td>\n      <td>0</td>\n      <td>1156011300103850001029173</td>\n      <td>0</td>\n    </tr>\n    <tr>\n      <th>4</th>\n      <td>민방위교육장,민원봉사실,본관동, 의회동,부대시설,신별관동,정보관동,주차요금정산서,팔각정</td>\n      <td>1, Saujung-ro, Gimpo-si, Gyeonggi-do</td>\n      <td>사우중로</td>\n      <td>사우동</td>\n      <td>10109</td>\n      <td>(사우동)</td>\n      <td>02</td>\n      <td>김포시</td>\n      <td>경기도 김포시 사우동 263-1 김포시청</td>\n      <td>경기도</td>\n      <td>...</td>\n      <td>263</td>\n      <td>경기도 김포시 사우중로 1 (사우동)</td>\n      <td>1</td>\n      <td>1</td>\n      <td>0</td>\n      <td></td>\n      <td>415703209060</td>\n      <td>0</td>\n      <td>4157010600102630001022084</td>\n      <td>0</td>\n    </tr>\n  </tbody>\n</table>\n<p>5 rows × 24 columns</p>\n</div>"
     },
     "metadata": {},
     "execution_count": 8
    }
   ],
   "source": [
    "juso = [\n",
    "    data1['results']['juso'][0],\n",
    "    data2['results']['juso'][0],\n",
    "    data3['results']['juso'][0],\n",
    "    data4['results']['juso'][0],\n",
    "    data5['results']['juso'][0]\n",
    "]\n",
    "df = pd.DataFrame(juso)\n",
    "df"
   ]
  },
  {
   "cell_type": "code",
   "execution_count": 12,
   "metadata": {},
   "outputs": [],
   "source": [
    "df.to_csv('address.csv')"
   ]
  }
 ]
}