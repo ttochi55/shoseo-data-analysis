{
 "metadata": {
  "language_info": {
   "codemirror_mode": {
    "name": "ipython",
    "version": 3
   },
   "file_extension": ".py",
   "mimetype": "text/x-python",
   "name": "python",
   "nbconvert_exporter": "python",
   "pygments_lexer": "ipython3",
   "version": "3.8.3-final"
  },
  "orig_nbformat": 2,
  "kernelspec": {
   "name": "python3",
   "display_name": "Python 3"
  }
 },
 "nbformat": 4,
 "nbformat_minor": 2,
 "cells": [
  {
   "source": [
    "# Kakao Map API\n",
    "\n",
    "이 문서는 로컬(Local) API 구현 방법을 소개합니다.   \n",
    "\n",
    "<https://developers.kakao.com/docs/latest/ko/local/dev-guide>"
   ],
   "cell_type": "markdown",
   "metadata": {}
  },
  {
   "cell_type": "code",
   "execution_count": 1,
   "metadata": {},
   "outputs": [],
   "source": [
    "import pandas as pd\n",
    "import numpy as np\n",
    "\n",
    "import requests\n",
    "from urllib.parse import urlparse"
   ]
  },
  {
   "cell_type": "code",
   "execution_count": 2,
   "metadata": {},
   "outputs": [],
   "source": [
    "key_fd = open('kakaomaprestapikey.txt', mode='r')\n",
    "API_KEY = key_fd.read(100)\n",
    "key_fd.close()"
   ]
  },
  {
   "cell_type": "code",
   "execution_count": 3,
   "metadata": {},
   "outputs": [],
   "source": [
    "def getAPI(**kwargs):\n",
    "    baseUrl = \"https://dapi.kakao.com/v2/local/search/address.json?\"\n",
    "    params = []\n",
    "\n",
    "    for k, v in kwargs.items():\n",
    "        params.append(\"{}={}\".format(k, v))        \n",
    "\n",
    "    param = '&'.join(params)\n",
    "    query = baseUrl + param\n",
    "\n",
    "    return requests.get(urlparse(query).geturl(), headers={\"Authorization\": \"KakaoAK \"+API_KEY}).json()"
   ]
  },
  {
   "cell_type": "code",
   "execution_count": 4,
   "metadata": {},
   "outputs": [
    {
     "output_type": "execute_result",
     "data": {
      "text/plain": [
       "{'address': {'address_name': '서울 강서구 화곡동 980-16',\n",
       "  'b_code': '1150010300',\n",
       "  'h_code': '1150059100',\n",
       "  'main_address_no': '980',\n",
       "  'mountain_yn': 'N',\n",
       "  'region_1depth_name': '서울',\n",
       "  'region_2depth_name': '강서구',\n",
       "  'region_3depth_h_name': '화곡6동',\n",
       "  'region_3depth_name': '화곡동',\n",
       "  'sub_address_no': '16',\n",
       "  'x': '126.849532173376',\n",
       "  'y': '37.5509655144007'},\n",
       " 'address_name': '서울 강서구 화곡로 302',\n",
       " 'address_type': 'ROAD_ADDR',\n",
       " 'road_address': {'address_name': '서울 강서구 화곡로 302',\n",
       "  'building_name': '강서구청',\n",
       "  'main_building_no': '302',\n",
       "  'region_1depth_name': '서울',\n",
       "  'region_2depth_name': '강서구',\n",
       "  'region_3depth_name': '화곡동',\n",
       "  'road_name': '화곡로',\n",
       "  'sub_building_no': '',\n",
       "  'underground_yn': 'N',\n",
       "  'x': '126.849532173376',\n",
       "  'y': '37.5509655144007',\n",
       "  'zone_no': '07658'},\n",
       " 'x': '126.849532173376',\n",
       " 'y': '37.5509655144007'}"
      ]
     },
     "metadata": {},
     "execution_count": 4
    }
   ],
   "source": [
    "data1 = getAPI(query='서울특별시 강서구 화곡로 302 (화곡동)')\n",
    "data1['documents'][0]"
   ]
  },
  {
   "cell_type": "code",
   "execution_count": 5,
   "metadata": {},
   "outputs": [
    {
     "output_type": "execute_result",
     "data": {
      "text/plain": [
       "(126.849532173376, 37.5509655144007)"
      ]
     },
     "metadata": {},
     "execution_count": 5
    }
   ],
   "source": [
    "lng = float(data1['documents'][0]['x'])\n",
    "lat = float(data1['documents'][0]['y'])\n",
    "lng, lat"
   ]
  },
  {
   "cell_type": "code",
   "execution_count": 6,
   "metadata": {},
   "outputs": [
    {
     "output_type": "execute_result",
     "data": {
      "text/plain": [
       "   Unnamed: 0                                       detBdNmList  \\\n",
       "0           0                                               NaN   \n",
       "1           1                                               NaN   \n",
       "2           2                                               NaN   \n",
       "3           3                                               NaN   \n",
       "4           4  민방위교육장,민원봉사실,본관동, 의회동,부대시설,신별관동,정보관동,주차요금정산서,팔각정   \n",
       "\n",
       "                                    engAddr    rn  emdNm  zipNo roadAddrPart2  \\\n",
       "0         302, Hwagok-ro, Gangseo-gu, Seoul   화곡로    화곡동   7658         (화곡동)   \n",
       "1  105, Mokdongdong-ro, Yangcheon-gu, Seoul  목동동로    신정동   8095         (신정동)   \n",
       "2  210-2, Gilju-ro, Bucheon-si, Gyeonggi-do   길주로     중동  14547          (중동)   \n",
       "3   123, Dangsan-ro, Yeongdeungpo-gu, Seoul   당산로  당산동3가   7260       (당산동3가)   \n",
       "4      1, Saujung-ro, Gimpo-si, Gyeonggi-do  사우중로    사우동  10109         (사우동)   \n",
       "\n",
       "   emdNo sggNm                     jibunAddr  ... lnbrMnnm  \\\n",
       "0      2   강서구     서울특별시 강서구 화곡동 980-16 강서구청  ...      980   \n",
       "1      1   양천구      서울특별시 양천구 신정동 321-4 양천구청  ...      321   \n",
       "2      2   부천시     경기도 부천시 중동 1156 부천시청 어린이집  ...     1156   \n",
       "3      3  영등포구  서울특별시 영등포구 당산동3가 385-1 영등포구청  ...      385   \n",
       "4      2   김포시        경기도 김포시 사우동 263-1 김포시청  ...      263   \n",
       "\n",
       "                     roadAddr lnbrSlno  buldMnnm  bdKdcd  liNm       rnMgtSn  \\\n",
       "0     서울특별시 강서구 화곡로 302 (화곡동)       16       302       0   NaN  115003005069   \n",
       "1    서울특별시 양천구 목동동로 105 (신정동)        4       105       0   NaN  114703114001   \n",
       "2      경기도 부천시 길주로 210-2 (중동)        0       210       0   NaN  411903000065   \n",
       "3  서울특별시 영등포구 당산로 123 (당산동3가)        1       123       0   NaN  115603118004   \n",
       "4        경기도 김포시 사우중로 1 (사우동)        1         1       0   NaN  415703209060   \n",
       "\n",
       "   mtYn                    bdMgtSn  buldSlno  \n",
       "0     0  1150010300109800016015086         0  \n",
       "1     0  1147010100103210004000689         0  \n",
       "2     0  4119010800111560000000001         2  \n",
       "3     0  1156011300103850001029173         0  \n",
       "4     0  4157010600102630001022084         0  \n",
       "\n",
       "[5 rows x 25 columns]"
      ],
      "text/html": "<div>\n<style scoped>\n    .dataframe tbody tr th:only-of-type {\n        vertical-align: middle;\n    }\n\n    .dataframe tbody tr th {\n        vertical-align: top;\n    }\n\n    .dataframe thead th {\n        text-align: right;\n    }\n</style>\n<table border=\"1\" class=\"dataframe\">\n  <thead>\n    <tr style=\"text-align: right;\">\n      <th></th>\n      <th>Unnamed: 0</th>\n      <th>detBdNmList</th>\n      <th>engAddr</th>\n      <th>rn</th>\n      <th>emdNm</th>\n      <th>zipNo</th>\n      <th>roadAddrPart2</th>\n      <th>emdNo</th>\n      <th>sggNm</th>\n      <th>jibunAddr</th>\n      <th>...</th>\n      <th>lnbrMnnm</th>\n      <th>roadAddr</th>\n      <th>lnbrSlno</th>\n      <th>buldMnnm</th>\n      <th>bdKdcd</th>\n      <th>liNm</th>\n      <th>rnMgtSn</th>\n      <th>mtYn</th>\n      <th>bdMgtSn</th>\n      <th>buldSlno</th>\n    </tr>\n  </thead>\n  <tbody>\n    <tr>\n      <th>0</th>\n      <td>0</td>\n      <td>NaN</td>\n      <td>302, Hwagok-ro, Gangseo-gu, Seoul</td>\n      <td>화곡로</td>\n      <td>화곡동</td>\n      <td>7658</td>\n      <td>(화곡동)</td>\n      <td>2</td>\n      <td>강서구</td>\n      <td>서울특별시 강서구 화곡동 980-16 강서구청</td>\n      <td>...</td>\n      <td>980</td>\n      <td>서울특별시 강서구 화곡로 302 (화곡동)</td>\n      <td>16</td>\n      <td>302</td>\n      <td>0</td>\n      <td>NaN</td>\n      <td>115003005069</td>\n      <td>0</td>\n      <td>1150010300109800016015086</td>\n      <td>0</td>\n    </tr>\n    <tr>\n      <th>1</th>\n      <td>1</td>\n      <td>NaN</td>\n      <td>105, Mokdongdong-ro, Yangcheon-gu, Seoul</td>\n      <td>목동동로</td>\n      <td>신정동</td>\n      <td>8095</td>\n      <td>(신정동)</td>\n      <td>1</td>\n      <td>양천구</td>\n      <td>서울특별시 양천구 신정동 321-4 양천구청</td>\n      <td>...</td>\n      <td>321</td>\n      <td>서울특별시 양천구 목동동로 105 (신정동)</td>\n      <td>4</td>\n      <td>105</td>\n      <td>0</td>\n      <td>NaN</td>\n      <td>114703114001</td>\n      <td>0</td>\n      <td>1147010100103210004000689</td>\n      <td>0</td>\n    </tr>\n    <tr>\n      <th>2</th>\n      <td>2</td>\n      <td>NaN</td>\n      <td>210-2, Gilju-ro, Bucheon-si, Gyeonggi-do</td>\n      <td>길주로</td>\n      <td>중동</td>\n      <td>14547</td>\n      <td>(중동)</td>\n      <td>2</td>\n      <td>부천시</td>\n      <td>경기도 부천시 중동 1156 부천시청 어린이집</td>\n      <td>...</td>\n      <td>1156</td>\n      <td>경기도 부천시 길주로 210-2 (중동)</td>\n      <td>0</td>\n      <td>210</td>\n      <td>0</td>\n      <td>NaN</td>\n      <td>411903000065</td>\n      <td>0</td>\n      <td>4119010800111560000000001</td>\n      <td>2</td>\n    </tr>\n    <tr>\n      <th>3</th>\n      <td>3</td>\n      <td>NaN</td>\n      <td>123, Dangsan-ro, Yeongdeungpo-gu, Seoul</td>\n      <td>당산로</td>\n      <td>당산동3가</td>\n      <td>7260</td>\n      <td>(당산동3가)</td>\n      <td>3</td>\n      <td>영등포구</td>\n      <td>서울특별시 영등포구 당산동3가 385-1 영등포구청</td>\n      <td>...</td>\n      <td>385</td>\n      <td>서울특별시 영등포구 당산로 123 (당산동3가)</td>\n      <td>1</td>\n      <td>123</td>\n      <td>0</td>\n      <td>NaN</td>\n      <td>115603118004</td>\n      <td>0</td>\n      <td>1156011300103850001029173</td>\n      <td>0</td>\n    </tr>\n    <tr>\n      <th>4</th>\n      <td>4</td>\n      <td>민방위교육장,민원봉사실,본관동, 의회동,부대시설,신별관동,정보관동,주차요금정산서,팔각정</td>\n      <td>1, Saujung-ro, Gimpo-si, Gyeonggi-do</td>\n      <td>사우중로</td>\n      <td>사우동</td>\n      <td>10109</td>\n      <td>(사우동)</td>\n      <td>2</td>\n      <td>김포시</td>\n      <td>경기도 김포시 사우동 263-1 김포시청</td>\n      <td>...</td>\n      <td>263</td>\n      <td>경기도 김포시 사우중로 1 (사우동)</td>\n      <td>1</td>\n      <td>1</td>\n      <td>0</td>\n      <td>NaN</td>\n      <td>415703209060</td>\n      <td>0</td>\n      <td>4157010600102630001022084</td>\n      <td>0</td>\n    </tr>\n  </tbody>\n</table>\n<p>5 rows × 25 columns</p>\n</div>"
     },
     "metadata": {},
     "execution_count": 6
    }
   ],
   "source": [
    "df = pd.read_csv('address.csv')\n",
    "df"
   ]
  },
  {
   "cell_type": "code",
   "execution_count": 7,
   "metadata": {},
   "outputs": [
    {
     "output_type": "stream",
     "name": "stdout",
     "text": [
      "{'x': 126.849532173376, 'y': 37.5509655144007}\n"
     ]
    }
   ],
   "source": [
    "def getCoords(address):\n",
    "    api = getAPI(query=address)\n",
    "    coords = {}\n",
    "    coords.update({ 'x': float(api['documents'][0]['x']) })\n",
    "    coords.update({ 'y': float(api['documents'][0]['y']) })\n",
    "    return coords\n",
    "\n",
    "print(getCoords('서울특별시 강서구 화곡로 302 (화곡동)'))"
   ]
  },
  {
   "cell_type": "code",
   "execution_count": 8,
   "metadata": {},
   "outputs": [
    {
     "output_type": "execute_result",
     "data": {
      "text/plain": [
       "   Unnamed: 0 detBdNmList                            engAddr   rn emdNm  \\\n",
       "0           0         NaN  302, Hwagok-ro, Gangseo-gu, Seoul  화곡로   화곡동   \n",
       "\n",
       "   zipNo roadAddrPart2  emdNo sggNm                  jibunAddr  ... lnbrMnnm  \\\n",
       "0   7658         (화곡동)      2   강서구  서울특별시 강서구 화곡동 980-16 강서구청  ...      980   \n",
       "\n",
       "                  roadAddr lnbrSlno  buldMnnm  bdKdcd  liNm       rnMgtSn  \\\n",
       "0  서울특별시 강서구 화곡로 302 (화곡동)       16       302       0   NaN  115003005069   \n",
       "\n",
       "   mtYn                    bdMgtSn  buldSlno  \n",
       "0     0  1150010300109800016015086         0  \n",
       "\n",
       "[1 rows x 25 columns]"
      ],
      "text/html": "<div>\n<style scoped>\n    .dataframe tbody tr th:only-of-type {\n        vertical-align: middle;\n    }\n\n    .dataframe tbody tr th {\n        vertical-align: top;\n    }\n\n    .dataframe thead th {\n        text-align: right;\n    }\n</style>\n<table border=\"1\" class=\"dataframe\">\n  <thead>\n    <tr style=\"text-align: right;\">\n      <th></th>\n      <th>Unnamed: 0</th>\n      <th>detBdNmList</th>\n      <th>engAddr</th>\n      <th>rn</th>\n      <th>emdNm</th>\n      <th>zipNo</th>\n      <th>roadAddrPart2</th>\n      <th>emdNo</th>\n      <th>sggNm</th>\n      <th>jibunAddr</th>\n      <th>...</th>\n      <th>lnbrMnnm</th>\n      <th>roadAddr</th>\n      <th>lnbrSlno</th>\n      <th>buldMnnm</th>\n      <th>bdKdcd</th>\n      <th>liNm</th>\n      <th>rnMgtSn</th>\n      <th>mtYn</th>\n      <th>bdMgtSn</th>\n      <th>buldSlno</th>\n    </tr>\n  </thead>\n  <tbody>\n    <tr>\n      <th>0</th>\n      <td>0</td>\n      <td>NaN</td>\n      <td>302, Hwagok-ro, Gangseo-gu, Seoul</td>\n      <td>화곡로</td>\n      <td>화곡동</td>\n      <td>7658</td>\n      <td>(화곡동)</td>\n      <td>2</td>\n      <td>강서구</td>\n      <td>서울특별시 강서구 화곡동 980-16 강서구청</td>\n      <td>...</td>\n      <td>980</td>\n      <td>서울특별시 강서구 화곡로 302 (화곡동)</td>\n      <td>16</td>\n      <td>302</td>\n      <td>0</td>\n      <td>NaN</td>\n      <td>115003005069</td>\n      <td>0</td>\n      <td>1150010300109800016015086</td>\n      <td>0</td>\n    </tr>\n  </tbody>\n</table>\n<p>1 rows × 25 columns</p>\n</div>"
     },
     "metadata": {},
     "execution_count": 8
    }
   ],
   "source": [
    "df[:1]"
   ]
  },
  {
   "cell_type": "code",
   "execution_count": 9,
   "metadata": {},
   "outputs": [
    {
     "output_type": "execute_result",
     "data": {
      "text/plain": [
       "   Unnamed: 0                                       detBdNmList  \\\n",
       "0           0                                               NaN   \n",
       "1           1                                               NaN   \n",
       "2           2                                               NaN   \n",
       "3           3                                               NaN   \n",
       "4           4  민방위교육장,민원봉사실,본관동, 의회동,부대시설,신별관동,정보관동,주차요금정산서,팔각정   \n",
       "\n",
       "                                    engAddr    rn  emdNm  zipNo roadAddrPart2  \\\n",
       "0         302, Hwagok-ro, Gangseo-gu, Seoul   화곡로    화곡동   7658         (화곡동)   \n",
       "1  105, Mokdongdong-ro, Yangcheon-gu, Seoul  목동동로    신정동   8095         (신정동)   \n",
       "2  210-2, Gilju-ro, Bucheon-si, Gyeonggi-do   길주로     중동  14547          (중동)   \n",
       "3   123, Dangsan-ro, Yeongdeungpo-gu, Seoul   당산로  당산동3가   7260       (당산동3가)   \n",
       "4      1, Saujung-ro, Gimpo-si, Gyeonggi-do  사우중로    사우동  10109         (사우동)   \n",
       "\n",
       "   emdNo sggNm                     jibunAddr  ... lnbrSlno buldMnnm bdKdcd  \\\n",
       "0      2   강서구     서울특별시 강서구 화곡동 980-16 강서구청  ...       16      302      0   \n",
       "1      1   양천구      서울특별시 양천구 신정동 321-4 양천구청  ...        4      105      0   \n",
       "2      2   부천시     경기도 부천시 중동 1156 부천시청 어린이집  ...        0      210      0   \n",
       "3      3  영등포구  서울특별시 영등포구 당산동3가 385-1 영등포구청  ...        1      123      0   \n",
       "4      2   김포시        경기도 김포시 사우동 263-1 김포시청  ...        1        1      0   \n",
       "\n",
       "   liNm       rnMgtSn  mtYn                    bdMgtSn  buldSlno        lat  \\\n",
       "0   NaN  115003005069     0  1150010300109800016015086         0  37.550966   \n",
       "1   NaN  114703114001     0  1147010100103210004000689         0  37.517075   \n",
       "2   NaN  411903000065     0  4119010800111560000000001         2  37.502277   \n",
       "3   NaN  115603118004     0  1156011300103850001029173         0  37.525963   \n",
       "4   NaN  415703209060     0  4157010600102630001022084         0  37.615190   \n",
       "\n",
       "          lon  \n",
       "0  126.849532  \n",
       "1  126.866543  \n",
       "2  126.765004  \n",
       "3  126.896367  \n",
       "4  126.715717  \n",
       "\n",
       "[5 rows x 27 columns]"
      ],
      "text/html": "<div>\n<style scoped>\n    .dataframe tbody tr th:only-of-type {\n        vertical-align: middle;\n    }\n\n    .dataframe tbody tr th {\n        vertical-align: top;\n    }\n\n    .dataframe thead th {\n        text-align: right;\n    }\n</style>\n<table border=\"1\" class=\"dataframe\">\n  <thead>\n    <tr style=\"text-align: right;\">\n      <th></th>\n      <th>Unnamed: 0</th>\n      <th>detBdNmList</th>\n      <th>engAddr</th>\n      <th>rn</th>\n      <th>emdNm</th>\n      <th>zipNo</th>\n      <th>roadAddrPart2</th>\n      <th>emdNo</th>\n      <th>sggNm</th>\n      <th>jibunAddr</th>\n      <th>...</th>\n      <th>lnbrSlno</th>\n      <th>buldMnnm</th>\n      <th>bdKdcd</th>\n      <th>liNm</th>\n      <th>rnMgtSn</th>\n      <th>mtYn</th>\n      <th>bdMgtSn</th>\n      <th>buldSlno</th>\n      <th>lat</th>\n      <th>lon</th>\n    </tr>\n  </thead>\n  <tbody>\n    <tr>\n      <th>0</th>\n      <td>0</td>\n      <td>NaN</td>\n      <td>302, Hwagok-ro, Gangseo-gu, Seoul</td>\n      <td>화곡로</td>\n      <td>화곡동</td>\n      <td>7658</td>\n      <td>(화곡동)</td>\n      <td>2</td>\n      <td>강서구</td>\n      <td>서울특별시 강서구 화곡동 980-16 강서구청</td>\n      <td>...</td>\n      <td>16</td>\n      <td>302</td>\n      <td>0</td>\n      <td>NaN</td>\n      <td>115003005069</td>\n      <td>0</td>\n      <td>1150010300109800016015086</td>\n      <td>0</td>\n      <td>37.550966</td>\n      <td>126.849532</td>\n    </tr>\n    <tr>\n      <th>1</th>\n      <td>1</td>\n      <td>NaN</td>\n      <td>105, Mokdongdong-ro, Yangcheon-gu, Seoul</td>\n      <td>목동동로</td>\n      <td>신정동</td>\n      <td>8095</td>\n      <td>(신정동)</td>\n      <td>1</td>\n      <td>양천구</td>\n      <td>서울특별시 양천구 신정동 321-4 양천구청</td>\n      <td>...</td>\n      <td>4</td>\n      <td>105</td>\n      <td>0</td>\n      <td>NaN</td>\n      <td>114703114001</td>\n      <td>0</td>\n      <td>1147010100103210004000689</td>\n      <td>0</td>\n      <td>37.517075</td>\n      <td>126.866543</td>\n    </tr>\n    <tr>\n      <th>2</th>\n      <td>2</td>\n      <td>NaN</td>\n      <td>210-2, Gilju-ro, Bucheon-si, Gyeonggi-do</td>\n      <td>길주로</td>\n      <td>중동</td>\n      <td>14547</td>\n      <td>(중동)</td>\n      <td>2</td>\n      <td>부천시</td>\n      <td>경기도 부천시 중동 1156 부천시청 어린이집</td>\n      <td>...</td>\n      <td>0</td>\n      <td>210</td>\n      <td>0</td>\n      <td>NaN</td>\n      <td>411903000065</td>\n      <td>0</td>\n      <td>4119010800111560000000001</td>\n      <td>2</td>\n      <td>37.502277</td>\n      <td>126.765004</td>\n    </tr>\n    <tr>\n      <th>3</th>\n      <td>3</td>\n      <td>NaN</td>\n      <td>123, Dangsan-ro, Yeongdeungpo-gu, Seoul</td>\n      <td>당산로</td>\n      <td>당산동3가</td>\n      <td>7260</td>\n      <td>(당산동3가)</td>\n      <td>3</td>\n      <td>영등포구</td>\n      <td>서울특별시 영등포구 당산동3가 385-1 영등포구청</td>\n      <td>...</td>\n      <td>1</td>\n      <td>123</td>\n      <td>0</td>\n      <td>NaN</td>\n      <td>115603118004</td>\n      <td>0</td>\n      <td>1156011300103850001029173</td>\n      <td>0</td>\n      <td>37.525963</td>\n      <td>126.896367</td>\n    </tr>\n    <tr>\n      <th>4</th>\n      <td>4</td>\n      <td>민방위교육장,민원봉사실,본관동, 의회동,부대시설,신별관동,정보관동,주차요금정산서,팔각정</td>\n      <td>1, Saujung-ro, Gimpo-si, Gyeonggi-do</td>\n      <td>사우중로</td>\n      <td>사우동</td>\n      <td>10109</td>\n      <td>(사우동)</td>\n      <td>2</td>\n      <td>김포시</td>\n      <td>경기도 김포시 사우동 263-1 김포시청</td>\n      <td>...</td>\n      <td>1</td>\n      <td>1</td>\n      <td>0</td>\n      <td>NaN</td>\n      <td>415703209060</td>\n      <td>0</td>\n      <td>4157010600102630001022084</td>\n      <td>0</td>\n      <td>37.615190</td>\n      <td>126.715717</td>\n    </tr>\n  </tbody>\n</table>\n<p>5 rows × 27 columns</p>\n</div>"
     },
     "metadata": {},
     "execution_count": 9
    }
   ],
   "source": [
    "df['lat'] = np.nan\n",
    "df['lon'] = np.nan\n",
    "\n",
    "for i in df.index:\n",
    "    addr = df['roadAddr'][i]\n",
    "    coords = getCoords(addr)\n",
    "    df['lat'][i] = coords['y']\n",
    "    df['lon'][i] = coords['x']\n",
    "\n",
    "df"
   ]
  },
  {
   "cell_type": "code",
   "execution_count": 11,
   "metadata": {},
   "outputs": [],
   "source": [
    "df.to_csv('address2.csv', sep=',', encoding='utf8', index=False)"
   ]
  }
 ]
}