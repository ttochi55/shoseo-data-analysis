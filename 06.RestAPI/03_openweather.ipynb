{
 "metadata": {
  "language_info": {
   "codemirror_mode": {
    "name": "ipython",
    "version": 3
   },
   "file_extension": ".py",
   "mimetype": "text/x-python",
   "name": "python",
   "nbconvert_exporter": "python",
   "pygments_lexer": "ipython3",
   "version": "3.8.3-final"
  },
  "orig_nbformat": 2,
  "kernelspec": {
   "name": "python3",
   "display_name": "Python 3"
  }
 },
 "nbformat": 4,
 "nbformat_minor": 2,
 "cells": [
  {
   "source": [
    "# Open Weather API\n",
    "\n",
    "## Current Weather By geographic coordinates\n",
    "\n",
    "<https://openweathermap.org/current>"
   ],
   "cell_type": "markdown",
   "metadata": {}
  },
  {
   "cell_type": "code",
   "execution_count": 1,
   "metadata": {},
   "outputs": [],
   "source": [
    "import pandas as pd\n",
    "import numpy as np\n",
    "\n",
    "import requests\n",
    "from urllib.parse import urlparse"
   ]
  },
  {
   "cell_type": "code",
   "execution_count": 2,
   "metadata": {},
   "outputs": [],
   "source": [
    "key_fd = open('openweatherapikey.txt', mode='r')\n",
    "API_KEY = key_fd.read(100)\n",
    "key_fd.close()"
   ]
  },
  {
   "cell_type": "code",
   "execution_count": 3,
   "metadata": {},
   "outputs": [],
   "source": [
    "lat = 37.550966\n",
    "lon = 126.849532\n",
    "units = 'metric'\n",
    "lang = 'kr'\n",
    "\n",
    "query = f\"http://api.openweathermap.org/data/2.5/weather?lat={lat}&lon={lon}&units={units}&lang={lang}&appid={API_KEY}\"\n",
    "\n",
    "result = requests.get(urlparse(query).geturl()).json()"
   ]
  },
  {
   "cell_type": "code",
   "execution_count": 4,
   "metadata": {},
   "outputs": [
    {
     "output_type": "execute_result",
     "data": {
      "text/plain": [
       "('Clouds', '튼구름')"
      ]
     },
     "metadata": {},
     "execution_count": 4
    }
   ],
   "source": [
    "main = result['weather'][0]['main']\n",
    "desc = result['weather'][0]['description']\n",
    "main, desc"
   ]
  },
  {
   "cell_type": "code",
   "execution_count": 5,
   "metadata": {},
   "outputs": [
    {
     "output_type": "execute_result",
     "data": {
      "text/plain": [
       "(3.72, 3, 4)"
      ]
     },
     "metadata": {},
     "execution_count": 5
    }
   ],
   "source": [
    "temp = result['main']['temp']\n",
    "temp_min = result['main']['temp_min']\n",
    "temp_max = result['main']['temp_max']\n",
    "temp, temp_min, temp_max"
   ]
  },
  {
   "cell_type": "code",
   "execution_count": 6,
   "metadata": {},
   "outputs": [
    {
     "output_type": "execute_result",
     "data": {
      "text/plain": [
       "3.7"
      ]
     },
     "metadata": {},
     "execution_count": 6
    }
   ],
   "source": [
    "temp = round(float(temp)+0.01, 1)\n",
    "temp"
   ]
  },
  {
   "source": [
    "### address2.csv 파일 읽어서 날씨 정보 입력하기"
   ],
   "cell_type": "markdown",
   "metadata": {}
  },
  {
   "cell_type": "code",
   "execution_count": 7,
   "metadata": {},
   "outputs": [
    {
     "output_type": "execute_result",
     "data": {
      "text/plain": [
       "   Unnamed: 0                                       detBdNmList  \\\n",
       "0           0                                               NaN   \n",
       "1           1                                               NaN   \n",
       "2           2                                               NaN   \n",
       "3           3                                               NaN   \n",
       "4           4  민방위교육장,민원봉사실,본관동, 의회동,부대시설,신별관동,정보관동,주차요금정산서,팔각정   \n",
       "\n",
       "                                    engAddr    rn  emdNm  zipNo roadAddrPart2  \\\n",
       "0         302, Hwagok-ro, Gangseo-gu, Seoul   화곡로    화곡동   7658         (화곡동)   \n",
       "1  105, Mokdongdong-ro, Yangcheon-gu, Seoul  목동동로    신정동   8095         (신정동)   \n",
       "2  210-2, Gilju-ro, Bucheon-si, Gyeonggi-do   길주로     중동  14547          (중동)   \n",
       "3   123, Dangsan-ro, Yeongdeungpo-gu, Seoul   당산로  당산동3가   7260       (당산동3가)   \n",
       "4      1, Saujung-ro, Gimpo-si, Gyeonggi-do  사우중로    사우동  10109         (사우동)   \n",
       "\n",
       "   emdNo sggNm                     jibunAddr  ... lnbrSlno buldMnnm bdKdcd  \\\n",
       "0      2   강서구     서울특별시 강서구 화곡동 980-16 강서구청  ...       16      302      0   \n",
       "1      1   양천구      서울특별시 양천구 신정동 321-4 양천구청  ...        4      105      0   \n",
       "2      2   부천시     경기도 부천시 중동 1156 부천시청 어린이집  ...        0      210      0   \n",
       "3      3  영등포구  서울특별시 영등포구 당산동3가 385-1 영등포구청  ...        1      123      0   \n",
       "4      2   김포시        경기도 김포시 사우동 263-1 김포시청  ...        1        1      0   \n",
       "\n",
       "   liNm       rnMgtSn  mtYn                    bdMgtSn  buldSlno        lat  \\\n",
       "0   NaN  115003005069     0  1150010300109800016015086         0  37.550966   \n",
       "1   NaN  114703114001     0  1147010100103210004000689         0  37.517075   \n",
       "2   NaN  411903000065     0  4119010800111560000000001         2  37.502277   \n",
       "3   NaN  115603118004     0  1156011300103850001029173         0  37.525963   \n",
       "4   NaN  415703209060     0  4157010600102630001022084         0  37.615190   \n",
       "\n",
       "          lon  \n",
       "0  126.849532  \n",
       "1  126.866543  \n",
       "2  126.765004  \n",
       "3  126.896367  \n",
       "4  126.715717  \n",
       "\n",
       "[5 rows x 27 columns]"
      ],
      "text/html": "<div>\n<style scoped>\n    .dataframe tbody tr th:only-of-type {\n        vertical-align: middle;\n    }\n\n    .dataframe tbody tr th {\n        vertical-align: top;\n    }\n\n    .dataframe thead th {\n        text-align: right;\n    }\n</style>\n<table border=\"1\" class=\"dataframe\">\n  <thead>\n    <tr style=\"text-align: right;\">\n      <th></th>\n      <th>Unnamed: 0</th>\n      <th>detBdNmList</th>\n      <th>engAddr</th>\n      <th>rn</th>\n      <th>emdNm</th>\n      <th>zipNo</th>\n      <th>roadAddrPart2</th>\n      <th>emdNo</th>\n      <th>sggNm</th>\n      <th>jibunAddr</th>\n      <th>...</th>\n      <th>lnbrSlno</th>\n      <th>buldMnnm</th>\n      <th>bdKdcd</th>\n      <th>liNm</th>\n      <th>rnMgtSn</th>\n      <th>mtYn</th>\n      <th>bdMgtSn</th>\n      <th>buldSlno</th>\n      <th>lat</th>\n      <th>lon</th>\n    </tr>\n  </thead>\n  <tbody>\n    <tr>\n      <th>0</th>\n      <td>0</td>\n      <td>NaN</td>\n      <td>302, Hwagok-ro, Gangseo-gu, Seoul</td>\n      <td>화곡로</td>\n      <td>화곡동</td>\n      <td>7658</td>\n      <td>(화곡동)</td>\n      <td>2</td>\n      <td>강서구</td>\n      <td>서울특별시 강서구 화곡동 980-16 강서구청</td>\n      <td>...</td>\n      <td>16</td>\n      <td>302</td>\n      <td>0</td>\n      <td>NaN</td>\n      <td>115003005069</td>\n      <td>0</td>\n      <td>1150010300109800016015086</td>\n      <td>0</td>\n      <td>37.550966</td>\n      <td>126.849532</td>\n    </tr>\n    <tr>\n      <th>1</th>\n      <td>1</td>\n      <td>NaN</td>\n      <td>105, Mokdongdong-ro, Yangcheon-gu, Seoul</td>\n      <td>목동동로</td>\n      <td>신정동</td>\n      <td>8095</td>\n      <td>(신정동)</td>\n      <td>1</td>\n      <td>양천구</td>\n      <td>서울특별시 양천구 신정동 321-4 양천구청</td>\n      <td>...</td>\n      <td>4</td>\n      <td>105</td>\n      <td>0</td>\n      <td>NaN</td>\n      <td>114703114001</td>\n      <td>0</td>\n      <td>1147010100103210004000689</td>\n      <td>0</td>\n      <td>37.517075</td>\n      <td>126.866543</td>\n    </tr>\n    <tr>\n      <th>2</th>\n      <td>2</td>\n      <td>NaN</td>\n      <td>210-2, Gilju-ro, Bucheon-si, Gyeonggi-do</td>\n      <td>길주로</td>\n      <td>중동</td>\n      <td>14547</td>\n      <td>(중동)</td>\n      <td>2</td>\n      <td>부천시</td>\n      <td>경기도 부천시 중동 1156 부천시청 어린이집</td>\n      <td>...</td>\n      <td>0</td>\n      <td>210</td>\n      <td>0</td>\n      <td>NaN</td>\n      <td>411903000065</td>\n      <td>0</td>\n      <td>4119010800111560000000001</td>\n      <td>2</td>\n      <td>37.502277</td>\n      <td>126.765004</td>\n    </tr>\n    <tr>\n      <th>3</th>\n      <td>3</td>\n      <td>NaN</td>\n      <td>123, Dangsan-ro, Yeongdeungpo-gu, Seoul</td>\n      <td>당산로</td>\n      <td>당산동3가</td>\n      <td>7260</td>\n      <td>(당산동3가)</td>\n      <td>3</td>\n      <td>영등포구</td>\n      <td>서울특별시 영등포구 당산동3가 385-1 영등포구청</td>\n      <td>...</td>\n      <td>1</td>\n      <td>123</td>\n      <td>0</td>\n      <td>NaN</td>\n      <td>115603118004</td>\n      <td>0</td>\n      <td>1156011300103850001029173</td>\n      <td>0</td>\n      <td>37.525963</td>\n      <td>126.896367</td>\n    </tr>\n    <tr>\n      <th>4</th>\n      <td>4</td>\n      <td>민방위교육장,민원봉사실,본관동, 의회동,부대시설,신별관동,정보관동,주차요금정산서,팔각정</td>\n      <td>1, Saujung-ro, Gimpo-si, Gyeonggi-do</td>\n      <td>사우중로</td>\n      <td>사우동</td>\n      <td>10109</td>\n      <td>(사우동)</td>\n      <td>2</td>\n      <td>김포시</td>\n      <td>경기도 김포시 사우동 263-1 김포시청</td>\n      <td>...</td>\n      <td>1</td>\n      <td>1</td>\n      <td>0</td>\n      <td>NaN</td>\n      <td>415703209060</td>\n      <td>0</td>\n      <td>4157010600102630001022084</td>\n      <td>0</td>\n      <td>37.615190</td>\n      <td>126.715717</td>\n    </tr>\n  </tbody>\n</table>\n<p>5 rows × 27 columns</p>\n</div>"
     },
     "metadata": {},
     "execution_count": 7
    }
   ],
   "source": [
    "df = pd.read_csv('address2.csv')\n",
    "df"
   ]
  },
  {
   "cell_type": "code",
   "execution_count": 8,
   "metadata": {},
   "outputs": [],
   "source": [
    "weather_list = []; desc_list = []; temp_list = []\n",
    "\n",
    "for i in df.index:\n",
    "    url = f\"http://api.openweathermap.org/data/2.5/weather?lat={lat}&lon={lon}&appid={API_KEY}&units=metric&lang=kr\"\n",
    "\n",
    "    result = requests.get(urlparse(url).geturl()).json()\n",
    "    main = result['weather'][0]['main']\n",
    "    desc = result['weather'][0]['description']\n",
    "    temp = result['main']['temp']\n",
    "    temp = round(float(temp)+0.01, 1)\n",
    "    temp_min = result['main']['temp_min']\n",
    "    temp_max = result['main']['temp_max']\n",
    "    weather_list.append(main)\n",
    "    desc_list.append(desc)\n",
    "    temp_list.append(f\"{temp}/{temp_min}/{temp_max}\")"
   ]
  },
  {
   "cell_type": "code",
   "execution_count": 9,
   "metadata": {},
   "outputs": [
    {
     "output_type": "execute_result",
     "data": {
      "text/plain": [
       "   Unnamed: 0                                       detBdNmList  \\\n",
       "0           0                                               NaN   \n",
       "1           1                                               NaN   \n",
       "2           2                                               NaN   \n",
       "3           3                                               NaN   \n",
       "4           4  민방위교육장,민원봉사실,본관동, 의회동,부대시설,신별관동,정보관동,주차요금정산서,팔각정   \n",
       "\n",
       "                                    engAddr    rn  emdNm  zipNo roadAddrPart2  \\\n",
       "0         302, Hwagok-ro, Gangseo-gu, Seoul   화곡로    화곡동   7658         (화곡동)   \n",
       "1  105, Mokdongdong-ro, Yangcheon-gu, Seoul  목동동로    신정동   8095         (신정동)   \n",
       "2  210-2, Gilju-ro, Bucheon-si, Gyeonggi-do   길주로     중동  14547          (중동)   \n",
       "3   123, Dangsan-ro, Yeongdeungpo-gu, Seoul   당산로  당산동3가   7260       (당산동3가)   \n",
       "4      1, Saujung-ro, Gimpo-si, Gyeonggi-do  사우중로    사우동  10109         (사우동)   \n",
       "\n",
       "   emdNo sggNm                     jibunAddr  ... liNm       rnMgtSn mtYn  \\\n",
       "0      2   강서구     서울특별시 강서구 화곡동 980-16 강서구청  ...  NaN  115003005069    0   \n",
       "1      1   양천구      서울특별시 양천구 신정동 321-4 양천구청  ...  NaN  114703114001    0   \n",
       "2      2   부천시     경기도 부천시 중동 1156 부천시청 어린이집  ...  NaN  411903000065    0   \n",
       "3      3  영등포구  서울특별시 영등포구 당산동3가 385-1 영등포구청  ...  NaN  115603118004    0   \n",
       "4      2   김포시        경기도 김포시 사우동 263-1 김포시청  ...  NaN  415703209060    0   \n",
       "\n",
       "                     bdMgtSn  buldSlno        lat         lon  weather  desc  \\\n",
       "0  1150010300109800016015086         0  37.550966  126.849532   Clouds   튼구름   \n",
       "1  1147010100103210004000689         0  37.517075  126.866543   Clouds   튼구름   \n",
       "2  4119010800111560000000001         2  37.502277  126.765004   Clouds   튼구름   \n",
       "3  1156011300103850001029173         0  37.525963  126.896367   Clouds   튼구름   \n",
       "4  4157010600102630001022084         0  37.615190  126.715717   Clouds   튼구름   \n",
       "\n",
       "      temp  \n",
       "0  3.7/3/4  \n",
       "1  3.7/3/4  \n",
       "2  3.7/3/4  \n",
       "3  3.7/3/4  \n",
       "4  3.7/3/4  \n",
       "\n",
       "[5 rows x 30 columns]"
      ],
      "text/html": "<div>\n<style scoped>\n    .dataframe tbody tr th:only-of-type {\n        vertical-align: middle;\n    }\n\n    .dataframe tbody tr th {\n        vertical-align: top;\n    }\n\n    .dataframe thead th {\n        text-align: right;\n    }\n</style>\n<table border=\"1\" class=\"dataframe\">\n  <thead>\n    <tr style=\"text-align: right;\">\n      <th></th>\n      <th>Unnamed: 0</th>\n      <th>detBdNmList</th>\n      <th>engAddr</th>\n      <th>rn</th>\n      <th>emdNm</th>\n      <th>zipNo</th>\n      <th>roadAddrPart2</th>\n      <th>emdNo</th>\n      <th>sggNm</th>\n      <th>jibunAddr</th>\n      <th>...</th>\n      <th>liNm</th>\n      <th>rnMgtSn</th>\n      <th>mtYn</th>\n      <th>bdMgtSn</th>\n      <th>buldSlno</th>\n      <th>lat</th>\n      <th>lon</th>\n      <th>weather</th>\n      <th>desc</th>\n      <th>temp</th>\n    </tr>\n  </thead>\n  <tbody>\n    <tr>\n      <th>0</th>\n      <td>0</td>\n      <td>NaN</td>\n      <td>302, Hwagok-ro, Gangseo-gu, Seoul</td>\n      <td>화곡로</td>\n      <td>화곡동</td>\n      <td>7658</td>\n      <td>(화곡동)</td>\n      <td>2</td>\n      <td>강서구</td>\n      <td>서울특별시 강서구 화곡동 980-16 강서구청</td>\n      <td>...</td>\n      <td>NaN</td>\n      <td>115003005069</td>\n      <td>0</td>\n      <td>1150010300109800016015086</td>\n      <td>0</td>\n      <td>37.550966</td>\n      <td>126.849532</td>\n      <td>Clouds</td>\n      <td>튼구름</td>\n      <td>3.7/3/4</td>\n    </tr>\n    <tr>\n      <th>1</th>\n      <td>1</td>\n      <td>NaN</td>\n      <td>105, Mokdongdong-ro, Yangcheon-gu, Seoul</td>\n      <td>목동동로</td>\n      <td>신정동</td>\n      <td>8095</td>\n      <td>(신정동)</td>\n      <td>1</td>\n      <td>양천구</td>\n      <td>서울특별시 양천구 신정동 321-4 양천구청</td>\n      <td>...</td>\n      <td>NaN</td>\n      <td>114703114001</td>\n      <td>0</td>\n      <td>1147010100103210004000689</td>\n      <td>0</td>\n      <td>37.517075</td>\n      <td>126.866543</td>\n      <td>Clouds</td>\n      <td>튼구름</td>\n      <td>3.7/3/4</td>\n    </tr>\n    <tr>\n      <th>2</th>\n      <td>2</td>\n      <td>NaN</td>\n      <td>210-2, Gilju-ro, Bucheon-si, Gyeonggi-do</td>\n      <td>길주로</td>\n      <td>중동</td>\n      <td>14547</td>\n      <td>(중동)</td>\n      <td>2</td>\n      <td>부천시</td>\n      <td>경기도 부천시 중동 1156 부천시청 어린이집</td>\n      <td>...</td>\n      <td>NaN</td>\n      <td>411903000065</td>\n      <td>0</td>\n      <td>4119010800111560000000001</td>\n      <td>2</td>\n      <td>37.502277</td>\n      <td>126.765004</td>\n      <td>Clouds</td>\n      <td>튼구름</td>\n      <td>3.7/3/4</td>\n    </tr>\n    <tr>\n      <th>3</th>\n      <td>3</td>\n      <td>NaN</td>\n      <td>123, Dangsan-ro, Yeongdeungpo-gu, Seoul</td>\n      <td>당산로</td>\n      <td>당산동3가</td>\n      <td>7260</td>\n      <td>(당산동3가)</td>\n      <td>3</td>\n      <td>영등포구</td>\n      <td>서울특별시 영등포구 당산동3가 385-1 영등포구청</td>\n      <td>...</td>\n      <td>NaN</td>\n      <td>115603118004</td>\n      <td>0</td>\n      <td>1156011300103850001029173</td>\n      <td>0</td>\n      <td>37.525963</td>\n      <td>126.896367</td>\n      <td>Clouds</td>\n      <td>튼구름</td>\n      <td>3.7/3/4</td>\n    </tr>\n    <tr>\n      <th>4</th>\n      <td>4</td>\n      <td>민방위교육장,민원봉사실,본관동, 의회동,부대시설,신별관동,정보관동,주차요금정산서,팔각정</td>\n      <td>1, Saujung-ro, Gimpo-si, Gyeonggi-do</td>\n      <td>사우중로</td>\n      <td>사우동</td>\n      <td>10109</td>\n      <td>(사우동)</td>\n      <td>2</td>\n      <td>김포시</td>\n      <td>경기도 김포시 사우동 263-1 김포시청</td>\n      <td>...</td>\n      <td>NaN</td>\n      <td>415703209060</td>\n      <td>0</td>\n      <td>4157010600102630001022084</td>\n      <td>0</td>\n      <td>37.615190</td>\n      <td>126.715717</td>\n      <td>Clouds</td>\n      <td>튼구름</td>\n      <td>3.7/3/4</td>\n    </tr>\n  </tbody>\n</table>\n<p>5 rows × 30 columns</p>\n</div>"
     },
     "metadata": {},
     "execution_count": 9
    }
   ],
   "source": [
    "df['weather'] = weather_list\n",
    "df['desc'] = desc_list\n",
    "df['temp'] = temp_list\n",
    "df"
   ]
  },
  {
   "cell_type": "code",
   "execution_count": 10,
   "metadata": {},
   "outputs": [],
   "source": [
    "df.to_csv('address3.csv', sep=',', encoding='utf8', index=False)"
   ]
  }
 ]
}