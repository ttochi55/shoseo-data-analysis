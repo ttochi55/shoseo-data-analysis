{
 "metadata": {
  "language_info": {
   "codemirror_mode": {
    "name": "ipython",
    "version": 3
   },
   "file_extension": ".py",
   "mimetype": "text/x-python",
   "name": "python",
   "nbconvert_exporter": "python",
   "pygments_lexer": "ipython3",
   "version": "3.8.3-final"
  },
  "orig_nbformat": 2,
  "kernelspec": {
   "name": "python3",
   "display_name": "Python 3"
  }
 },
 "nbformat": 4,
 "nbformat_minor": 2,
 "cells": [
  {
   "source": [
    "# Password \n",
    "\n",
    "Modern(-ish) password hashing for your software and your servers"
   ],
   "cell_type": "markdown",
   "metadata": {}
  },
  {
   "source": [
    "## Installation\n",
    "```\n",
    "$ pip install bcrypt\n",
    "```"
   ],
   "cell_type": "markdown",
   "metadata": {}
  },
  {
   "source": [
    "## Generate Hash Password"
   ],
   "cell_type": "markdown",
   "metadata": {}
  },
  {
   "cell_type": "code",
   "execution_count": 22,
   "metadata": {},
   "outputs": [
    {
     "output_type": "stream",
     "name": "stdout",
     "text": [
      "b'$2b$12$zsjS38Qb1q1FprNdgMvZWer1KytVuWKKPKYsDmkDOOGALv7ZhfoiC'\n"
     ]
    }
   ],
   "source": [
    "import bcrypt\n",
    "password = '1234'\n",
    "hashpass = bcrypt.hashpw(password.encode('utf-8'), bcrypt.gensalt())\n",
    "print(hashpass)"
   ]
  },
  {
   "source": [
    "## Check Password"
   ],
   "cell_type": "markdown",
   "metadata": {}
  },
  {
   "cell_type": "code",
   "execution_count": 11,
   "metadata": {},
   "outputs": [
    {
     "output_type": "execute_result",
     "data": {
      "text/plain": [
       "True"
      ]
     },
     "metadata": {},
     "execution_count": 11
    }
   ],
   "source": [
    "password = '1234'\n",
    "bcrypt.checkpw(password.encode('utf-8'), hashpass)"
   ]
  },
  {
   "cell_type": "code",
   "execution_count": 12,
   "metadata": {},
   "outputs": [
    {
     "output_type": "execute_result",
     "data": {
      "text/plain": [
       "False"
      ]
     },
     "metadata": {},
     "execution_count": 12
    }
   ],
   "source": [
    "password = 'a1234'\n",
    "bcrypt.checkpw(password.encode('utf-8'), hashpass)"
   ]
  },
  {
   "source": [
    "## Reference\n",
    "<https://github.com/pyca/bcrypt/>   \n",
    "<https://velog.io/@anrun/암호화-bcrypt로-암호화-시작하기>   "
   ],
   "cell_type": "markdown",
   "metadata": {}
  }
 ]
}