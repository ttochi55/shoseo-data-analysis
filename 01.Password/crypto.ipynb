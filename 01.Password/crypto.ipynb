{
 "metadata": {
  "language_info": {
   "codemirror_mode": {
    "name": "ipython",
    "version": 3
   },
   "file_extension": ".py",
   "mimetype": "text/x-python",
   "name": "python",
   "nbconvert_exporter": "python",
   "pygments_lexer": "ipython3",
   "version": "3.8.3-final"
  },
  "orig_nbformat": 2,
  "kernelspec": {
   "name": "python3",
   "display_name": "Python 3"
  }
 },
 "nbformat": 4,
 "nbformat_minor": 2,
 "cells": [
  {
   "source": [
    "# PyCryptodome\n",
    "\n",
    "PyCryptodome is a self-contained Python package of low-level cryptographic primitives."
   ],
   "cell_type": "markdown",
   "metadata": {}
  },
  {
   "source": [
    "## Installation\n",
    "\n",
    "```\n",
    "$ pip install pycryptodome\n",
    "```"
   ],
   "cell_type": "markdown",
   "metadata": {}
  },
  {
   "source": [
    "## Encrypt and Decrypt"
   ],
   "cell_type": "markdown",
   "metadata": {}
  },
  {
   "cell_type": "code",
   "execution_count": 23,
   "metadata": {},
   "outputs": [],
   "source": [
    "import base64\n",
    "import hashlib\n",
    "import time\n",
    "\n",
    "from Crypto import Random\n",
    "from Crypto.Cipher import AES\n",
    "\n",
    "SECRET_KEY = 'a1b2c3d4e5f6'\n",
    "\n",
    "class AESCipher:\n",
    "    def __init__(self):\n",
    "        self.BS = 16\n",
    "        self.pad = lambda s: s + (self.BS - len(s) % self.BS) * chr(self.BS - len(s) % self.BS)\n",
    "        self.unpad = lambda s: s[0:-s[-1]]\n",
    "        self.key = hashlib.sha256(SECRET_KEY.encode('utf-8')).digest()\n",
    "\n",
    "    def encrypt(self, raw):\n",
    "        raw = self.pad(raw).encode('utf-8')\n",
    "        iv = Random.new().read(AES.block_size)\n",
    "        cipher = AES.new(self.key, AES.MODE_CBC, iv)\n",
    "        return base64.b64encode(iv + cipher.encrypt(raw))\n",
    "\n",
    "    def decrypt(self, enc):\n",
    "        enc = base64.b64decode(enc)\n",
    "        iv = enc[:16]\n",
    "        cipher = AES.new(self.key, AES.MODE_CBC, iv)\n",
    "        return self.unpad(cipher.decrypt(enc[16:]))\n",
    "\n",
    "    def encrypt_str(self, raw):\n",
    "        return self.encrypt(raw).decode('utf-8')\n",
    "\n",
    "    def decrypt_str(self, enc):\n",
    "        if type(enc) == str:\n",
    "            enc = str.encode(enc)\n",
    "        return self.decrypt(enc).decode('utf-8')"
   ]
  },
  {
   "cell_type": "code",
   "execution_count": 24,
   "metadata": {},
   "outputs": [
    {
     "output_type": "stream",
     "name": "stdout",
     "text": [
      "p7/uNwQ+iAz+ZfL/9mzHxsdvn8LHdM7VOvW+OikHaNs=\n"
     ]
    }
   ],
   "source": [
    "# 데이터 암호화\n",
    "data = 'abc'\n",
    "encrypt_data = AESCipher().encrypt_str(data)\n",
    "print(encrypt_data)"
   ]
  },
  {
   "cell_type": "code",
   "execution_count": 26,
   "metadata": {},
   "outputs": [
    {
     "output_type": "stream",
     "name": "stdout",
     "text": [
      "abc\n"
     ]
    }
   ],
   "source": [
    "# 데이터 복호화\n",
    "decrypt_data = AESCipher().decrypt_str(encrypt_data)\n",
    "print(decrypt_data)"
   ]
  },
  {
   "source": [
    "## Reference\n",
    "<https://www.pycryptodome.org/>\n",
    "<https://inma.tistory.com/145>\n",
    "<https://mkjjo.github.io/python/2019/08/04/crypto.html>"
   ],
   "cell_type": "markdown",
   "metadata": {}
  }
 ]
}