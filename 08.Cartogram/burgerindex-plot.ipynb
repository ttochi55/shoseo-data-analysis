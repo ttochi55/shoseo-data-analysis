{
 "metadata": {
  "language_info": {
   "codemirror_mode": {
    "name": "ipython",
    "version": 3
   },
   "file_extension": ".py",
   "mimetype": "text/x-python",
   "name": "python",
   "nbconvert_exporter": "python",
   "pygments_lexer": "ipython3",
   "version": "3.9.0-final"
  },
  "orig_nbformat": 2,
  "kernelspec": {
   "name": "python3",
   "display_name": "Python 3.9.0 64-bit ('geo_env': conda)",
   "metadata": {
    "interpreter": {
     "hash": "221d7f5db4d1fd74338fccd0a333a55ab148ade3199ed2c4f3b97509f6d5e292"
    }
   }
  }
 },
 "nbformat": 4,
 "nbformat_minor": 2,
 "cells": [
  {
   "source": [
    "# 버거지수\n",
    "\n",
    "\"한 도시의 발전 수준은 (버거킹의 개수+맥도날드의 개수+KFC의 개수)/롯데리아의 개수를 계산하여 높게 나올수록 더 발전된 도시라고 할 수 있다\""
   ],
   "cell_type": "markdown",
   "metadata": {}
  },
  {
   "cell_type": "code",
   "execution_count": 1,
   "metadata": {},
   "outputs": [],
   "source": [
    "import sys\n",
    "import numpy as np\n",
    "import pandas as pd\n",
    "import time\n",
    "import json\n",
    "import re\n",
    "\n",
    "# A Fast, Extensible Progress Bar for Python and CLI\n",
    "from tqdm import tqdm\n",
    "\n",
    "# Statistical data visualization using matplotlib.\n",
    "import seaborn as sns\n",
    "\n",
    "# Python Data. Leaflet.js Maps.\n",
    "import folium\n",
    "\n",
    "# matplotlib: plotting with Python.\n",
    "import matplotlib as mpl\n",
    "import matplotlib.pyplot as plt\n",
    "import matplotlib.font_manager\n",
    "\n",
    "# Set the matplotlib color cycle using a seaborn palette.\n",
    "sns.set_palette('pastel')\n",
    "\n",
    "# plot outputs appear and be stored within the notebook.\n",
    "%matplotlib inline\n",
    "\n",
    "# A module for finding, managing, and using fonts across platforms.\n",
    "mpl.font_manager._rebuild()\n",
    "sorted([f.name for f in mpl.font_manager.fontManager.ttflist if f.name.startswith('Malgun')])\n",
    "\n",
    "# 폰트 설정\n",
    "mpl.rc('font', family='Malgun Gothic')\n",
    "\n",
    "# 유니코드에서  음수 부호설정\n",
    "mpl.rc('axes', unicode_minus=False)\n",
    "\n",
    "# An importlib package installable from any python version\n",
    "import importlib\n",
    "import modules.fs as fs"
   ]
  },
  {
   "source": [
    "## 통계청: 행정구역(시군구)별, 성별 인구수"
   ],
   "cell_type": "markdown",
   "metadata": {}
  },
  {
   "cell_type": "code",
   "execution_count": 2,
   "metadata": {},
   "outputs": [
    {
     "output_type": "execute_result",
     "data": {
      "text/plain": [
       "     시도명  시도코드 시군구명  시군구코드     인구수    남자수    여자수          시군구_x         시군구_y  \\\n",
       "0  서울특별시    11  종로구  11110  151290  73746  77544  954859.306142  1.953755e+06   \n",
       "\n",
       "   SIG_CD          SIG_X         SIG_Y  \n",
       "0   11110  954859.306142  1.953755e+06  "
      ],
      "text/html": "<div>\n<style scoped>\n    .dataframe tbody tr th:only-of-type {\n        vertical-align: middle;\n    }\n\n    .dataframe tbody tr th {\n        vertical-align: top;\n    }\n\n    .dataframe thead th {\n        text-align: right;\n    }\n</style>\n<table border=\"1\" class=\"dataframe\">\n  <thead>\n    <tr style=\"text-align: right;\">\n      <th></th>\n      <th>시도명</th>\n      <th>시도코드</th>\n      <th>시군구명</th>\n      <th>시군구코드</th>\n      <th>인구수</th>\n      <th>남자수</th>\n      <th>여자수</th>\n      <th>시군구_x</th>\n      <th>시군구_y</th>\n      <th>SIG_CD</th>\n      <th>SIG_X</th>\n      <th>SIG_Y</th>\n    </tr>\n  </thead>\n  <tbody>\n    <tr>\n      <th>0</th>\n      <td>서울특별시</td>\n      <td>11</td>\n      <td>종로구</td>\n      <td>11110</td>\n      <td>151290</td>\n      <td>73746</td>\n      <td>77544</td>\n      <td>954859.306142</td>\n      <td>1.953755e+06</td>\n      <td>11110</td>\n      <td>954859.306142</td>\n      <td>1.953755e+06</td>\n    </tr>\n  </tbody>\n</table>\n</div>"
     },
     "metadata": {},
     "execution_count": 2
    }
   ],
   "source": [
    "population = fs.read_csv('./data/population_and_navi_202010.csv')\n",
    "\n",
    "population['SIG_CD'] = population['시군구코드']\n",
    "population['SIG_X'] = population['시군구_x']\n",
    "population['SIG_Y'] = population['시군구_y']\n",
    "\n",
    "population.head(1)"
   ]
  },
  {
   "source": [
    "## 공공데이터포털: 상가(상권)정보"
   ],
   "cell_type": "markdown",
   "metadata": {}
  },
  {
   "source": [
    "### 패스트푸드 (맥도날드 & KFC & 버거킹 & 롯데리아)"
   ],
   "cell_type": "markdown",
   "metadata": {}
  },
  {
   "cell_type": "code",
   "execution_count": 3,
   "metadata": {},
   "outputs": [
    {
     "output_type": "execute_result",
     "data": {
      "text/plain": [
       "     시도명  시도코드 시군구명  시군구코드     인구수    남자수    여자수          시군구_x         시군구_y  \\\n",
       "0  서울특별시    11  종로구  11110  151290  73746  77544  954859.306142  1.953755e+06   \n",
       "\n",
       "   SIG_CD          SIG_X         SIG_Y 상호명 지점명 도로명주소   경도   위도 프랜차이즈  시군구점포수  \n",
       "0   11110  954859.306142  1.953755e+06   0   0     0  0.0  0.0     0     0.0  "
      ],
      "text/html": "<div>\n<style scoped>\n    .dataframe tbody tr th:only-of-type {\n        vertical-align: middle;\n    }\n\n    .dataframe tbody tr th {\n        vertical-align: top;\n    }\n\n    .dataframe thead th {\n        text-align: right;\n    }\n</style>\n<table border=\"1\" class=\"dataframe\">\n  <thead>\n    <tr style=\"text-align: right;\">\n      <th></th>\n      <th>시도명</th>\n      <th>시도코드</th>\n      <th>시군구명</th>\n      <th>시군구코드</th>\n      <th>인구수</th>\n      <th>남자수</th>\n      <th>여자수</th>\n      <th>시군구_x</th>\n      <th>시군구_y</th>\n      <th>SIG_CD</th>\n      <th>SIG_X</th>\n      <th>SIG_Y</th>\n      <th>상호명</th>\n      <th>지점명</th>\n      <th>도로명주소</th>\n      <th>경도</th>\n      <th>위도</th>\n      <th>프랜차이즈</th>\n      <th>시군구점포수</th>\n    </tr>\n  </thead>\n  <tbody>\n    <tr>\n      <th>0</th>\n      <td>서울특별시</td>\n      <td>11</td>\n      <td>종로구</td>\n      <td>11110</td>\n      <td>151290</td>\n      <td>73746</td>\n      <td>77544</td>\n      <td>954859.306142</td>\n      <td>1.953755e+06</td>\n      <td>11110</td>\n      <td>954859.306142</td>\n      <td>1.953755e+06</td>\n      <td>0</td>\n      <td>0</td>\n      <td>0</td>\n      <td>0.0</td>\n      <td>0.0</td>\n      <td>0</td>\n      <td>0.0</td>\n    </tr>\n  </tbody>\n</table>\n</div>"
     },
     "metadata": {},
     "execution_count": 3
    }
   ],
   "source": [
    "store = fs.read_csv('./data/macdonald_in_korea_2020.csv', sep='|')\n",
    "store = store[['시군구코드', '상호명', '지점명', '도로명주소', '경도', '위도']]\n",
    "store['프랜차이즈'] = '맥도날드'\n",
    "store_count = store.groupby('시군구코드')['상호명'].count()\n",
    "store_count.fillna(0, inplace=True)\n",
    "\n",
    "macdonald = pd.merge(store, store_count, on='시군구코드')\n",
    "macdonald.rename(columns={'상호명_x':'상호명', '상호명_y':'시군구점포수'}, inplace=True)\n",
    "macdonald = pd.merge(population, macdonald, on='시군구코드', how='left')\n",
    "macdonald.fillna(0, inplace=True)\n",
    "macdonald.head(1)"
   ]
  },
  {
   "cell_type": "code",
   "execution_count": 4,
   "metadata": {},
   "outputs": [
    {
     "output_type": "execute_result",
     "data": {
      "text/plain": [
       "     시도명  시도코드 시군구명  시군구코드     인구수    남자수    여자수          시군구_x         시군구_y  \\\n",
       "0  서울특별시    11  종로구  11110  151290  73746  77544  954859.306142  1.953755e+06   \n",
       "\n",
       "   SIG_CD          SIG_X         SIG_Y 상호명 지점명 도로명주소   경도   위도 프랜차이즈  시군구점포수  \n",
       "0   11110  954859.306142  1.953755e+06   0   0     0  0.0  0.0     0     0.0  "
      ],
      "text/html": "<div>\n<style scoped>\n    .dataframe tbody tr th:only-of-type {\n        vertical-align: middle;\n    }\n\n    .dataframe tbody tr th {\n        vertical-align: top;\n    }\n\n    .dataframe thead th {\n        text-align: right;\n    }\n</style>\n<table border=\"1\" class=\"dataframe\">\n  <thead>\n    <tr style=\"text-align: right;\">\n      <th></th>\n      <th>시도명</th>\n      <th>시도코드</th>\n      <th>시군구명</th>\n      <th>시군구코드</th>\n      <th>인구수</th>\n      <th>남자수</th>\n      <th>여자수</th>\n      <th>시군구_x</th>\n      <th>시군구_y</th>\n      <th>SIG_CD</th>\n      <th>SIG_X</th>\n      <th>SIG_Y</th>\n      <th>상호명</th>\n      <th>지점명</th>\n      <th>도로명주소</th>\n      <th>경도</th>\n      <th>위도</th>\n      <th>프랜차이즈</th>\n      <th>시군구점포수</th>\n    </tr>\n  </thead>\n  <tbody>\n    <tr>\n      <th>0</th>\n      <td>서울특별시</td>\n      <td>11</td>\n      <td>종로구</td>\n      <td>11110</td>\n      <td>151290</td>\n      <td>73746</td>\n      <td>77544</td>\n      <td>954859.306142</td>\n      <td>1.953755e+06</td>\n      <td>11110</td>\n      <td>954859.306142</td>\n      <td>1.953755e+06</td>\n      <td>0</td>\n      <td>0</td>\n      <td>0</td>\n      <td>0.0</td>\n      <td>0.0</td>\n      <td>0</td>\n      <td>0.0</td>\n    </tr>\n  </tbody>\n</table>\n</div>"
     },
     "metadata": {},
     "execution_count": 4
    }
   ],
   "source": [
    "store = fs.read_csv('./data/burgerking_in_korea_2020.csv', sep='|')\n",
    "store = store[['시군구코드', '상호명', '지점명', '도로명주소', '경도', '위도']]\n",
    "store_count = store.groupby('시군구코드')['상호명'].count()\n",
    "store_count.fillna(0, inplace=True)\n",
    "store['프랜차이즈'] = '버거킹'\n",
    "\n",
    "burgerking = pd.merge(store, store_count, on='시군구코드')\n",
    "burgerking.rename(columns={'상호명_x':'상호명', '상호명_y':'시군구점포수'}, inplace=True)\n",
    "burgerking = pd.merge(population, burgerking, on='시군구코드', how='left')\n",
    "burgerking.fillna(0, inplace=True)\n",
    "burgerking.head(1)"
   ]
  },
  {
   "cell_type": "code",
   "execution_count": 10,
   "metadata": {},
   "outputs": [
    {
     "output_type": "execute_result",
     "data": {
      "text/plain": [
       "     시도명  시도코드 시군구명  시군구코드     인구수    남자수    여자수          시군구_x         시군구_y  \\\n",
       "0  서울특별시    11  종로구  11110  151290  73746  77544  954859.306142  1.953755e+06   \n",
       "\n",
       "   SIG_CD          SIG_X         SIG_Y  버거지수 상호명 지점명 도로명주소   경도   위도 프랜차이즈  \\\n",
       "0   11110  954859.306142  1.953755e+06   0.0   0   0     0  0.0  0.0     0   \n",
       "\n",
       "   시군구점포수  \n",
       "0     0.0  "
      ],
      "text/html": "<div>\n<style scoped>\n    .dataframe tbody tr th:only-of-type {\n        vertical-align: middle;\n    }\n\n    .dataframe tbody tr th {\n        vertical-align: top;\n    }\n\n    .dataframe thead th {\n        text-align: right;\n    }\n</style>\n<table border=\"1\" class=\"dataframe\">\n  <thead>\n    <tr style=\"text-align: right;\">\n      <th></th>\n      <th>시도명</th>\n      <th>시도코드</th>\n      <th>시군구명</th>\n      <th>시군구코드</th>\n      <th>인구수</th>\n      <th>남자수</th>\n      <th>여자수</th>\n      <th>시군구_x</th>\n      <th>시군구_y</th>\n      <th>SIG_CD</th>\n      <th>SIG_X</th>\n      <th>SIG_Y</th>\n      <th>버거지수</th>\n      <th>상호명</th>\n      <th>지점명</th>\n      <th>도로명주소</th>\n      <th>경도</th>\n      <th>위도</th>\n      <th>프랜차이즈</th>\n      <th>시군구점포수</th>\n    </tr>\n  </thead>\n  <tbody>\n    <tr>\n      <th>0</th>\n      <td>서울특별시</td>\n      <td>11</td>\n      <td>종로구</td>\n      <td>11110</td>\n      <td>151290</td>\n      <td>73746</td>\n      <td>77544</td>\n      <td>954859.306142</td>\n      <td>1.953755e+06</td>\n      <td>11110</td>\n      <td>954859.306142</td>\n      <td>1.953755e+06</td>\n      <td>0.0</td>\n      <td>0</td>\n      <td>0</td>\n      <td>0</td>\n      <td>0.0</td>\n      <td>0.0</td>\n      <td>0</td>\n      <td>0.0</td>\n    </tr>\n  </tbody>\n</table>\n</div>"
     },
     "metadata": {},
     "execution_count": 10
    }
   ],
   "source": [
    "store = fs.read_csv('./data/kfc_in_korea_2020.csv', sep='|')\n",
    "store = store[['시군구코드', '상호명', '지점명', '도로명주소', '경도', '위도']]\n",
    "store_count = store.groupby('시군구코드')['상호명'].count()\n",
    "store_count.fillna(0, inplace=True)\n",
    "store['프랜차이즈'] = 'kfc'\n",
    "\n",
    "kfc = pd.merge(store, store_count, on='시군구코드')\n",
    "kfc.rename(columns={'상호명_x':'상호명', '상호명_y':'시군구점포수'}, inplace=True)\n",
    "kfc = pd.merge(population, kfc, on='시군구코드', how='left')\n",
    "kfc.fillna(0, inplace=True)\n",
    "kfc.head(1)"
   ]
  },
  {
   "cell_type": "code",
   "execution_count": 6,
   "metadata": {},
   "outputs": [
    {
     "output_type": "execute_result",
     "data": {
      "text/plain": [
       "     시도명  시도코드 시군구명  시군구코드     인구수    남자수    여자수          시군구_x         시군구_y  \\\n",
       "0  서울특별시    11  종로구  11110  151290  73746  77544  954859.306142  1.953755e+06   \n",
       "\n",
       "   SIG_CD          SIG_X         SIG_Y 상호명 지점명 도로명주소   경도   위도 프랜차이즈  시군구점포수  \n",
       "0   11110  954859.306142  1.953755e+06   0   0     0  0.0  0.0     0     0.0  "
      ],
      "text/html": "<div>\n<style scoped>\n    .dataframe tbody tr th:only-of-type {\n        vertical-align: middle;\n    }\n\n    .dataframe tbody tr th {\n        vertical-align: top;\n    }\n\n    .dataframe thead th {\n        text-align: right;\n    }\n</style>\n<table border=\"1\" class=\"dataframe\">\n  <thead>\n    <tr style=\"text-align: right;\">\n      <th></th>\n      <th>시도명</th>\n      <th>시도코드</th>\n      <th>시군구명</th>\n      <th>시군구코드</th>\n      <th>인구수</th>\n      <th>남자수</th>\n      <th>여자수</th>\n      <th>시군구_x</th>\n      <th>시군구_y</th>\n      <th>SIG_CD</th>\n      <th>SIG_X</th>\n      <th>SIG_Y</th>\n      <th>상호명</th>\n      <th>지점명</th>\n      <th>도로명주소</th>\n      <th>경도</th>\n      <th>위도</th>\n      <th>프랜차이즈</th>\n      <th>시군구점포수</th>\n    </tr>\n  </thead>\n  <tbody>\n    <tr>\n      <th>0</th>\n      <td>서울특별시</td>\n      <td>11</td>\n      <td>종로구</td>\n      <td>11110</td>\n      <td>151290</td>\n      <td>73746</td>\n      <td>77544</td>\n      <td>954859.306142</td>\n      <td>1.953755e+06</td>\n      <td>11110</td>\n      <td>954859.306142</td>\n      <td>1.953755e+06</td>\n      <td>0</td>\n      <td>0</td>\n      <td>0</td>\n      <td>0.0</td>\n      <td>0.0</td>\n      <td>0</td>\n      <td>0.0</td>\n    </tr>\n  </tbody>\n</table>\n</div>"
     },
     "metadata": {},
     "execution_count": 6
    }
   ],
   "source": [
    "store = fs.read_csv('./data/lotteria_in_korea_2020.csv', sep='|')\n",
    "store = store[['시군구코드', '상호명', '지점명', '도로명주소', '경도', '위도']]\n",
    "store_count = store.groupby('시군구코드')['상호명'].count()\n",
    "store_count.fillna(0, inplace=True)\n",
    "store['프랜차이즈'] = '롯데리아'\n",
    "\n",
    "lotteria = pd.merge(store, store_count, on='시군구코드')\n",
    "lotteria.rename(columns={'상호명_x':'상호명', '상호명_y':'시군구점포수'}, inplace=True)\n",
    "lotteria = pd.merge(population, lotteria, on='시군구코드', how='left')\n",
    "lotteria.fillna(0, inplace=True)\n",
    "lotteria.head(1)"
   ]
  },
  {
   "source": [
    "## 버거지수 = (버거킹의 개수 + 맥도날드의 개수 + KFC의 개수) / 롯데리아의 개수"
   ],
   "cell_type": "markdown",
   "metadata": {}
  },
  {
   "cell_type": "code",
   "execution_count": null,
   "metadata": {},
   "outputs": [],
   "source": []
  },
  {
   "cell_type": "code",
   "execution_count": 15,
   "metadata": {},
   "outputs": [
    {
     "output_type": "execute_result",
     "data": {
      "text/plain": [
       "         시도명  시군구명     인구수     남자수     여자수      버거지수  SIG_CD         SIG_X  \\\n",
       "0      서울특별시   종로구  151290   73746   77544  0.000000   11110  9.548593e+05   \n",
       "1      서울특별시    중구  126171   61910   64261  0.000000   11140  9.559310e+05   \n",
       "2      서울특별시   용산구  228670  110356  118314  0.000000   11170  9.541220e+05   \n",
       "3      서울특별시   성동구  300889  147273  153616  0.000000   11200  9.595713e+05   \n",
       "4      서울특별시   광진구  351350  170262  181088  0.000000   11215  9.630325e+05   \n",
       "..       ...   ...     ...     ...     ...       ...     ...           ...   \n",
       "245     경상남도   함양군   39637   19097   20540  1.777778   48870  1.021646e+06   \n",
       "246     경상남도   거창군   62179   30345   31834  1.777778   48880  1.037957e+06   \n",
       "247     경상남도   합천군   45204   21655   23549  1.555556   48890  1.060001e+06   \n",
       "248  제주특별자치도   제주시  489405  245533  243872  1.555556   50110  9.064102e+05   \n",
       "249  제주특별자치도  서귀포시  181584   91812   89772  1.777778   50130  9.132493e+05   \n",
       "\n",
       "            SIG_Y  \n",
       "0    1.953755e+06  \n",
       "1    1.951526e+06  \n",
       "2    1.948855e+06  \n",
       "3    1.950601e+06  \n",
       "4    1.949996e+06  \n",
       "..            ...  \n",
       "245  1.728149e+06  \n",
       "246  1.746249e+06  \n",
       "247  1.730364e+06  \n",
       "248  1.498856e+06  \n",
       "249  1.478030e+06  \n",
       "\n",
       "[250 rows x 9 columns]"
      ],
      "text/html": "<div>\n<style scoped>\n    .dataframe tbody tr th:only-of-type {\n        vertical-align: middle;\n    }\n\n    .dataframe tbody tr th {\n        vertical-align: top;\n    }\n\n    .dataframe thead th {\n        text-align: right;\n    }\n</style>\n<table border=\"1\" class=\"dataframe\">\n  <thead>\n    <tr style=\"text-align: right;\">\n      <th></th>\n      <th>시도명</th>\n      <th>시군구명</th>\n      <th>인구수</th>\n      <th>남자수</th>\n      <th>여자수</th>\n      <th>버거지수</th>\n      <th>SIG_CD</th>\n      <th>SIG_X</th>\n      <th>SIG_Y</th>\n    </tr>\n  </thead>\n  <tbody>\n    <tr>\n      <th>0</th>\n      <td>서울특별시</td>\n      <td>종로구</td>\n      <td>151290</td>\n      <td>73746</td>\n      <td>77544</td>\n      <td>0.000000</td>\n      <td>11110</td>\n      <td>9.548593e+05</td>\n      <td>1.953755e+06</td>\n    </tr>\n    <tr>\n      <th>1</th>\n      <td>서울특별시</td>\n      <td>중구</td>\n      <td>126171</td>\n      <td>61910</td>\n      <td>64261</td>\n      <td>0.000000</td>\n      <td>11140</td>\n      <td>9.559310e+05</td>\n      <td>1.951526e+06</td>\n    </tr>\n    <tr>\n      <th>2</th>\n      <td>서울특별시</td>\n      <td>용산구</td>\n      <td>228670</td>\n      <td>110356</td>\n      <td>118314</td>\n      <td>0.000000</td>\n      <td>11170</td>\n      <td>9.541220e+05</td>\n      <td>1.948855e+06</td>\n    </tr>\n    <tr>\n      <th>3</th>\n      <td>서울특별시</td>\n      <td>성동구</td>\n      <td>300889</td>\n      <td>147273</td>\n      <td>153616</td>\n      <td>0.000000</td>\n      <td>11200</td>\n      <td>9.595713e+05</td>\n      <td>1.950601e+06</td>\n    </tr>\n    <tr>\n      <th>4</th>\n      <td>서울특별시</td>\n      <td>광진구</td>\n      <td>351350</td>\n      <td>170262</td>\n      <td>181088</td>\n      <td>0.000000</td>\n      <td>11215</td>\n      <td>9.630325e+05</td>\n      <td>1.949996e+06</td>\n    </tr>\n    <tr>\n      <th>...</th>\n      <td>...</td>\n      <td>...</td>\n      <td>...</td>\n      <td>...</td>\n      <td>...</td>\n      <td>...</td>\n      <td>...</td>\n      <td>...</td>\n      <td>...</td>\n    </tr>\n    <tr>\n      <th>245</th>\n      <td>경상남도</td>\n      <td>함양군</td>\n      <td>39637</td>\n      <td>19097</td>\n      <td>20540</td>\n      <td>1.777778</td>\n      <td>48870</td>\n      <td>1.021646e+06</td>\n      <td>1.728149e+06</td>\n    </tr>\n    <tr>\n      <th>246</th>\n      <td>경상남도</td>\n      <td>거창군</td>\n      <td>62179</td>\n      <td>30345</td>\n      <td>31834</td>\n      <td>1.777778</td>\n      <td>48880</td>\n      <td>1.037957e+06</td>\n      <td>1.746249e+06</td>\n    </tr>\n    <tr>\n      <th>247</th>\n      <td>경상남도</td>\n      <td>합천군</td>\n      <td>45204</td>\n      <td>21655</td>\n      <td>23549</td>\n      <td>1.555556</td>\n      <td>48890</td>\n      <td>1.060001e+06</td>\n      <td>1.730364e+06</td>\n    </tr>\n    <tr>\n      <th>248</th>\n      <td>제주특별자치도</td>\n      <td>제주시</td>\n      <td>489405</td>\n      <td>245533</td>\n      <td>243872</td>\n      <td>1.555556</td>\n      <td>50110</td>\n      <td>9.064102e+05</td>\n      <td>1.498856e+06</td>\n    </tr>\n    <tr>\n      <th>249</th>\n      <td>제주특별자치도</td>\n      <td>서귀포시</td>\n      <td>181584</td>\n      <td>91812</td>\n      <td>89772</td>\n      <td>1.777778</td>\n      <td>50130</td>\n      <td>9.132493e+05</td>\n      <td>1.478030e+06</td>\n    </tr>\n  </tbody>\n</table>\n<p>250 rows × 9 columns</p>\n</div>"
     },
     "metadata": {},
     "execution_count": 15
    }
   ],
   "source": [
    "df = population\n",
    "df['버거지수'] = (macdonald['시군구점포수'] + burgerking['시군구점포수'] + kfc['시군구점포수']) / lotteria['시군구점포수']\n",
    "df.fillna(0, inplace=True)\n",
    "df = df[['시도명', '시군구명', '인구수', '남자수', '여자수', '버거지수', 'SIG_CD', 'SIG_X', 'SIG_Y']]\n",
    "df"
   ]
  },
  {
   "source": [
    "## 지도"
   ],
   "cell_type": "markdown",
   "metadata": {}
  },
  {
   "cell_type": "code",
   "execution_count": 6,
   "metadata": {},
   "outputs": [
    {
     "output_type": "error",
     "ename": "NameError",
     "evalue": "name 'df' is not defined",
     "traceback": [
      "\u001b[1;31m---------------------------------------------------------------------------\u001b[0m",
      "\u001b[1;31mNameError\u001b[0m                                 Traceback (most recent call last)",
      "\u001b[1;32m<ipython-input-6-33f71fe069a0>\u001b[0m in \u001b[0;36m<module>\u001b[1;34m\u001b[0m\n\u001b[0;32m      2\u001b[0m \u001b[0mimportlib\u001b[0m\u001b[1;33m.\u001b[0m\u001b[0mreload\u001b[0m\u001b[1;33m(\u001b[0m\u001b[0mplot\u001b[0m\u001b[1;33m)\u001b[0m\u001b[1;33m\u001b[0m\u001b[1;33m\u001b[0m\u001b[0m\n\u001b[0;32m      3\u001b[0m \u001b[1;33m\u001b[0m\u001b[0m\n\u001b[1;32m----> 4\u001b[1;33m \u001b[0mplot\u001b[0m\u001b[1;33m.\u001b[0m\u001b[0mchoropleth\u001b[0m\u001b[1;33m(\u001b[0m\u001b[0mdf\u001b[0m\u001b[1;33m,\u001b[0m \u001b[0mcolumn\u001b[0m\u001b[1;33m=\u001b[0m\u001b[1;34m'버거지수'\u001b[0m\u001b[1;33m,\u001b[0m \u001b[0mfigsize\u001b[0m\u001b[1;33m=\u001b[0m\u001b[1;33m(\u001b[0m\u001b[1;36m12\u001b[0m\u001b[1;33m,\u001b[0m \u001b[1;36m12\u001b[0m\u001b[1;33m)\u001b[0m\u001b[1;33m)\u001b[0m\u001b[1;33m\u001b[0m\u001b[1;33m\u001b[0m\u001b[0m\n\u001b[0m\u001b[0;32m      5\u001b[0m \u001b[1;31m# plot.choropleth(df, column='SIG_CD', figsize=(12, 12))\u001b[0m\u001b[1;33m\u001b[0m\u001b[1;33m\u001b[0m\u001b[1;33m\u001b[0m\u001b[0m\n",
      "\u001b[1;31mNameError\u001b[0m: name 'df' is not defined"
     ]
    }
   ],
   "source": [
    "import modules.plot as plot\n",
    "importlib.reload(plot)\n",
    "\n",
    "plot.choropleth(df, column='버거지수', figsize=(12, 12))\n",
    "# plot.choropleth(df, column='SIG_CD', figsize=(12, 12))"
   ]
  }
 ]
}