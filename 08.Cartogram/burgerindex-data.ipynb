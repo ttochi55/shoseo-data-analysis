{
 "metadata": {
  "language_info": {
   "codemirror_mode": {
    "name": "ipython",
    "version": 3
   },
   "file_extension": ".py",
   "mimetype": "text/x-python",
   "name": "python",
   "nbconvert_exporter": "python",
   "pygments_lexer": "ipython3",
   "version": "3.9.0-final"
  },
  "orig_nbformat": 2,
  "kernelspec": {
   "name": "python3",
   "display_name": "Python 3.9.0 64-bit ('geo_env': conda)",
   "metadata": {
    "interpreter": {
     "hash": "221d7f5db4d1fd74338fccd0a333a55ab148ade3199ed2c4f3b97509f6d5e292"
    }
   }
  }
 },
 "nbformat": 4,
 "nbformat_minor": 2,
 "cells": [
  {
   "source": [
    "# 버거지수"
   ],
   "cell_type": "markdown",
   "metadata": {}
  },
  {
   "cell_type": "code",
   "execution_count": 1,
   "metadata": {},
   "outputs": [],
   "source": [
    "import sys\n",
    "import numpy as np\n",
    "import pandas as pd\n",
    "import time\n",
    "import json\n",
    "import re\n",
    "\n",
    "# A Fast, Extensible Progress Bar for Python and CLI\n",
    "from tqdm import tqdm\n",
    "\n",
    "# Statistical data visualization using matplotlib.\n",
    "import seaborn as sns\n",
    "\n",
    "# Python Data. Leaflet.js Maps.\n",
    "import folium\n",
    "\n",
    "# matplotlib: plotting with Python.\n",
    "import matplotlib as mpl\n",
    "import matplotlib.pyplot as plt\n",
    "import matplotlib.font_manager\n",
    "\n",
    "# Set the matplotlib color cycle using a seaborn palette.\n",
    "sns.set_palette('pastel')\n",
    "\n",
    "# plot outputs appear and be stored within the notebook.\n",
    "%matplotlib inline\n",
    "\n",
    "# A module for finding, managing, and using fonts across platforms.\n",
    "mpl.font_manager._rebuild()\n",
    "sorted([f.name for f in mpl.font_manager.fontManager.ttflist if f.name.startswith('Malgun')])\n",
    "\n",
    "# 폰트 설정\n",
    "mpl.rc('font', family='Malgun Gothic')\n",
    "\n",
    "# 유니코드에서  음수 부호설정\n",
    "mpl.rc('axes', unicode_minus=False)\n",
    "\n",
    "# An importlib package installable from any python version\n",
    "import importlib\n",
    "import modules.fs as fs"
   ]
  },
  {
   "source": [
    "## 공공데이터포털: 상가(상권)정보"
   ],
   "cell_type": "markdown",
   "metadata": {}
  },
  {
   "cell_type": "code",
   "execution_count": 2,
   "metadata": {},
   "outputs": [],
   "source": [
    "df1 = fs.read_csv('./data/semas.or.kr/201912/상가업소정보_201912_02.csv', sep='|')\n",
    "df2 = fs.read_csv('./data/semas.or.kr/201912/상가업소정보_201912_02.csv', sep='|')\n",
    "df3 = fs.read_csv('./data/semas.or.kr/201912/상가업소정보_201912_02.csv', sep='|')\n",
    "df4 = fs.read_csv('./data/semas.or.kr/201912/상가업소정보_201912_02.csv', sep='|')"
   ]
  },
  {
   "cell_type": "code",
   "execution_count": 3,
   "metadata": {},
   "outputs": [
    {
     "output_type": "execute_result",
     "data": {
      "text/plain": [
       "     상가업소번호   상호명       지점명 상권업종대분류코드 상권업종대분류명 상권업종중분류코드 상권업종중분류명 상권업종소분류코드  \\\n",
       "0  20700496  맥도날드  대전한남대디티점         Q       음식       Q07    패스트푸드    Q07A04   \n",
       "\n",
       "  상권업종소분류명 표준산업분류코드  ...                     건물관리번호   건물명  \\\n",
       "0    패스트푸드   I56199  ...  3023010900102300015019504  맥도날드   \n",
       "\n",
       "                 도로명주소   구우편번호  신우편번호  동정보 층정보  호정보          경도         위도  \n",
       "0  대전광역시 대덕구 한밭대로 1102  306826  34426        2    1  127.421231  36.358409  \n",
       "\n",
       "[1 rows x 39 columns]"
      ],
      "text/html": "<div>\n<style scoped>\n    .dataframe tbody tr th:only-of-type {\n        vertical-align: middle;\n    }\n\n    .dataframe tbody tr th {\n        vertical-align: top;\n    }\n\n    .dataframe thead th {\n        text-align: right;\n    }\n</style>\n<table border=\"1\" class=\"dataframe\">\n  <thead>\n    <tr style=\"text-align: right;\">\n      <th></th>\n      <th>상가업소번호</th>\n      <th>상호명</th>\n      <th>지점명</th>\n      <th>상권업종대분류코드</th>\n      <th>상권업종대분류명</th>\n      <th>상권업종중분류코드</th>\n      <th>상권업종중분류명</th>\n      <th>상권업종소분류코드</th>\n      <th>상권업종소분류명</th>\n      <th>표준산업분류코드</th>\n      <th>...</th>\n      <th>건물관리번호</th>\n      <th>건물명</th>\n      <th>도로명주소</th>\n      <th>구우편번호</th>\n      <th>신우편번호</th>\n      <th>동정보</th>\n      <th>층정보</th>\n      <th>호정보</th>\n      <th>경도</th>\n      <th>위도</th>\n    </tr>\n  </thead>\n  <tbody>\n    <tr>\n      <th>0</th>\n      <td>20700496</td>\n      <td>맥도날드</td>\n      <td>대전한남대디티점</td>\n      <td>Q</td>\n      <td>음식</td>\n      <td>Q07</td>\n      <td>패스트푸드</td>\n      <td>Q07A04</td>\n      <td>패스트푸드</td>\n      <td>I56199</td>\n      <td>...</td>\n      <td>3023010900102300015019504</td>\n      <td>맥도날드</td>\n      <td>대전광역시 대덕구 한밭대로 1102</td>\n      <td>306826</td>\n      <td>34426</td>\n      <td></td>\n      <td>2</td>\n      <td>1</td>\n      <td>127.421231</td>\n      <td>36.358409</td>\n    </tr>\n  </tbody>\n</table>\n<p>1 rows × 39 columns</p>\n</div>"
     },
     "metadata": {},
     "execution_count": 3
    }
   ],
   "source": [
    "# 맥도날드\n",
    "mcdonald1 = df1.fillna('').query(\"상호명.str.contains('맥도날드')\", engine='python')\n",
    "mcdonald2 = df2.fillna('').query(\"상호명.str.contains('맥도날드')\", engine='python')\n",
    "mcdonald3 = df3.fillna('').query(\"상호명.str.contains('맥도날드')\", engine='python')\n",
    "mcdonald4 = df4.fillna('').query(\"상호명.str.contains('맥도날드')\", engine='python')\n",
    "\n",
    "mcdonald = pd.concat([mcdonald1, mcdonald2, mcdonald3, mcdonald4])\n",
    "mcdonald.index = np.arange(0, len(mcdonald))\n",
    "\n",
    "fs.to_csv(mcdonald, './data/macdonald_in_korea_2020.csv', sep='|')\n",
    "\n",
    "mcdonald.head(1)"
   ]
  },
  {
   "cell_type": "code",
   "execution_count": 4,
   "metadata": {},
   "outputs": [
    {
     "output_type": "execute_result",
     "data": {
      "text/plain": [
       "     상가업소번호          상호명     지점명 상권업종대분류코드 상권업종대분류명 상권업종중분류코드 상권업종중분류명  \\\n",
       "0  22878596  에스알에스코리아버거킹  대구역롯데점         Q       음식       Q07    패스트푸드   \n",
       "\n",
       "  상권업종소분류코드 상권업종소분류명 표준산업분류코드  ...                     건물관리번호       건물명  \\\n",
       "0    Q07A04    패스트푸드   I56199  ...  2723010200103020155000001  롯데백화점대구역   \n",
       "\n",
       "              도로명주소   구우편번호  신우편번호  동정보 층정보  호정보          경도         위도  \n",
       "0  대구광역시 북구 태평로 161  702746  41581        2       128.596131  35.875884  \n",
       "\n",
       "[1 rows x 39 columns]"
      ],
      "text/html": "<div>\n<style scoped>\n    .dataframe tbody tr th:only-of-type {\n        vertical-align: middle;\n    }\n\n    .dataframe tbody tr th {\n        vertical-align: top;\n    }\n\n    .dataframe thead th {\n        text-align: right;\n    }\n</style>\n<table border=\"1\" class=\"dataframe\">\n  <thead>\n    <tr style=\"text-align: right;\">\n      <th></th>\n      <th>상가업소번호</th>\n      <th>상호명</th>\n      <th>지점명</th>\n      <th>상권업종대분류코드</th>\n      <th>상권업종대분류명</th>\n      <th>상권업종중분류코드</th>\n      <th>상권업종중분류명</th>\n      <th>상권업종소분류코드</th>\n      <th>상권업종소분류명</th>\n      <th>표준산업분류코드</th>\n      <th>...</th>\n      <th>건물관리번호</th>\n      <th>건물명</th>\n      <th>도로명주소</th>\n      <th>구우편번호</th>\n      <th>신우편번호</th>\n      <th>동정보</th>\n      <th>층정보</th>\n      <th>호정보</th>\n      <th>경도</th>\n      <th>위도</th>\n    </tr>\n  </thead>\n  <tbody>\n    <tr>\n      <th>0</th>\n      <td>22878596</td>\n      <td>에스알에스코리아버거킹</td>\n      <td>대구역롯데점</td>\n      <td>Q</td>\n      <td>음식</td>\n      <td>Q07</td>\n      <td>패스트푸드</td>\n      <td>Q07A04</td>\n      <td>패스트푸드</td>\n      <td>I56199</td>\n      <td>...</td>\n      <td>2723010200103020155000001</td>\n      <td>롯데백화점대구역</td>\n      <td>대구광역시 북구 태평로 161</td>\n      <td>702746</td>\n      <td>41581</td>\n      <td></td>\n      <td>2</td>\n      <td></td>\n      <td>128.596131</td>\n      <td>35.875884</td>\n    </tr>\n  </tbody>\n</table>\n<p>1 rows × 39 columns</p>\n</div>"
     },
     "metadata": {},
     "execution_count": 4
    }
   ],
   "source": [
    "# 버거킹\n",
    "burgerking1 = df1.fillna('').query(\"상호명.str.contains('버거킹')\", engine='python')\n",
    "burgerking2 = df2.fillna('').query(\"상호명.str.contains('버거킹')\", engine='python')\n",
    "burgerking3 = df3.fillna('').query(\"상호명.str.contains('버거킹')\", engine='python')\n",
    "burgerking4 = df4.fillna('').query(\"상호명.str.contains('버거킹')\", engine='python')\n",
    "\n",
    "burgerking = pd.concat([burgerking1, burgerking2, burgerking3, burgerking4])\n",
    "burgerking.index = np.arange(0, len(burgerking))\n",
    "\n",
    "fs.to_csv(burgerking, './data/burgerking_in_korea_2020.csv', sep='|')\n",
    "\n",
    "burgerking.head(1)"
   ]
  },
  {
   "cell_type": "code",
   "execution_count": 5,
   "metadata": {},
   "outputs": [
    {
     "output_type": "execute_result",
     "data": {
      "text/plain": [
       "     상가업소번호         상호명 지점명 상권업종대분류코드 상권업종대분류명 상권업종중분류코드 상권업종중분류명 상권업종소분류코드  \\\n",
       "0  23269560  KFC인천공항스카이             Q       음식       Q07    패스트푸드    Q07A04   \n",
       "\n",
       "  상권업종소분류명 표준산업분류코드  ...                     건물관리번호      건물명  \\\n",
       "0    패스트푸드   I56199  ...  2811014700128510000223132  인천국제공항역   \n",
       "\n",
       "              도로명주소   구우편번호  신우편번호  동정보 층정보  호정보          경도         위도  \n",
       "0  인천광역시 중구 공항로 271  400715  22382   FB   4       126.452336  37.447592  \n",
       "\n",
       "[1 rows x 39 columns]"
      ],
      "text/html": "<div>\n<style scoped>\n    .dataframe tbody tr th:only-of-type {\n        vertical-align: middle;\n    }\n\n    .dataframe tbody tr th {\n        vertical-align: top;\n    }\n\n    .dataframe thead th {\n        text-align: right;\n    }\n</style>\n<table border=\"1\" class=\"dataframe\">\n  <thead>\n    <tr style=\"text-align: right;\">\n      <th></th>\n      <th>상가업소번호</th>\n      <th>상호명</th>\n      <th>지점명</th>\n      <th>상권업종대분류코드</th>\n      <th>상권업종대분류명</th>\n      <th>상권업종중분류코드</th>\n      <th>상권업종중분류명</th>\n      <th>상권업종소분류코드</th>\n      <th>상권업종소분류명</th>\n      <th>표준산업분류코드</th>\n      <th>...</th>\n      <th>건물관리번호</th>\n      <th>건물명</th>\n      <th>도로명주소</th>\n      <th>구우편번호</th>\n      <th>신우편번호</th>\n      <th>동정보</th>\n      <th>층정보</th>\n      <th>호정보</th>\n      <th>경도</th>\n      <th>위도</th>\n    </tr>\n  </thead>\n  <tbody>\n    <tr>\n      <th>0</th>\n      <td>23269560</td>\n      <td>KFC인천공항스카이</td>\n      <td></td>\n      <td>Q</td>\n      <td>음식</td>\n      <td>Q07</td>\n      <td>패스트푸드</td>\n      <td>Q07A04</td>\n      <td>패스트푸드</td>\n      <td>I56199</td>\n      <td>...</td>\n      <td>2811014700128510000223132</td>\n      <td>인천국제공항역</td>\n      <td>인천광역시 중구 공항로 271</td>\n      <td>400715</td>\n      <td>22382</td>\n      <td>FB</td>\n      <td>4</td>\n      <td></td>\n      <td>126.452336</td>\n      <td>37.447592</td>\n    </tr>\n  </tbody>\n</table>\n<p>1 rows × 39 columns</p>\n</div>"
     },
     "metadata": {},
     "execution_count": 5
    }
   ],
   "source": [
    "# KFC\n",
    "kfc1 = df1.fillna('').query(\"상호명.str.contains('KFC', case=False)\", engine='python')\n",
    "kfc2 = df2.fillna('').query(\"상호명.str.contains('KFC', case=False)\", engine='python')\n",
    "kfc3 = df3.fillna('').query(\"상호명.str.contains('KFC', case=False)\", engine='python')\n",
    "kfc4 = df4.fillna('').query(\"상호명.str.contains('KFC', case=False)\", engine='python')\n",
    "\n",
    "kfc = pd.concat([kfc1, kfc2, kfc3, kfc4])\n",
    "kfc.index = np.arange(0, len(kfc))\n",
    "\n",
    "fs.to_csv(kfc, './data/kfc_in_korea_2020.csv', sep='|')\n",
    "\n",
    "kfc.head(1)"
   ]
  },
  {
   "cell_type": "code",
   "execution_count": 6,
   "metadata": {},
   "outputs": [
    {
     "output_type": "execute_result",
     "data": {
      "text/plain": [
       "     상가업소번호      상호명  지점명 상권업종대분류코드 상권업종대분류명 상권업종중분류코드 상권업종중분류명 상권업종소분류코드  \\\n",
       "0  19922527  롯데리아사월점  사월점         Q       음식       Q07    패스트푸드    Q07A04   \n",
       "\n",
       "  상권업종소분류명 표준산업분류코드  ...                     건물관리번호             건물명  \\\n",
       "0    패스트푸드   I56199  ...  2726011800100090001000001  시지효성백년가약1단지아파트   \n",
       "\n",
       "                  도로명주소   구우편번호  신우편번호  동정보 층정보  호정보          경도         위도  \n",
       "0  대구광역시 수성구 달구벌대로 3280  706959  42278        1       128.714818  35.836723  \n",
       "\n",
       "[1 rows x 39 columns]"
      ],
      "text/html": "<div>\n<style scoped>\n    .dataframe tbody tr th:only-of-type {\n        vertical-align: middle;\n    }\n\n    .dataframe tbody tr th {\n        vertical-align: top;\n    }\n\n    .dataframe thead th {\n        text-align: right;\n    }\n</style>\n<table border=\"1\" class=\"dataframe\">\n  <thead>\n    <tr style=\"text-align: right;\">\n      <th></th>\n      <th>상가업소번호</th>\n      <th>상호명</th>\n      <th>지점명</th>\n      <th>상권업종대분류코드</th>\n      <th>상권업종대분류명</th>\n      <th>상권업종중분류코드</th>\n      <th>상권업종중분류명</th>\n      <th>상권업종소분류코드</th>\n      <th>상권업종소분류명</th>\n      <th>표준산업분류코드</th>\n      <th>...</th>\n      <th>건물관리번호</th>\n      <th>건물명</th>\n      <th>도로명주소</th>\n      <th>구우편번호</th>\n      <th>신우편번호</th>\n      <th>동정보</th>\n      <th>층정보</th>\n      <th>호정보</th>\n      <th>경도</th>\n      <th>위도</th>\n    </tr>\n  </thead>\n  <tbody>\n    <tr>\n      <th>0</th>\n      <td>19922527</td>\n      <td>롯데리아사월점</td>\n      <td>사월점</td>\n      <td>Q</td>\n      <td>음식</td>\n      <td>Q07</td>\n      <td>패스트푸드</td>\n      <td>Q07A04</td>\n      <td>패스트푸드</td>\n      <td>I56199</td>\n      <td>...</td>\n      <td>2726011800100090001000001</td>\n      <td>시지효성백년가약1단지아파트</td>\n      <td>대구광역시 수성구 달구벌대로 3280</td>\n      <td>706959</td>\n      <td>42278</td>\n      <td></td>\n      <td>1</td>\n      <td></td>\n      <td>128.714818</td>\n      <td>35.836723</td>\n    </tr>\n  </tbody>\n</table>\n<p>1 rows × 39 columns</p>\n</div>"
     },
     "metadata": {},
     "execution_count": 6
    }
   ],
   "source": [
    "# 롯데리아\n",
    "lotteria1 = df1.fillna('').query(\"상호명.str.contains('롯데리아')\", engine='python')\n",
    "lotteria2 = df2.fillna('').query(\"상호명.str.contains('롯데리아')\", engine='python')\n",
    "lotteria3 = df3.fillna('').query(\"상호명.str.contains('롯데리아')\", engine='python')\n",
    "lotteria4 = df4.fillna('').query(\"상호명.str.contains('롯데리아')\", engine='python')\n",
    "\n",
    "lotteria = pd.concat([lotteria1, lotteria2, lotteria3, lotteria4])\n",
    "lotteria.index = np.arange(0, len(lotteria))\n",
    "\n",
    "fs.to_csv(lotteria, './data/lotteria_in_korea_2020.csv', sep='|')\n",
    "\n",
    "lotteria.head(1)"
   ]
  },
  {
   "source": [
    "### 패스트푸드 (맥도날드 & KFC & 버거킹 & 롯데리아)"
   ],
   "cell_type": "markdown",
   "metadata": {}
  },
  {
   "cell_type": "code",
   "execution_count": 7,
   "metadata": {},
   "outputs": [
    {
     "output_type": "execute_result",
     "data": {
      "text/plain": [
       "    상호명    시도명  시도코드 시군구명  시군구코드 행정동명       행정동코드       지점명  \\\n",
       "0  맥도날드  대전광역시    30  대덕구  30230  중리동  3023054600  대전한남대디티점   \n",
       "\n",
       "                 도로명주소          경도         위도  \n",
       "0  대전광역시 대덕구 한밭대로 1102  127.421231  36.358409  "
      ],
      "text/html": "<div>\n<style scoped>\n    .dataframe tbody tr th:only-of-type {\n        vertical-align: middle;\n    }\n\n    .dataframe tbody tr th {\n        vertical-align: top;\n    }\n\n    .dataframe thead th {\n        text-align: right;\n    }\n</style>\n<table border=\"1\" class=\"dataframe\">\n  <thead>\n    <tr style=\"text-align: right;\">\n      <th></th>\n      <th>상호명</th>\n      <th>시도명</th>\n      <th>시도코드</th>\n      <th>시군구명</th>\n      <th>시군구코드</th>\n      <th>행정동명</th>\n      <th>행정동코드</th>\n      <th>지점명</th>\n      <th>도로명주소</th>\n      <th>경도</th>\n      <th>위도</th>\n    </tr>\n  </thead>\n  <tbody>\n    <tr>\n      <th>0</th>\n      <td>맥도날드</td>\n      <td>대전광역시</td>\n      <td>30</td>\n      <td>대덕구</td>\n      <td>30230</td>\n      <td>중리동</td>\n      <td>3023054600</td>\n      <td>대전한남대디티점</td>\n      <td>대전광역시 대덕구 한밭대로 1102</td>\n      <td>127.421231</td>\n      <td>36.358409</td>\n    </tr>\n  </tbody>\n</table>\n</div>"
     },
     "metadata": {},
     "execution_count": 7
    }
   ],
   "source": [
    "fastfood = pd.concat([mcdonald, burgerking, kfc, lotteria])\n",
    "\n",
    "fastfood = fastfood[['상호명', '시도명', '시도코드', '시군구명', '시군구코드', '행정동명', '행정동코드', '지점명', '도로명주소', '경도', '위도']]\n",
    "fastfood.index = np.arange(0, len(fastfood))\n",
    "\n",
    "fs.to_csv(fastfood, './data/fastfood_in_korea_2020.csv', sep='|')\n",
    "\n",
    "fastfood.head(1)"
   ]
  },
  {
   "source": [
    "## 통계청: 행정구역(시군구)별, 성별 인구수"
   ],
   "cell_type": "markdown",
   "metadata": {}
  },
  {
   "cell_type": "code",
   "execution_count": 8,
   "metadata": {},
   "outputs": [
    {
     "output_type": "execute_result",
     "data": {
      "text/plain": [
       "     시도명  시도코드 시군구명  시군구코드     인구수     남자수     여자수          시군구_x  \\\n",
       "0  서울특별시    11  종로구  11110  151290   73746   77544  954859.306142   \n",
       "1  서울특별시    11   중구  11140  126171   61910   64261  955931.027850   \n",
       "2  서울특별시    11  용산구  11170  228670  110356  118314  954122.014984   \n",
       "3  서울특별시    11  성동구  11200  300889  147273  153616  959571.250766   \n",
       "4  서울특별시    11  광진구  11215  351350  170262  181088  963032.466631   \n",
       "\n",
       "          시군구_y  \n",
       "0  1.953755e+06  \n",
       "1  1.951526e+06  \n",
       "2  1.948855e+06  \n",
       "3  1.950601e+06  \n",
       "4  1.949996e+06  "
      ],
      "text/html": "<div>\n<style scoped>\n    .dataframe tbody tr th:only-of-type {\n        vertical-align: middle;\n    }\n\n    .dataframe tbody tr th {\n        vertical-align: top;\n    }\n\n    .dataframe thead th {\n        text-align: right;\n    }\n</style>\n<table border=\"1\" class=\"dataframe\">\n  <thead>\n    <tr style=\"text-align: right;\">\n      <th></th>\n      <th>시도명</th>\n      <th>시도코드</th>\n      <th>시군구명</th>\n      <th>시군구코드</th>\n      <th>인구수</th>\n      <th>남자수</th>\n      <th>여자수</th>\n      <th>시군구_x</th>\n      <th>시군구_y</th>\n    </tr>\n  </thead>\n  <tbody>\n    <tr>\n      <th>0</th>\n      <td>서울특별시</td>\n      <td>11</td>\n      <td>종로구</td>\n      <td>11110</td>\n      <td>151290</td>\n      <td>73746</td>\n      <td>77544</td>\n      <td>954859.306142</td>\n      <td>1.953755e+06</td>\n    </tr>\n    <tr>\n      <th>1</th>\n      <td>서울특별시</td>\n      <td>11</td>\n      <td>중구</td>\n      <td>11140</td>\n      <td>126171</td>\n      <td>61910</td>\n      <td>64261</td>\n      <td>955931.027850</td>\n      <td>1.951526e+06</td>\n    </tr>\n    <tr>\n      <th>2</th>\n      <td>서울특별시</td>\n      <td>11</td>\n      <td>용산구</td>\n      <td>11170</td>\n      <td>228670</td>\n      <td>110356</td>\n      <td>118314</td>\n      <td>954122.014984</td>\n      <td>1.948855e+06</td>\n    </tr>\n    <tr>\n      <th>3</th>\n      <td>서울특별시</td>\n      <td>11</td>\n      <td>성동구</td>\n      <td>11200</td>\n      <td>300889</td>\n      <td>147273</td>\n      <td>153616</td>\n      <td>959571.250766</td>\n      <td>1.950601e+06</td>\n    </tr>\n    <tr>\n      <th>4</th>\n      <td>서울특별시</td>\n      <td>11</td>\n      <td>광진구</td>\n      <td>11215</td>\n      <td>351350</td>\n      <td>170262</td>\n      <td>181088</td>\n      <td>963032.466631</td>\n      <td>1.949996e+06</td>\n    </tr>\n  </tbody>\n</table>\n</div>"
     },
     "metadata": {},
     "execution_count": 8
    }
   ],
   "source": [
    "population = fs.read_csv('./data/kosis.kr/population-202010.csv')\n",
    "navigation = fs.read_csv('./data/juso.go.kr/navi-202010.csv')\n",
    "\n",
    "df = pd.merge(population, navigation, on='시군구코드')\n",
    "df.to_csv('./data/population_and_navi_202010.csv',\n",
    "              sep=',', encoding='utf-8', index=False)\n",
    "\n",
    "df.head()"
   ]
  }
 ]
}