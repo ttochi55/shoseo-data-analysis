{
 "metadata": {
  "language_info": {
   "codemirror_mode": {
    "name": "ipython",
    "version": 3
   },
   "file_extension": ".py",
   "mimetype": "text/x-python",
   "name": "python",
   "nbconvert_exporter": "python",
   "pygments_lexer": "ipython3",
   "version": "3.8.5-final"
  },
  "orig_nbformat": 2,
  "kernelspec": {
   "name": "python3",
   "display_name": "Python 3"
  }
 },
 "nbformat": 4,
 "nbformat_minor": 2,
 "cells": [
  {
   "source": [
    "# Kakaomap API"
   ],
   "cell_type": "markdown",
   "metadata": {}
  },
  {
   "cell_type": "code",
   "execution_count": 1,
   "metadata": {},
   "outputs": [],
   "source": [
    "import pandas as pd\n",
    "import numpy as np\n",
    "import time\n",
    "\n",
    "# A simple, yet elegant HTTP library.\n",
    "import requests\n",
    "from urllib.parse import urlparse, quote\n",
    "\n",
    "# A Fast, Extensible Progress Bar for Python and CLI\n",
    "from tqdm import tqdm"
   ]
  },
  {
   "cell_type": "code",
   "execution_count": 2,
   "metadata": {},
   "outputs": [],
   "source": [
    "with open('./config/kakaomaprestapikey.txt', 'r') as f:\n",
    "    API_KEY = f.read().strip()"
   ]
  },
  {
   "cell_type": "code",
   "execution_count": 3,
   "metadata": {},
   "outputs": [
    {
     "output_type": "execute_result",
     "data": {
      "text/plain": [
       "    이름          전화번호                    주소      상표  고급휘발유  보통휘발유     경유  실내등유  \\\n",
       "0  NaN  02-2695-4544  서울 강서구 화곡로 273 (화곡동)  현대오일뱅크    NaN  1,289  1,147   NaN   \n",
       "\n",
       "   자동차부탄  \n",
       "0    NaN  "
      ],
      "text/html": "<div>\n<style scoped>\n    .dataframe tbody tr th:only-of-type {\n        vertical-align: middle;\n    }\n\n    .dataframe tbody tr th {\n        vertical-align: top;\n    }\n\n    .dataframe thead th {\n        text-align: right;\n    }\n</style>\n<table border=\"1\" class=\"dataframe\">\n  <thead>\n    <tr style=\"text-align: right;\">\n      <th></th>\n      <th>이름</th>\n      <th>전화번호</th>\n      <th>주소</th>\n      <th>상표</th>\n      <th>고급휘발유</th>\n      <th>보통휘발유</th>\n      <th>경유</th>\n      <th>실내등유</th>\n      <th>자동차부탄</th>\n    </tr>\n  </thead>\n  <tbody>\n    <tr>\n      <th>0</th>\n      <td>NaN</td>\n      <td>02-2695-4544</td>\n      <td>서울 강서구 화곡로 273 (화곡동)</td>\n      <td>현대오일뱅크</td>\n      <td>NaN</td>\n      <td>1,289</td>\n      <td>1,147</td>\n      <td>NaN</td>\n      <td>NaN</td>\n    </tr>\n  </tbody>\n</table>\n</div>"
     },
     "metadata": {},
     "execution_count": 3
    }
   ],
   "source": [
    "df = pd.read_csv('./data/opinet.csv')\n",
    "df.head(1)"
   ]
  },
  {
   "cell_type": "code",
   "execution_count": 4,
   "metadata": {},
   "outputs": [],
   "source": [
    "def getCoords(query = ''):\n",
    "    url = \"https://dapi.kakao.com/v2/local/search/address.json\"\n",
    "    params = { \n",
    "        'query': query\n",
    "    }\n",
    "    headers = { \"Authorization\": \"KakaoAK \" + API_KEY }\n",
    "    api = requests.get(url, params=params, headers=headers).json()\n",
    "    coords = {}\n",
    "    coords.update({ 'x': float(api['documents'][0]['x']) })\n",
    "    coords.update({ 'y': float(api['documents'][0]['y']) })\n",
    "    return coords"
   ]
  },
  {
   "cell_type": "code",
   "execution_count": 5,
   "metadata": {},
   "outputs": [
    {
     "output_type": "stream",
     "name": "stderr",
     "text": [
      "100%|██████████| 10/10 [00:00<00:00, 21.13it/s]\n"
     ]
    }
   ],
   "source": [
    "df['lon'] = np.nan # 경도\n",
    "df['lat'] = np.nan # 위도\n",
    "for i in tqdm(df.index):\n",
    "    try:\n",
    "        addr = df['주소'][i]\n",
    "        coords = getCoords(addr)\n",
    "        df['lon'][i] = coords['x']\n",
    "        df['lat'][i] = coords['y']\n",
    "    except Exception as e:\n",
    "        print(i, e)"
   ]
  },
  {
   "cell_type": "code",
   "execution_count": 6,
   "metadata": {},
   "outputs": [
    {
     "output_type": "execute_result",
     "data": {
      "text/plain": [
       "              이름          전화번호                     주소      상표  고급휘발유  보통휘발유  \\\n",
       "0            NaN  02-2695-4544   서울 강서구 화곡로 273 (화곡동)  현대오일뱅크    NaN  1,289   \n",
       "1          다회주유소   02-375-5156   서울 은평구 증산로 441 (신사동)   S-OIL    NaN  1,304   \n",
       "2            NaN           NaN   서울 은평구 증산로 423 (신사동)   GS칼텍스    NaN  1,315   \n",
       "3  (주)창원이엔지 홍제지점   02-379-0753  서울 서대문구 통일로 455 (홍제동)  현대오일뱅크    NaN  1,299   \n",
       "4          다회주유소   02-375-5156   서울 은평구 증산로 441 (신사동)   S-OIL    NaN  1,304   \n",
       "5            NaN           NaN   서울 은평구 증산로 423 (신사동)   GS칼텍스    NaN  1,315   \n",
       "6  (주)한진 김포공항주유소  02-2662-0422         서울 강서구 하늘길 259   S-OIL    NaN  1,319   \n",
       "7        세원제1주유소  02-3663-5151   서울 강서구 양천로 311 (가양동)   SK에너지    NaN  1,389   \n",
       "8          다회주유소   02-375-5156   서울 은평구 증산로 441 (신사동)   S-OIL    NaN  1,304   \n",
       "9            NaN           NaN   서울 은평구 증산로 423 (신사동)   GS칼텍스    NaN  1,315   \n",
       "\n",
       "      경유  실내등유  자동차부탄         lon        lat  \n",
       "0  1,147   NaN    NaN  126.846965  37.549279  \n",
       "1  1,104   NaN    NaN  126.914397  37.595614  \n",
       "2  1,115   NaN    NaN  126.913936  37.594096  \n",
       "3  1,099   NaN    NaN  126.943338  37.589129  \n",
       "4  1,104   NaN    NaN  126.914397  37.595614  \n",
       "5  1,115   NaN    NaN  126.913936  37.594096  \n",
       "6  1,128   NaN    NaN  126.814720  37.550942  \n",
       "7  1,189   NaN    NaN  126.838076  37.570496  \n",
       "8  1,104   NaN    NaN  126.914397  37.595614  \n",
       "9  1,115   NaN    NaN  126.913936  37.594096  "
      ],
      "text/html": "<div>\n<style scoped>\n    .dataframe tbody tr th:only-of-type {\n        vertical-align: middle;\n    }\n\n    .dataframe tbody tr th {\n        vertical-align: top;\n    }\n\n    .dataframe thead th {\n        text-align: right;\n    }\n</style>\n<table border=\"1\" class=\"dataframe\">\n  <thead>\n    <tr style=\"text-align: right;\">\n      <th></th>\n      <th>이름</th>\n      <th>전화번호</th>\n      <th>주소</th>\n      <th>상표</th>\n      <th>고급휘발유</th>\n      <th>보통휘발유</th>\n      <th>경유</th>\n      <th>실내등유</th>\n      <th>자동차부탄</th>\n      <th>lon</th>\n      <th>lat</th>\n    </tr>\n  </thead>\n  <tbody>\n    <tr>\n      <th>0</th>\n      <td>NaN</td>\n      <td>02-2695-4544</td>\n      <td>서울 강서구 화곡로 273 (화곡동)</td>\n      <td>현대오일뱅크</td>\n      <td>NaN</td>\n      <td>1,289</td>\n      <td>1,147</td>\n      <td>NaN</td>\n      <td>NaN</td>\n      <td>126.846965</td>\n      <td>37.549279</td>\n    </tr>\n    <tr>\n      <th>1</th>\n      <td>다회주유소</td>\n      <td>02-375-5156</td>\n      <td>서울 은평구 증산로 441 (신사동)</td>\n      <td>S-OIL</td>\n      <td>NaN</td>\n      <td>1,304</td>\n      <td>1,104</td>\n      <td>NaN</td>\n      <td>NaN</td>\n      <td>126.914397</td>\n      <td>37.595614</td>\n    </tr>\n    <tr>\n      <th>2</th>\n      <td>NaN</td>\n      <td>NaN</td>\n      <td>서울 은평구 증산로 423 (신사동)</td>\n      <td>GS칼텍스</td>\n      <td>NaN</td>\n      <td>1,315</td>\n      <td>1,115</td>\n      <td>NaN</td>\n      <td>NaN</td>\n      <td>126.913936</td>\n      <td>37.594096</td>\n    </tr>\n    <tr>\n      <th>3</th>\n      <td>(주)창원이엔지 홍제지점</td>\n      <td>02-379-0753</td>\n      <td>서울 서대문구 통일로 455 (홍제동)</td>\n      <td>현대오일뱅크</td>\n      <td>NaN</td>\n      <td>1,299</td>\n      <td>1,099</td>\n      <td>NaN</td>\n      <td>NaN</td>\n      <td>126.943338</td>\n      <td>37.589129</td>\n    </tr>\n    <tr>\n      <th>4</th>\n      <td>다회주유소</td>\n      <td>02-375-5156</td>\n      <td>서울 은평구 증산로 441 (신사동)</td>\n      <td>S-OIL</td>\n      <td>NaN</td>\n      <td>1,304</td>\n      <td>1,104</td>\n      <td>NaN</td>\n      <td>NaN</td>\n      <td>126.914397</td>\n      <td>37.595614</td>\n    </tr>\n    <tr>\n      <th>5</th>\n      <td>NaN</td>\n      <td>NaN</td>\n      <td>서울 은평구 증산로 423 (신사동)</td>\n      <td>GS칼텍스</td>\n      <td>NaN</td>\n      <td>1,315</td>\n      <td>1,115</td>\n      <td>NaN</td>\n      <td>NaN</td>\n      <td>126.913936</td>\n      <td>37.594096</td>\n    </tr>\n    <tr>\n      <th>6</th>\n      <td>(주)한진 김포공항주유소</td>\n      <td>02-2662-0422</td>\n      <td>서울 강서구 하늘길 259</td>\n      <td>S-OIL</td>\n      <td>NaN</td>\n      <td>1,319</td>\n      <td>1,128</td>\n      <td>NaN</td>\n      <td>NaN</td>\n      <td>126.814720</td>\n      <td>37.550942</td>\n    </tr>\n    <tr>\n      <th>7</th>\n      <td>세원제1주유소</td>\n      <td>02-3663-5151</td>\n      <td>서울 강서구 양천로 311 (가양동)</td>\n      <td>SK에너지</td>\n      <td>NaN</td>\n      <td>1,389</td>\n      <td>1,189</td>\n      <td>NaN</td>\n      <td>NaN</td>\n      <td>126.838076</td>\n      <td>37.570496</td>\n    </tr>\n    <tr>\n      <th>8</th>\n      <td>다회주유소</td>\n      <td>02-375-5156</td>\n      <td>서울 은평구 증산로 441 (신사동)</td>\n      <td>S-OIL</td>\n      <td>NaN</td>\n      <td>1,304</td>\n      <td>1,104</td>\n      <td>NaN</td>\n      <td>NaN</td>\n      <td>126.914397</td>\n      <td>37.595614</td>\n    </tr>\n    <tr>\n      <th>9</th>\n      <td>NaN</td>\n      <td>NaN</td>\n      <td>서울 은평구 증산로 423 (신사동)</td>\n      <td>GS칼텍스</td>\n      <td>NaN</td>\n      <td>1,315</td>\n      <td>1,115</td>\n      <td>NaN</td>\n      <td>NaN</td>\n      <td>126.913936</td>\n      <td>37.594096</td>\n    </tr>\n  </tbody>\n</table>\n</div>"
     },
     "metadata": {},
     "execution_count": 6
    }
   ],
   "source": [
    "df.dropna(subset=['lon', 'lat'], inplace=True)\n",
    "df.index = np.arange(0, len(df))\n",
    "df.to_csv('./data/kakaomapapi.csv', sep=',', encoding='utf8', index=False)\n",
    "df"
   ]
  }
 ]
}