{
 "metadata": {
  "language_info": {
   "codemirror_mode": {
    "name": "ipython",
    "version": 3
   },
   "file_extension": ".py",
   "mimetype": "text/x-python",
   "name": "python",
   "nbconvert_exporter": "python",
   "pygments_lexer": "ipython3",
   "version": "3.8.5-final"
  },
  "orig_nbformat": 2,
  "kernelspec": {
   "name": "python3",
   "display_name": "Python 3"
  }
 },
 "nbformat": 4,
 "nbformat_minor": 2,
 "cells": [
  {
   "source": [
    "# 주유소 10곳이상 기름값 지도위에 표시하기\n",
    "\n",
    "**오피넷 - 경로별**   \n",
    "- 출발지: 서울, 연신내역\n",
    "- 도착지: 서울, 호서직업전문학교 - 주유소 3개\n",
    "- 도착지: 서울, 서울역 - 주유소 1개\n",
    "- 도착지: 서울, 김포국제공항 - 주유소 4개\n",
    "- 도착지: 서울, 여의도역 - 주유소 5개"
   ],
   "cell_type": "markdown",
   "metadata": {}
  },
  {
   "cell_type": "code",
   "execution_count": 1,
   "metadata": {},
   "outputs": [],
   "source": [
    "import numpy as np\n",
    "import pandas as pd\n",
    "import time\n",
    "\n",
    "# Unix style pathname pattern expansion\n",
    "from glob import glob\n",
    "\n",
    "# A browser automation framework and ecosystem.\n",
    "from selenium import webdriver\n",
    "from selenium.webdriver.common.keys import Keys\n",
    "from selenium.webdriver.common.by import By\n",
    "from selenium.webdriver.support.ui import Select\n",
    "from selenium.webdriver.support.ui import WebDriverWait\n",
    "from selenium.webdriver.support import expected_conditions as EC\n",
    "import chromedriver_autoinstaller \n",
    "\n",
    "# Beautiful Soup is a library that makes it easy to scrape information from web pages.\n",
    "from bs4 import BeautifulSoup\n",
    "\n",
    "# A Fast, Extensible Progress Bar for Python and CLI\n",
    "from tqdm import tqdm\n",
    "from tqdm import tqdm_notebook"
   ]
  },
  {
   "source": [
    "## Crawling"
   ],
   "cell_type": "markdown",
   "metadata": {}
  },
  {
   "cell_type": "code",
   "execution_count": 2,
   "metadata": {},
   "outputs": [
    {
     "output_type": "stream",
     "name": "stderr",
     "text": [
      "4it [00:56, 14.02s/it]\n"
     ]
    }
   ],
   "source": [
    "path = chromedriver_autoinstaller.install() \n",
    "driver = webdriver.Chrome(path)\n",
    "driver.switch_to.window(driver.window_handles[0])\n",
    "\n",
    "# 메인페이지 접속\n",
    "driver.get(\"http://www.opinet.co.kr/user/main/mainView.do\")\n",
    "\n",
    "# 싼주유소찾기 이동\n",
    "wait = WebDriverWait(driver, 10)\n",
    "quick_ul = wait.until(EC.presence_of_element_located((By.CSS_SELECTOR, '#quick_ul')))\n",
    "quick_ul.find_element_by_css_selector('li:nth-child(2) a').click()\n",
    "\n",
    "# 경로별 페이지 이동\n",
    "wait = WebDriverWait(driver, 10)\n",
    "header_path_gsi = wait.until(EC.presence_of_element_located((By.CSS_SELECTOR, '#container .header_path_gsi')))\n",
    "header_path_gsi.find_element_by_css_selector('li.mid2 a').click()\n",
    "\n",
    "# 출발지, 도착지 설정\n",
    "destinations = ['호서직업전문학교', '서울역', '김포국제공항', '여의도역']\n",
    "departures = ['연신내'] * len(destinations)\n",
    "\n",
    "for i, destination in tqdm(enumerate(destinations)):\n",
    "\n",
    "    # 경로별 페이지 설정\n",
    "    wait = WebDriverWait(driver, 10)\n",
    "    form = wait.until(EC.presence_of_element_located((By.CSS_SELECTOR, '#searrouteVO')))\n",
    "\n",
    "    # 경로별 설정 - 출발지\n",
    "    departure = departures[i]\n",
    "\n",
    "    element = form.find_element_by_id('search1_2')\n",
    "    driver.execute_script(\"arguments[0].style.display = 'none';\", element)\n",
    "\n",
    "    time.sleep(1)\n",
    "    Select(form.find_element_by_id('SIDO_CD1')).select_by_visible_text('서울')\n",
    "    form.find_element_by_id('poiName1').send_keys('')\n",
    "    form.find_element_by_id('poiName1').send_keys(departure)\n",
    "    form.find_element_by_id('poiName1').send_keys(Keys.ENTER)\n",
    "\n",
    "    # 경로별 설정 - 도착지\n",
    "    element = form.find_element_by_id('search2_2')\n",
    "    driver.execute_script(\"arguments[0].style.display = 'none';\", element)\n",
    "\n",
    "    time.sleep(1)\n",
    "    Select(form.find_element_by_id('SIDO_CD2')).select_by_visible_text('서울')\n",
    "    form.find_element_by_id('poiName2').send_keys('')\n",
    "    form.find_element_by_id('poiName2').send_keys(destination)\n",
    "    form.find_element_by_id('poiName2').send_keys(Keys.ENTER)\n",
    "\n",
    "    # 경로별 설정 - 조회\n",
    "    time.sleep(3)\n",
    "    driver.find_element_by_id('searrouteSelect').click()\n",
    "\n",
    "    # 경로별 설정 - 엑셀 저장\n",
    "    time.sleep(5)\n",
    "    driver.find_element_by_id('excelIcon').click()\n",
    "\n",
    "    # to refresh the browser\n",
    "    time.sleep(3)\n",
    "    driver.refresh()\n",
    "\n",
    "driver.close() \n",
    "driver.quit()"
   ]
  },
  {
   "source": [
    "## Move the download file to a working directory."
   ],
   "cell_type": "markdown",
   "metadata": {}
  },
  {
   "cell_type": "code",
   "execution_count": 3,
   "metadata": {},
   "outputs": [],
   "source": [
    "import shutil\n",
    "\n",
    "move_files = 'C:\\\\Users\\\\shoseo\\\\Downloads\\\\*.xls'\n",
    "move_path = 'D:\\\\Workspace\\\\Data-Analysis-2020\\\\05.CrawlingOpinet\\\\data'\n",
    "\n",
    "shutil.rmtree(move_path)\n",
    "os.mkdir('./data')\n",
    "\n",
    "for move_from in glob(move_files):\n",
    "    filename = move_from.split('\\\\')[-1]\n",
    "    move_to = move_path +'\\\\'+ filename\n",
    "    shutil.move(move_from, move_to)"
   ]
  },
  {
   "source": [
    "## Merging DataFrame"
   ],
   "cell_type": "markdown",
   "metadata": {}
  },
  {
   "cell_type": "code",
   "execution_count": 14,
   "metadata": {},
   "outputs": [
    {
     "output_type": "execute_result",
     "data": {
      "text/plain": [
       "   순번             주유소명 고급휘발유   휘발유    경유\n",
       "0   1            다회주유소     -  1304  1104\n",
       "1   2  지에스칼텍스㈜ 신사제일주유소  1485  1315  1115\n",
       "2   3  대성석유(주) 마곡대성주유소  1599  1365  1185"
      ],
      "text/html": "<div>\n<style scoped>\n    .dataframe tbody tr th:only-of-type {\n        vertical-align: middle;\n    }\n\n    .dataframe tbody tr th {\n        vertical-align: top;\n    }\n\n    .dataframe thead th {\n        text-align: right;\n    }\n</style>\n<table border=\"1\" class=\"dataframe\">\n  <thead>\n    <tr style=\"text-align: right;\">\n      <th></th>\n      <th>순번</th>\n      <th>주유소명</th>\n      <th>고급휘발유</th>\n      <th>휘발유</th>\n      <th>경유</th>\n    </tr>\n  </thead>\n  <tbody>\n    <tr>\n      <th>0</th>\n      <td>1</td>\n      <td>다회주유소</td>\n      <td>-</td>\n      <td>1304</td>\n      <td>1104</td>\n    </tr>\n    <tr>\n      <th>1</th>\n      <td>2</td>\n      <td>지에스칼텍스㈜ 신사제일주유소</td>\n      <td>1485</td>\n      <td>1315</td>\n      <td>1115</td>\n    </tr>\n    <tr>\n      <th>2</th>\n      <td>3</td>\n      <td>대성석유(주) 마곡대성주유소</td>\n      <td>1599</td>\n      <td>1365</td>\n      <td>1185</td>\n    </tr>\n  </tbody>\n</table>\n</div>"
     },
     "metadata": {},
     "execution_count": 14
    }
   ],
   "source": [
    "pd.read_html('./data/경로별 주유소현황.xls')[0]"
   ]
  },
  {
   "cell_type": "code",
   "execution_count": 12,
   "metadata": {},
   "outputs": [
    {
     "output_type": "stream",
     "name": "stdout",
     "text": [
      "<class 'pandas.core.frame.DataFrame'>\nInt64Index: 13 entries, 0 to 2\nData columns (total 5 columns):\n #   Column  Non-Null Count  Dtype \n---  ------  --------------  ----- \n 0   순번      13 non-null     int64 \n 1   주유소명    13 non-null     object\n 2   고급휘발유   13 non-null     object\n 3   휘발유     13 non-null     int64 \n 4   경유      13 non-null     int64 \ndtypes: int64(3), object(2)\nmemory usage: 624.0+ bytes\n"
     ]
    }
   ],
   "source": [
    "tmp_raw = []\n",
    "\n",
    "for filepath in glob('./data/*.xls'):\n",
    "    tmp = pd.read_html(filepath)[0]\n",
    "    tmp_raw.append(tmp)\n",
    "\n",
    "tmp_df = pd.concat(tmp_raw)\n",
    "tmp_df.info()"
   ]
  },
  {
   "cell_type": "code",
   "execution_count": 15,
   "metadata": {},
   "outputs": [
    {
     "output_type": "execute_result",
     "data": {
      "text/plain": [
       "              주유소명 고급휘발유   휘발유    경유\n",
       "0    (주)창원이엔지 홍제지점     -  1299  1099\n",
       "0      행촌에너지 공항주유소     -  1264  1064\n",
       "1  (주)유카스 에너지 올림픽점     -  1265  1065\n",
       "2            산성주유소     -  1275  1075\n",
       "3    (주)한진 김포공항주유소     -  1319  1128"
      ],
      "text/html": "<div>\n<style scoped>\n    .dataframe tbody tr th:only-of-type {\n        vertical-align: middle;\n    }\n\n    .dataframe tbody tr th {\n        vertical-align: top;\n    }\n\n    .dataframe thead th {\n        text-align: right;\n    }\n</style>\n<table border=\"1\" class=\"dataframe\">\n  <thead>\n    <tr style=\"text-align: right;\">\n      <th></th>\n      <th>주유소명</th>\n      <th>고급휘발유</th>\n      <th>휘발유</th>\n      <th>경유</th>\n    </tr>\n  </thead>\n  <tbody>\n    <tr>\n      <th>0</th>\n      <td>(주)창원이엔지 홍제지점</td>\n      <td>-</td>\n      <td>1299</td>\n      <td>1099</td>\n    </tr>\n    <tr>\n      <th>0</th>\n      <td>행촌에너지 공항주유소</td>\n      <td>-</td>\n      <td>1264</td>\n      <td>1064</td>\n    </tr>\n    <tr>\n      <th>1</th>\n      <td>(주)유카스 에너지 올림픽점</td>\n      <td>-</td>\n      <td>1265</td>\n      <td>1065</td>\n    </tr>\n    <tr>\n      <th>2</th>\n      <td>산성주유소</td>\n      <td>-</td>\n      <td>1275</td>\n      <td>1075</td>\n    </tr>\n    <tr>\n      <th>3</th>\n      <td>(주)한진 김포공항주유소</td>\n      <td>-</td>\n      <td>1319</td>\n      <td>1128</td>\n    </tr>\n  </tbody>\n</table>\n</div>"
     },
     "metadata": {},
     "execution_count": 15
    }
   ],
   "source": [
    "df = pd.DataFrame({\n",
    "    '주유소명': tmp_df['주유소명'],\n",
    "    '고급휘발유': tmp_df['고급휘발유'],\n",
    "    '휘발유': tmp_df['휘발유'],\n",
    "    '경유': tmp_df['경유']\n",
    "})\n",
    "df.head()"
   ]
  }
 ]
}