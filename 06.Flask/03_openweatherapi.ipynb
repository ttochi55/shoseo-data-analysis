{
 "metadata": {
  "language_info": {
   "codemirror_mode": {
    "name": "ipython",
    "version": 3
   },
   "file_extension": ".py",
   "mimetype": "text/x-python",
   "name": "python",
   "nbconvert_exporter": "python",
   "pygments_lexer": "ipython3",
   "version": "3.8.3-final"
  },
  "orig_nbformat": 2,
  "kernelspec": {
   "name": "python3",
   "display_name": "Python 3"
  }
 },
 "nbformat": 4,
 "nbformat_minor": 2,
 "cells": [
  {
   "source": [
    "# Open Weather API"
   ],
   "cell_type": "markdown",
   "metadata": {}
  },
  {
   "cell_type": "code",
   "execution_count": 1,
   "metadata": {},
   "outputs": [],
   "source": [
    "import pandas as pd\n",
    "import numpy as np\n",
    "\n",
    "# A simple, yet elegant HTTP library.\n",
    "import requests\n",
    "from urllib.parse import urlparse, quote\n",
    "\n",
    "# A Fast, Extensible Progress Bar for Python and CLI\n",
    "from tqdm import tqdm\n",
    "import time"
   ]
  },
  {
   "cell_type": "code",
   "execution_count": 2,
   "metadata": {},
   "outputs": [],
   "source": [
    "key_fd = open('config/openweatherapikey.txt', mode='r')\n",
    "API_KEY = key_fd.read(100)\n",
    "key_fd.close()"
   ]
  },
  {
   "cell_type": "code",
   "execution_count": 3,
   "metadata": {},
   "outputs": [
    {
     "output_type": "execute_result",
     "data": {
      "text/plain": [
       "(77, 26)"
      ]
     },
     "metadata": {},
     "execution_count": 3
    }
   ],
   "source": [
    "df = pd.read_csv('data/kakaomapapi.csv')\n",
    "df.shape"
   ]
  },
  {
   "cell_type": "code",
   "execution_count": 4,
   "metadata": {},
   "outputs": [
    {
     "output_type": "stream",
     "name": "stderr",
     "text": [
      "100%|██████████| 77/77 [00:18<00:00,  4.11it/s]\n"
     ]
    }
   ],
   "source": [
    "df['wx_main'] = ''\n",
    "df['wx_description'] = ''\n",
    "df['wx_temp'] = np.nan\n",
    "\n",
    "for i in tqdm(df.index):\n",
    "    try:\n",
    "        url = \"http://api.openweathermap.org/data/2.5/weather\"\n",
    "        params = { \n",
    "            'lat': df['lat'][i],\n",
    "            'lon': df['lon'][i],\n",
    "            'units': 'metric', \n",
    "            'lang': 'kr', \n",
    "            'appid': API_KEY\n",
    "        }\n",
    "        api = requests.get(url, params=params).json()\n",
    "\n",
    "        wx_weather = api['weather'][0]\n",
    "        wx_main = api['main']\n",
    "\n",
    "        df['wx_main'][i] = wx_weather['main']\n",
    "        df['wx_description'][i] = wx_weather['description']\n",
    "\n",
    "        temps = []\n",
    "        temps.append('{:.1f}'.format(wx_main['temp']))\n",
    "        temps.append(wx_main['temp_min'])\n",
    "        temps.append(wx_main['temp_max'])\n",
    "\n",
    "        df['wx_temp'][i] = \"/\".join(map(str, temps))\n",
    "\n",
    "    except Exception as e:\n",
    "        print(i, e)"
   ]
  },
  {
   "cell_type": "code",
   "execution_count": 5,
   "metadata": {},
   "outputs": [],
   "source": [
    "df.to_csv('data/openweatherapi.csv', sep=',', encoding='utf8', index=False)"
   ]
  }
 ]
}