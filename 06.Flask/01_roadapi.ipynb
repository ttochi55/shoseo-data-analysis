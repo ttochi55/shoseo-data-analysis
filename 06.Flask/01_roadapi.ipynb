{
 "metadata": {
  "language_info": {
   "codemirror_mode": {
    "name": "ipython",
    "version": 3
   },
   "file_extension": ".py",
   "mimetype": "text/x-python",
   "name": "python",
   "nbconvert_exporter": "python",
   "pygments_lexer": "ipython3",
   "version": "3.8.3-final"
  },
  "orig_nbformat": 2,
  "kernelspec": {
   "name": "python3",
   "display_name": "Python 3"
  }
 },
 "nbformat": 4,
 "nbformat_minor": 2,
 "cells": [
  {
   "source": [
    "# 행정안정부 도로명주소 API"
   ],
   "cell_type": "markdown",
   "metadata": {}
  },
  {
   "cell_type": "code",
   "execution_count": 1,
   "metadata": {},
   "outputs": [],
   "source": [
    "import pandas as pd\n",
    "import numpy as np\n",
    "\n",
    "# A simple, yet elegant HTTP library.\n",
    "import requests\n",
    "from urllib.parse import urlparse, quote\n",
    "\n",
    "# A Fast, Extensible Progress Bar for Python and CLI\n",
    "from tqdm import tqdm\n",
    "import time"
   ]
  },
  {
   "cell_type": "code",
   "execution_count": 2,
   "metadata": {},
   "outputs": [],
   "source": [
    "key_fd = open('config/roadapikey.txt', mode='r')\n",
    "API_KEY = key_fd.read(100)\n",
    "key_fd.close()"
   ]
  },
  {
   "cell_type": "code",
   "execution_count": 3,
   "metadata": {},
   "outputs": [
    {
     "output_type": "execute_result",
     "data": {
      "text/plain": [
       "(93253, 39)"
      ]
     },
     "metadata": {},
     "execution_count": 3
    }
   ],
   "source": [
    "read_df = pd.read_csv('data/coffeeshop.csv', encoding='euc-kr')\n",
    "read_df.shape"
   ]
  },
  {
   "cell_type": "code",
   "execution_count": 4,
   "metadata": {},
   "outputs": [
    {
     "output_type": "execute_result",
     "data": {
      "text/plain": [
       "               상가업소번호  지점명  상권업종대분류코드  상권업종대분류명  상권업종중분류코드  상권업종중분류명  \\\n",
       "상호명                                                                    \n",
       "더본코리아_빽다방등촌         1    1          1         1          1         1   \n",
       "마스터키이디야마곡나루역점       1    0          1         1          1         1   \n",
       "빽다방                 5    5          5         5          5         5   \n",
       "빽다방-목동사거리점          1    1          1         1          1         1   \n",
       "빽다방방화사거리점           1    1          1         1          1         1   \n",
       "\n",
       "               상권업종소분류코드  상권업종소분류명  표준산업분류코드  표준산업분류명  ...  건물관리번호  건물명  \\\n",
       "상호명                                                    ...                \n",
       "더본코리아_빽다방등촌            1         1         1        1  ...       1    1   \n",
       "마스터키이디야마곡나루역점          1         1         1        1  ...       1    1   \n",
       "빽다방                    5         5         5        5  ...       5    5   \n",
       "빽다방-목동사거리점             1         1         1        1  ...       1    1   \n",
       "빽다방방화사거리점              1         1         1        1  ...       1    1   \n",
       "\n",
       "               도로명주소  구우편번호  신우편번호  동정보  층정보  호정보  경도  위도  \n",
       "상호명                                                        \n",
       "더본코리아_빽다방등촌        1      1      1    0    1    1   1   1  \n",
       "마스터키이디야마곡나루역점      1      1      1    0    1    1   1   1  \n",
       "빽다방                5      5      5    0    5    0   5   5  \n",
       "빽다방-목동사거리점         1      1      1    0    1    0   1   1  \n",
       "빽다방방화사거리점          1      1      1    0    1    0   1   1  \n",
       "\n",
       "[5 rows x 38 columns]"
      ],
      "text/html": "<div>\n<style scoped>\n    .dataframe tbody tr th:only-of-type {\n        vertical-align: middle;\n    }\n\n    .dataframe tbody tr th {\n        vertical-align: top;\n    }\n\n    .dataframe thead th {\n        text-align: right;\n    }\n</style>\n<table border=\"1\" class=\"dataframe\">\n  <thead>\n    <tr style=\"text-align: right;\">\n      <th></th>\n      <th>상가업소번호</th>\n      <th>지점명</th>\n      <th>상권업종대분류코드</th>\n      <th>상권업종대분류명</th>\n      <th>상권업종중분류코드</th>\n      <th>상권업종중분류명</th>\n      <th>상권업종소분류코드</th>\n      <th>상권업종소분류명</th>\n      <th>표준산업분류코드</th>\n      <th>표준산업분류명</th>\n      <th>...</th>\n      <th>건물관리번호</th>\n      <th>건물명</th>\n      <th>도로명주소</th>\n      <th>구우편번호</th>\n      <th>신우편번호</th>\n      <th>동정보</th>\n      <th>층정보</th>\n      <th>호정보</th>\n      <th>경도</th>\n      <th>위도</th>\n    </tr>\n    <tr>\n      <th>상호명</th>\n      <th></th>\n      <th></th>\n      <th></th>\n      <th></th>\n      <th></th>\n      <th></th>\n      <th></th>\n      <th></th>\n      <th></th>\n      <th></th>\n      <th></th>\n      <th></th>\n      <th></th>\n      <th></th>\n      <th></th>\n      <th></th>\n      <th></th>\n      <th></th>\n      <th></th>\n      <th></th>\n      <th></th>\n    </tr>\n  </thead>\n  <tbody>\n    <tr>\n      <th>더본코리아_빽다방등촌</th>\n      <td>1</td>\n      <td>1</td>\n      <td>1</td>\n      <td>1</td>\n      <td>1</td>\n      <td>1</td>\n      <td>1</td>\n      <td>1</td>\n      <td>1</td>\n      <td>1</td>\n      <td>...</td>\n      <td>1</td>\n      <td>1</td>\n      <td>1</td>\n      <td>1</td>\n      <td>1</td>\n      <td>0</td>\n      <td>1</td>\n      <td>1</td>\n      <td>1</td>\n      <td>1</td>\n    </tr>\n    <tr>\n      <th>마스터키이디야마곡나루역점</th>\n      <td>1</td>\n      <td>0</td>\n      <td>1</td>\n      <td>1</td>\n      <td>1</td>\n      <td>1</td>\n      <td>1</td>\n      <td>1</td>\n      <td>1</td>\n      <td>1</td>\n      <td>...</td>\n      <td>1</td>\n      <td>1</td>\n      <td>1</td>\n      <td>1</td>\n      <td>1</td>\n      <td>0</td>\n      <td>1</td>\n      <td>1</td>\n      <td>1</td>\n      <td>1</td>\n    </tr>\n    <tr>\n      <th>빽다방</th>\n      <td>5</td>\n      <td>5</td>\n      <td>5</td>\n      <td>5</td>\n      <td>5</td>\n      <td>5</td>\n      <td>5</td>\n      <td>5</td>\n      <td>5</td>\n      <td>5</td>\n      <td>...</td>\n      <td>5</td>\n      <td>5</td>\n      <td>5</td>\n      <td>5</td>\n      <td>5</td>\n      <td>0</td>\n      <td>5</td>\n      <td>0</td>\n      <td>5</td>\n      <td>5</td>\n    </tr>\n    <tr>\n      <th>빽다방-목동사거리점</th>\n      <td>1</td>\n      <td>1</td>\n      <td>1</td>\n      <td>1</td>\n      <td>1</td>\n      <td>1</td>\n      <td>1</td>\n      <td>1</td>\n      <td>1</td>\n      <td>1</td>\n      <td>...</td>\n      <td>1</td>\n      <td>1</td>\n      <td>1</td>\n      <td>1</td>\n      <td>1</td>\n      <td>0</td>\n      <td>1</td>\n      <td>0</td>\n      <td>1</td>\n      <td>1</td>\n    </tr>\n    <tr>\n      <th>빽다방방화사거리점</th>\n      <td>1</td>\n      <td>1</td>\n      <td>1</td>\n      <td>1</td>\n      <td>1</td>\n      <td>1</td>\n      <td>1</td>\n      <td>1</td>\n      <td>1</td>\n      <td>1</td>\n      <td>...</td>\n      <td>1</td>\n      <td>1</td>\n      <td>1</td>\n      <td>1</td>\n      <td>1</td>\n      <td>0</td>\n      <td>1</td>\n      <td>0</td>\n      <td>1</td>\n      <td>1</td>\n    </tr>\n  </tbody>\n</table>\n<p>5 rows × 38 columns</p>\n</div>"
     },
     "metadata": {},
     "execution_count": 4
    }
   ],
   "source": [
    "roadaddr = '서울특별시 강서구'\n",
    "cafes = '스타벅스|이디야|빽다방|투썸'\n",
    "df = read_df.query(\"도로명주소.str.contains(@roadaddr)\", engine='python') \\\n",
    "    .query(\"상호명.str.contains(@cafes)\", engine='python')\n",
    "df.index = np.arange(0, len(df))\n",
    "df.groupby('상호명').count().head()"
   ]
  },
  {
   "cell_type": "code",
   "execution_count": 5,
   "metadata": {
    "tags": []
   },
   "outputs": [
    {
     "output_type": "stream",
     "name": "stderr",
     "text": [
      "100%|██████████| 77/77 [00:27<00:00,  2.82it/s]\n"
     ]
    }
   ],
   "source": [
    "addrs = []\n",
    "for i in tqdm(df.index):\n",
    "    try:\n",
    "        url = \"https://www.juso.go.kr/addrlink/addrLinkApi.do\"\n",
    "        params = { \n",
    "            'confmKey': API_KEY, \n",
    "            'currentPage': 1, \n",
    "            'countPerPage': 5, \n",
    "            'keyword': df['도로명주소'][i], \n",
    "            'resultType': 'json' \n",
    "        }\n",
    "        api = requests.get(url, params=params).json()\n",
    "        addrs.append(api['results']['juso'][0])\n",
    "    except Exception as e:\n",
    "        print(i, e)"
   ]
  },
  {
   "cell_type": "code",
   "execution_count": 6,
   "metadata": {},
   "outputs": [],
   "source": [
    "df = pd.DataFrame(addrs)\n",
    "df.to_csv('data/roadapi.csv', sep=',', encoding='utf8', index=False)"
   ]
  }
 ]
}