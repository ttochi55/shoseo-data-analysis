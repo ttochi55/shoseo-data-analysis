{
 "metadata": {
  "language_info": {
   "codemirror_mode": {
    "name": "ipython",
    "version": 3
   },
   "file_extension": ".py",
   "mimetype": "text/x-python",
   "name": "python",
   "nbconvert_exporter": "python",
   "pygments_lexer": "ipython3",
   "version": "3.8.3-final"
  },
  "orig_nbformat": 2,
  "kernelspec": {
   "name": "python3",
   "display_name": "Python 3"
  }
 },
 "nbformat": 4,
 "nbformat_minor": 2,
 "cells": [
  {
   "source": [
    "# Kakao Map API"
   ],
   "cell_type": "markdown",
   "metadata": {}
  },
  {
   "cell_type": "code",
   "execution_count": 1,
   "metadata": {},
   "outputs": [],
   "source": [
    "import pandas as pd\n",
    "import numpy as np\n",
    "\n",
    "# A simple, yet elegant HTTP library.\n",
    "import requests\n",
    "from urllib.parse import urlparse, quote\n",
    "\n",
    "# A Fast, Extensible Progress Bar for Python and CLI\n",
    "from tqdm import tqdm\n",
    "import time"
   ]
  },
  {
   "cell_type": "code",
   "execution_count": 2,
   "metadata": {},
   "outputs": [],
   "source": [
    "key_fd = open('config/kakaomaprestapikey.txt', mode='r')\n",
    "API_KEY = key_fd.read(100)\n",
    "key_fd.close()"
   ]
  },
  {
   "cell_type": "code",
   "execution_count": 3,
   "metadata": {},
   "outputs": [
    {
     "output_type": "execute_result",
     "data": {
      "text/plain": [
       "(77, 24)"
      ]
     },
     "metadata": {},
     "execution_count": 3
    }
   ],
   "source": [
    "df = pd.read_csv('data/roadapi.csv')\n",
    "df.shape"
   ]
  },
  {
   "cell_type": "code",
   "execution_count": 4,
   "metadata": {},
   "outputs": [],
   "source": [
    "def getCoords(query = ''):\n",
    "    url = \"https://dapi.kakao.com/v2/local/search/address.json\"\n",
    "    params = { \n",
    "        'query': query\n",
    "    }\n",
    "    headers = { \"Authorization\": \"KakaoAK \" + API_KEY }\n",
    "    api = requests.get(url, params=params, headers=headers).json()\n",
    "    coords = {}\n",
    "    coords.update({ 'x': float(api['documents'][0]['x']) })\n",
    "    coords.update({ 'y': float(api['documents'][0]['y']) })\n",
    "    return coords"
   ]
  },
  {
   "cell_type": "code",
   "execution_count": 5,
   "metadata": {},
   "outputs": [
    {
     "output_type": "stream",
     "name": "stderr",
     "text": [
      "100%|██████████| 77/77 [00:03<00:00, 21.53it/s]\n"
     ]
    }
   ],
   "source": [
    "df['lat'] = np.nan\n",
    "df['lon'] = np.nan\n",
    "df.index = np.arange(0, len(df))\n",
    "for i in tqdm(df.index):\n",
    "    try:\n",
    "        addr = df['roadAddr'][i]\n",
    "        coords = getCoords(addr)\n",
    "        df['lat'][i] = coords['y']\n",
    "        df['lon'][i] = coords['x']\n",
    "    except Exception as e:\n",
    "        print(i, e)"
   ]
  },
  {
   "cell_type": "code",
   "execution_count": 6,
   "metadata": {},
   "outputs": [],
   "source": [
    "df.dropna(subset=['lat', 'lon'], inplace=True)\n",
    "df.index = np.arange(0, len(df))\n",
    "df.to_csv('data/kakaomapapi.csv', sep=',', encoding='utf8', index=False)"
   ]
  }
 ]
}